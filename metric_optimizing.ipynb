{
 "cells": [
  {
   "cell_type": "code",
   "execution_count": 1,
   "metadata": {},
   "outputs": [],
   "source": [
    "import os\n",
    "from fig_gen  import FigureGenerator as fg\n",
    "from sklearn.metrics import r2_score\n",
    "import pandas as pd\n",
    "import numpy as np\n",
    "import matplotlib.pyplot as plt\n",
    "from tqdm import tqdm\n",
    "from pathlib import Path\n",
    "import seaborn as sns\n",
    "import sklearn\n",
    "from sklearn.linear_model import LinearRegression\n",
    "%matplotlib inline\n",
    "import missingno as msno\n",
    "np.random.seed(19)\n",
    "from matplotlib.pyplot import figure\n",
    "data_directory = '/work2/05067/nagyz/austin_energy/data/'\n",
    "filepaths = [os.path.join(data_directory,f) for f in os.listdir(data_directory) if f.endswith('.csv')]\n",
    "from datetime import datetime \n",
    "from Graphs import load_data,load_graph_kwh,yearly_graph_kwh,load_graph_count,monthly_graph_kwh,daily_graph_kwh\n",
    "from Graphs import load_graph_kwh_and_count,yearly_graph_kwh_and_count,monthly_graph_kwh_and_count,daily_graph_kwh_and_count\n",
    "from agg_and_heatmap_functions import length,prav3,prav2,prav1,dinostorm,plot_aggraph,heatmap,finalheatmap\n",
    "from sklearn.model_selection import train_test_split\n",
    "from sklearn.pipeline import make_pipeline\n",
    "from sklearn.preprocessing import StandardScaler\n",
    "from sklearn.linear_model import RidgeCV, SGDRegressor\n",
    "from sklearn.ensemble import AdaBoostRegressor, RandomForestRegressor,GradientBoostingRegressor\n",
    "from sklearn.utils import resample\n",
    "from sklearn.linear_model import LinearRegression\n",
    "from sklearn.metrics import mean_squared_error\n",
    "from sklearn.ensemble import RandomForestClassifier\n",
    "from sklearn.linear_model import LassoCV\n",
    "from sklearn.linear_model import Ridge,Lasso\n",
    "from sklearn.model_selection import GridSearchCV,KFold\n",
    "from sklearn.neural_network import MLPRegressor\n",
    "from sklearn.model_selection import RandomizedSearchCV\n",
    "import warnings\n",
    "warnings.filterwarnings('ignore')\n",
    "from sklearn.model_selection import cross_val_score\n",
    "from sklearn.metrics import accuracy_score\n",
    "from sklearn.metrics import mean_squared_error\n",
    "from sklearn.preprocessing import PolynomialFeatures\n",
    "weather_daily=pd.read_csv('Austin_weather_daily.csv')\n",
    "weather_daily['time']=pd.to_datetime(weather_daily['time'],utc=False)\n",
    "weather_daily1=weather_daily.set_index('time',drop=True)\n",
    "weather_austin_daily=weather_daily1['tavg']\n",
    "# NOT UTC TIME\n",
    "weather_Pred=pd.read_csv('Austin_hourly.csv')\n",
    "weather_Pred['time']=pd.to_datetime(weather_Pred['time'])\n",
    "weather_pred1=weather_Pred.set_index('time',drop=True)\n",
    "weather_austin_hourl_pred=weather_pred1['temp']\n",
    "from sklearn.preprocessing import MinMaxScaler\n",
    "import time\n",
    "from sklearn.neighbors import LocalOutlierFactor\n",
    "from sklearn.cluster import KMeans\n",
    "from sklearn.metrics import silhouette_score\n",
    "from adtk.data import validate_series\n",
    "from adtk.visualization import plot\n",
    "from adtk.detector import SeasonalAD\n",
    "from adtk.data import to_events\n",
    "from adtk.detector import OutlierDetector\n",
    "from scipy.stats import t\n",
    "import torch\n",
    "import time\n",
    "import torchvision\n",
    "import torchvision.transforms as transforms\n",
    "import torchvision.datasets as datasets\n",
    "import torch.nn as nn\n",
    "import random\n",
    "import torch.optim as optim\n",
    "from torch.utils.data import Dataset, DataLoader\n",
    "import copy\n",
    "from sklearn.metrics import roc_auc_score,recall_score\n",
    "from torch.utils.data import TensorDataset\n",
    "from model_fns import clean_data,make_features,preprocess_data,prediction_model,check_outlier,split_sequences\n",
    "from model_fns import SelfAttention,Encoder,Decoder,RecurrentAutoencoder,train_lstmae_model,val_lstmae_model,find_threshold,predict_anomaly"
   ]
  },
  {
   "cell_type": "code",
   "execution_count": 2,
   "metadata": {},
   "outputs": [],
   "source": [
    "id_list = pd.read_csv('buildingInfo.csv')\n",
    "\n",
    "#id_list.drop('Unnamed: 0',axis=1,inplace=True)\n",
    "id_list['buildingType'].unique()\n",
    "res_type = ['SINGLE FAMILY', 'MULTIFAMILY',  'FOURPLEX', \n",
    "            'DUPLEX', 'CONDOS', 'CONDO (STACKED)', \n",
    "            '1 FAM DWELLING, ACCESSORY DWELLING UNIT',\n",
    "            'TOWNHOMES','MOHO SINGLE PP', \n",
    "            '1 FAM DWELLING, GARAGE APARTMENT', 'MOHO DOUBLE PP',\n",
    "            'MOHO SINGLE REAL', 'MOHO DOUBLE REAL', 'TRIPLEX', \n",
    "            '1 FAM DWELLING, MOHO DOUBLE REAL',\n",
    "           '1 FAM DWELLING, MOHO SINGLE REAL']\n",
    "res_type_id_list = id_list[id_list['buildingType'].isin(res_type)].copy()\n",
    "good_servicepoints_without_sampling=pd.read_csv('good_sp_without_sampling.csv')\n",
    "good_servicepoints_with_sampling=pd.read_csv('good_sp_with_sampling.csv')"
   ]
  },
  {
   "cell_type": "code",
   "execution_count": 3,
   "metadata": {},
   "outputs": [
    {
     "data": {
      "text/html": [
       "<div>\n",
       "<style scoped>\n",
       "    .dataframe tbody tr th:only-of-type {\n",
       "        vertical-align: middle;\n",
       "    }\n",
       "\n",
       "    .dataframe tbody tr th {\n",
       "        vertical-align: top;\n",
       "    }\n",
       "\n",
       "    .dataframe thead th {\n",
       "        text-align: right;\n",
       "    }\n",
       "</style>\n",
       "<table border=\"1\" class=\"dataframe\">\n",
       "  <thead>\n",
       "    <tr style=\"text-align: right;\">\n",
       "      <th></th>\n",
       "      <th>Service Point</th>\n",
       "      <th>zipCode</th>\n",
       "      <th>rate</th>\n",
       "      <th>buildingType</th>\n",
       "      <th>meterCount</th>\n",
       "      <th>squareFt</th>\n",
       "    </tr>\n",
       "  </thead>\n",
       "  <tbody>\n",
       "    <tr>\n",
       "      <th>4</th>\n",
       "      <td>-1608</td>\n",
       "      <td>78759</td>\n",
       "      <td>E-RES</td>\n",
       "      <td>SINGLE FAMILY</td>\n",
       "      <td>7996</td>\n",
       "      <td>17723356.0</td>\n",
       "    </tr>\n",
       "    <tr>\n",
       "      <th>31</th>\n",
       "      <td>-1581</td>\n",
       "      <td>78758</td>\n",
       "      <td>E-RES</td>\n",
       "      <td>SINGLE FAMILY</td>\n",
       "      <td>5363</td>\n",
       "      <td>8224307.5</td>\n",
       "    </tr>\n",
       "    <tr>\n",
       "      <th>66</th>\n",
       "      <td>-1546</td>\n",
       "      <td>78757</td>\n",
       "      <td>E-RES</td>\n",
       "      <td>SINGLE FAMILY</td>\n",
       "      <td>6174</td>\n",
       "      <td>8977316.0</td>\n",
       "    </tr>\n",
       "    <tr>\n",
       "      <th>84</th>\n",
       "      <td>-1528</td>\n",
       "      <td>78756</td>\n",
       "      <td>E-RES</td>\n",
       "      <td>SINGLE FAMILY</td>\n",
       "      <td>1727</td>\n",
       "      <td>2566446.0</td>\n",
       "    </tr>\n",
       "    <tr>\n",
       "      <th>102</th>\n",
       "      <td>-1510</td>\n",
       "      <td>78754</td>\n",
       "      <td>E-RES</td>\n",
       "      <td>SINGLE FAMILY</td>\n",
       "      <td>3752</td>\n",
       "      <td>5866178.5</td>\n",
       "    </tr>\n",
       "  </tbody>\n",
       "</table>\n",
       "</div>"
      ],
      "text/plain": [
       "     Service Point  zipCode   rate   buildingType  meterCount    squareFt\n",
       "4            -1608    78759  E-RES  SINGLE FAMILY        7996  17723356.0\n",
       "31           -1581    78758  E-RES  SINGLE FAMILY        5363   8224307.5\n",
       "66           -1546    78757  E-RES  SINGLE FAMILY        6174   8977316.0\n",
       "84           -1528    78756  E-RES  SINGLE FAMILY        1727   2566446.0\n",
       "102          -1510    78754  E-RES  SINGLE FAMILY        3752   5866178.5"
      ]
     },
     "execution_count": 3,
     "metadata": {},
     "output_type": "execute_result"
    }
   ],
   "source": [
    "single_Famiy=res_type_id_list[res_type_id_list['buildingType']=='SINGLE FAMILY']\n",
    "E_Res_singlefamily=single_Famiy[single_Famiy['rate']=='E-RES']\n",
    "E_Res_singlefamily.head()"
   ]
  },
  {
   "cell_type": "code",
   "execution_count": 4,
   "metadata": {},
   "outputs": [
    {
     "name": "stderr",
     "output_type": "stream",
     "text": [
      "\r",
      "  0%|          | 0/46 [00:00<?, ?it/s]"
     ]
    },
    {
     "name": "stdout",
     "output_type": "stream",
     "text": [
      "0.9663\n"
     ]
    },
    {
     "name": "stderr",
     "output_type": "stream",
     "text": [
      "\r",
      "  2%|▏         | 1/46 [02:22<1:47:09, 142.89s/it]"
     ]
    },
    {
     "name": "stdout",
     "output_type": "stream",
     "text": [
      "0.9566\n"
     ]
    },
    {
     "name": "stderr",
     "output_type": "stream",
     "text": [
      "\r",
      "  4%|▍         | 2/46 [04:43<1:43:38, 141.34s/it]"
     ]
    },
    {
     "name": "stdout",
     "output_type": "stream",
     "text": [
      "0.9381\n"
     ]
    },
    {
     "name": "stderr",
     "output_type": "stream",
     "text": [
      "\r",
      "  7%|▋         | 3/46 [06:55<1:38:21, 137.25s/it]"
     ]
    },
    {
     "name": "stdout",
     "output_type": "stream",
     "text": [
      "4.0096\n"
     ]
    },
    {
     "name": "stderr",
     "output_type": "stream",
     "text": [
      "\r",
      "  9%|▊         | 4/46 [09:13<1:36:13, 137.47s/it]"
     ]
    },
    {
     "name": "stdout",
     "output_type": "stream",
     "text": [
      "1.3062\n"
     ]
    },
    {
     "name": "stderr",
     "output_type": "stream",
     "text": [
      "\r",
      " 11%|█         | 5/46 [11:31<1:34:05, 137.71s/it]"
     ]
    },
    {
     "name": "stdout",
     "output_type": "stream",
     "text": [
      "1.0017\n"
     ]
    },
    {
     "name": "stderr",
     "output_type": "stream",
     "text": [
      "\r",
      " 13%|█▎        | 6/46 [13:48<1:31:38, 137.46s/it]"
     ]
    },
    {
     "name": "stdout",
     "output_type": "stream",
     "text": [
      "0.8686\n"
     ]
    },
    {
     "name": "stderr",
     "output_type": "stream",
     "text": [
      "\r",
      " 15%|█▌        | 7/46 [16:07<1:29:36, 137.86s/it]"
     ]
    },
    {
     "name": "stdout",
     "output_type": "stream",
     "text": [
      "1.6691\n"
     ]
    },
    {
     "name": "stderr",
     "output_type": "stream",
     "text": [
      "\r",
      " 17%|█▋        | 8/46 [18:28<1:28:04, 139.07s/it]"
     ]
    },
    {
     "name": "stdout",
     "output_type": "stream",
     "text": [
      "1.0286\n"
     ]
    },
    {
     "name": "stderr",
     "output_type": "stream",
     "text": [
      "\r",
      " 20%|█▉        | 9/46 [20:46<1:25:34, 138.77s/it]"
     ]
    },
    {
     "name": "stdout",
     "output_type": "stream",
     "text": [
      "1.4637\n"
     ]
    },
    {
     "name": "stderr",
     "output_type": "stream",
     "text": [
      "\r",
      " 22%|██▏       | 10/46 [22:58<1:21:55, 136.54s/it]"
     ]
    },
    {
     "name": "stdout",
     "output_type": "stream",
     "text": [
      "1.1482\n"
     ]
    },
    {
     "name": "stderr",
     "output_type": "stream",
     "text": [
      "\r",
      " 24%|██▍       | 11/46 [25:10<1:18:49, 135.14s/it]"
     ]
    },
    {
     "name": "stdout",
     "output_type": "stream",
     "text": [
      "1.5045\n"
     ]
    },
    {
     "name": "stderr",
     "output_type": "stream",
     "text": [
      "\r",
      " 26%|██▌       | 12/46 [27:19<1:15:35, 133.41s/it]"
     ]
    },
    {
     "name": "stdout",
     "output_type": "stream",
     "text": [
      "1.0469\n"
     ]
    },
    {
     "name": "stderr",
     "output_type": "stream",
     "text": [
      "\r",
      " 28%|██▊       | 13/46 [29:29<1:12:40, 132.14s/it]"
     ]
    },
    {
     "name": "stdout",
     "output_type": "stream",
     "text": [
      "1.7139\n"
     ]
    },
    {
     "name": "stderr",
     "output_type": "stream",
     "text": [
      "\r",
      " 30%|███       | 14/46 [31:45<1:11:08, 133.40s/it]"
     ]
    },
    {
     "name": "stdout",
     "output_type": "stream",
     "text": [
      "1.7616\n"
     ]
    },
    {
     "name": "stderr",
     "output_type": "stream",
     "text": [
      "\r",
      " 33%|███▎      | 15/46 [33:53<1:08:06, 131.81s/it]"
     ]
    },
    {
     "name": "stdout",
     "output_type": "stream",
     "text": [
      "1.6034\n"
     ]
    },
    {
     "name": "stderr",
     "output_type": "stream",
     "text": [
      "\r",
      " 35%|███▍      | 16/46 [36:02<1:05:26, 130.88s/it]"
     ]
    },
    {
     "name": "stdout",
     "output_type": "stream",
     "text": [
      "1.195\n"
     ]
    },
    {
     "name": "stderr",
     "output_type": "stream",
     "text": [
      "\r",
      " 37%|███▋      | 17/46 [38:10<1:02:53, 130.13s/it]"
     ]
    },
    {
     "name": "stdout",
     "output_type": "stream",
     "text": [
      "3.181\n"
     ]
    },
    {
     "name": "stderr",
     "output_type": "stream",
     "text": [
      "\r",
      " 39%|███▉      | 18/46 [40:19<1:00:36, 129.88s/it]"
     ]
    },
    {
     "name": "stdout",
     "output_type": "stream",
     "text": [
      "1.6759\n"
     ]
    },
    {
     "name": "stderr",
     "output_type": "stream",
     "text": [
      "\r",
      " 41%|████▏     | 19/46 [42:37<59:31, 132.28s/it]  "
     ]
    },
    {
     "name": "stdout",
     "output_type": "stream",
     "text": [
      "3.9827\n"
     ]
    },
    {
     "name": "stderr",
     "output_type": "stream",
     "text": [
      "\r",
      " 43%|████▎     | 20/46 [44:46<56:54, 131.31s/it]"
     ]
    },
    {
     "name": "stdout",
     "output_type": "stream",
     "text": [
      "7.5871\n"
     ]
    },
    {
     "name": "stderr",
     "output_type": "stream",
     "text": [
      "\r",
      " 46%|████▌     | 21/46 [45:18<42:15, 101.40s/it]"
     ]
    },
    {
     "name": "stdout",
     "output_type": "stream",
     "text": [
      "0.817\n"
     ]
    },
    {
     "name": "stderr",
     "output_type": "stream",
     "text": [
      "\r",
      " 48%|████▊     | 22/46 [47:27<43:52, 109.67s/it]"
     ]
    },
    {
     "name": "stdout",
     "output_type": "stream",
     "text": [
      "1.1795\n"
     ]
    },
    {
     "name": "stderr",
     "output_type": "stream",
     "text": [
      "\r",
      " 50%|█████     | 23/46 [49:36<44:17, 115.53s/it]"
     ]
    },
    {
     "name": "stdout",
     "output_type": "stream",
     "text": [
      "1.3618\n"
     ]
    },
    {
     "name": "stderr",
     "output_type": "stream",
     "text": [
      "\r",
      " 52%|█████▏    | 24/46 [51:45<43:50, 119.58s/it]"
     ]
    },
    {
     "name": "stdout",
     "output_type": "stream",
     "text": [
      "0.9527\n"
     ]
    },
    {
     "name": "stderr",
     "output_type": "stream",
     "text": [
      "\r",
      " 54%|█████▍    | 25/46 [53:54<42:48, 122.32s/it]"
     ]
    },
    {
     "name": "stdout",
     "output_type": "stream",
     "text": [
      "2.2233\n"
     ]
    },
    {
     "name": "stderr",
     "output_type": "stream",
     "text": [
      "\r",
      " 57%|█████▋    | 26/46 [56:03<41:26, 124.34s/it]"
     ]
    },
    {
     "name": "stdout",
     "output_type": "stream",
     "text": [
      "1.2779\n"
     ]
    },
    {
     "name": "stderr",
     "output_type": "stream",
     "text": [
      "\r",
      " 59%|█████▊    | 27/46 [58:12<39:48, 125.73s/it]"
     ]
    },
    {
     "name": "stdout",
     "output_type": "stream",
     "text": [
      "1.219\n"
     ]
    },
    {
     "name": "stderr",
     "output_type": "stream",
     "text": [
      "\r",
      " 61%|██████    | 28/46 [1:00:21<38:02, 126.79s/it]"
     ]
    },
    {
     "name": "stdout",
     "output_type": "stream",
     "text": [
      "1.5165\n"
     ]
    },
    {
     "name": "stderr",
     "output_type": "stream",
     "text": [
      "\r",
      " 63%|██████▎   | 29/46 [1:02:30<36:05, 127.41s/it]"
     ]
    },
    {
     "name": "stdout",
     "output_type": "stream",
     "text": [
      "1.5569\n"
     ]
    },
    {
     "name": "stderr",
     "output_type": "stream",
     "text": [
      "\r",
      " 65%|██████▌   | 30/46 [1:04:39<34:05, 127.86s/it]"
     ]
    },
    {
     "name": "stdout",
     "output_type": "stream",
     "text": [
      "2.3553\n"
     ]
    },
    {
     "name": "stderr",
     "output_type": "stream",
     "text": [
      "\r",
      " 67%|██████▋   | 31/46 [1:06:48<32:01, 128.11s/it]"
     ]
    },
    {
     "name": "stdout",
     "output_type": "stream",
     "text": [
      "2.3512\n"
     ]
    },
    {
     "name": "stderr",
     "output_type": "stream",
     "text": [
      "\r",
      " 70%|██████▉   | 32/46 [1:08:56<29:55, 128.25s/it]"
     ]
    },
    {
     "name": "stdout",
     "output_type": "stream",
     "text": [
      "2.9194\n"
     ]
    },
    {
     "name": "stderr",
     "output_type": "stream",
     "text": [
      "\r",
      " 72%|███████▏  | 33/46 [1:11:05<27:47, 128.28s/it]"
     ]
    },
    {
     "name": "stdout",
     "output_type": "stream",
     "text": [
      "1.2365\n"
     ]
    },
    {
     "name": "stderr",
     "output_type": "stream",
     "text": [
      "\r",
      " 74%|███████▍  | 34/46 [1:13:14<25:41, 128.47s/it]"
     ]
    },
    {
     "name": "stdout",
     "output_type": "stream",
     "text": [
      "1.3643\n"
     ]
    },
    {
     "name": "stderr",
     "output_type": "stream",
     "text": [
      "\r",
      " 76%|███████▌  | 35/46 [1:15:23<23:35, 128.65s/it]"
     ]
    },
    {
     "name": "stdout",
     "output_type": "stream",
     "text": [
      "2.8347\n"
     ]
    },
    {
     "name": "stderr",
     "output_type": "stream",
     "text": [
      "\r",
      " 78%|███████▊  | 36/46 [1:17:32<21:28, 128.81s/it]"
     ]
    },
    {
     "name": "stdout",
     "output_type": "stream",
     "text": [
      "1.6865\n"
     ]
    },
    {
     "name": "stderr",
     "output_type": "stream",
     "text": [
      "\r",
      " 80%|████████  | 37/46 [1:19:41<19:20, 128.95s/it]"
     ]
    },
    {
     "name": "stdout",
     "output_type": "stream",
     "text": [
      "3.1623\n"
     ]
    },
    {
     "name": "stderr",
     "output_type": "stream",
     "text": [
      "\r",
      " 83%|████████▎ | 38/46 [1:21:50<17:12, 129.07s/it]"
     ]
    },
    {
     "name": "stdout",
     "output_type": "stream",
     "text": [
      "1.1495\n"
     ]
    },
    {
     "name": "stderr",
     "output_type": "stream",
     "text": [
      "\r",
      " 85%|████████▍ | 39/46 [1:24:00<15:04, 129.16s/it]"
     ]
    },
    {
     "name": "stdout",
     "output_type": "stream",
     "text": [
      "1.0388\n"
     ]
    },
    {
     "name": "stderr",
     "output_type": "stream",
     "text": [
      "\r",
      " 87%|████████▋ | 40/46 [1:26:09<12:55, 129.18s/it]"
     ]
    },
    {
     "name": "stdout",
     "output_type": "stream",
     "text": [
      "4.5056\n"
     ]
    },
    {
     "name": "stderr",
     "output_type": "stream",
     "text": [
      "\r",
      " 89%|████████▉ | 41/46 [1:27:53<10:08, 121.76s/it]"
     ]
    },
    {
     "name": "stdout",
     "output_type": "stream",
     "text": [
      "1.325\n"
     ]
    },
    {
     "name": "stderr",
     "output_type": "stream",
     "text": [
      "\r",
      " 91%|█████████▏| 42/46 [1:30:03<08:16, 124.01s/it]"
     ]
    },
    {
     "name": "stdout",
     "output_type": "stream",
     "text": [
      "1.8583\n"
     ]
    },
    {
     "name": "stderr",
     "output_type": "stream",
     "text": [
      "\r",
      " 93%|█████████▎| 43/46 [1:32:12<06:16, 125.65s/it]"
     ]
    },
    {
     "name": "stdout",
     "output_type": "stream",
     "text": [
      "3.2375\n"
     ]
    },
    {
     "name": "stderr",
     "output_type": "stream",
     "text": [
      "\r",
      " 96%|█████████▌| 44/46 [1:34:21<04:13, 126.70s/it]"
     ]
    },
    {
     "name": "stdout",
     "output_type": "stream",
     "text": [
      "2.481\n"
     ]
    },
    {
     "name": "stderr",
     "output_type": "stream",
     "text": [
      "\r",
      " 98%|█████████▊| 45/46 [1:36:31<02:07, 127.48s/it]"
     ]
    },
    {
     "name": "stdout",
     "output_type": "stream",
     "text": [
      "1.1321\n"
     ]
    },
    {
     "name": "stderr",
     "output_type": "stream",
     "text": [
      "100%|██████████| 46/46 [1:38:40<00:00, 128.71s/it]\n"
     ]
    }
   ],
   "source": [
    "recall_ensemble_scores = []\n",
    "recall_baseline_scores = []\n",
    "for i in tqdm(E_Res_singlefamily['Service Point']):\n",
    "    servicepoint=-1581\n",
    "    kmeans_lof_result_,df_lstm=check_outlier(servicepoint,num_kmeans_outlier=10)\n",
    "    quantile_50=kmeans_lof_result_['Energy_kwh'].quantile(0.5)\n",
    "    kmeans_lof_result_[f'{servicepoint}true_anomaly']=0\n",
    "    kmeans_lof_result_[f'{servicepoint}true_anomaly'] = np.where((kmeans_lof_result_['tavg'] < 5) &\n",
    "                                        (kmeans_lof_result_['Energy_kwh'] < quantile_50), 1,  kmeans_lof_result_[f'{servicepoint}true_anomaly'])\n",
    "    kmeans_lof_result_[f'{servicepoint}true_anomaly'] = np.where((kmeans_lof_result_['tavg'] > 30) & \n",
    "                                        (kmeans_lof_result_['Energy_kwh'] < quantile_50), 1, kmeans_lof_result_[f'{servicepoint}true_anomaly'])\n",
    "    length=12\n",
    "    dataframe=df_lstm[['difference']]\n",
    "    train_sequences,val_sequences,test_sequences=split_sequences(length,dataframe)\n",
    "    rnn_model = RecurrentAutoencoder(seq_len=12,n_features=1, embedding_dim=64,num_layers=2,dropout_rate=0.2)\n",
    "    criterion = nn.L1Loss(reduction='sum')\n",
    "    optimizer = optim.Adam(rnn_model.parameters(), lr=0.001)\n",
    "    total_epochs=50\n",
    "    device = torch.device(\"cuda\" if torch.cuda.is_available() else \"cpu\")\n",
    "    best_val_loss = float('inf')\n",
    "    patience = 10\n",
    "    early_stop_counter = 0\n",
    "    best_model = None  # initialize variable to hold the best model\n",
    "\n",
    "    for epoch in range(total_epochs):\n",
    "      start = time.time()\n",
    "      train_loss = train_lstmae_model(train_sequences, rnn_model, epoch, total_epochs, optimizer, criterion)\n",
    "      val_loss = val_lstmae_model(val_sequences, rnn_model, epoch, total_epochs, criterion)\n",
    "      #print(f'Epoch {epoch}-, Training_loss : {train_loss} ,Validation_loss : {val_loss}, Time :{round(start-time.time(),2)}')\n",
    "      if val_loss < best_val_loss:\n",
    "        best_val_loss = val_loss\n",
    "        early_stop_counter = 0\n",
    "        best_model = copy.deepcopy(rnn_model.state_dict())\n",
    "      else:\n",
    "        early_stop_counter += 1\n",
    "        if early_stop_counter >= patience:\n",
    "          #print(f'Validation loss did not improve for {patience} epochs. Training stopped.')\n",
    "          break\n",
    "    print(best_val_loss)\n",
    "    rnn_model.load_state_dict(best_model)\n",
    "    th=find_threshold(rnn_model,val_sequences)\n",
    "    lstm_results=predict_anomaly(rnn_model,test_sequences,th,df_lstm)\n",
    "    agg_dict = {'error': 'sum', 'anomaly': lambda x: x.mode()[0]}\n",
    "    final_lstm_results=lstm_results.resample('D').agg(agg_dict)\n",
    "    final_lstm_results1=final_lstm_results.rename(columns={'anomaly':'lstm_anomaly'})\n",
    "    final_results=final_lstm_results1.merge(kmeans_lof_result_,left_index=True,right_index=True)\n",
    "    final_results[f'{servicepoint}majority_vote'] = final_results[['lstm_anomaly', \n",
    "                                                    f'{servicepoint}lof_is_outlier', f'{servicepoint}k_means_is_outlier']].mode(axis=1)[0]\n",
    "    recall_ensemble = recall_score(final_results[[f'{servicepoint}true_anomaly']], final_results[[f'{servicepoint}majority_vote']], pos_label=1)\n",
    "    recall_baseline = recall_score(final_results[[f'{servicepoint}true_anomaly']], final_results[[f'{servicepoint}k_means_is_outlier']], pos_label=1)\n",
    "    recall_ensemble_scores.append(recall_ensemble)\n",
    "    recall_baseline_scores.append(recall_baseline)"
   ]
  },
  {
   "cell_type": "code",
   "execution_count": 8,
   "metadata": {},
   "outputs": [
    {
     "name": "stdout",
     "output_type": "stream",
     "text": [
      "0.8188405797101449\n"
     ]
    }
   ],
   "source": [
    "print(sum(recall_ensemble_scores)/len(recall_ensemble_scores))"
   ]
  },
  {
   "cell_type": "code",
   "execution_count": 10,
   "metadata": {},
   "outputs": [
    {
     "name": "stdout",
     "output_type": "stream",
     "text": [
      "0.6666666666666671\n"
     ]
    }
   ],
   "source": [
    "print(sum(recall_baseline_scores)/len(recall_baseline_scores))"
   ]
  },
  {
   "cell_type": "code",
   "execution_count": 15,
   "metadata": {},
   "outputs": [
    {
     "data": {
      "text/plain": [
       "22.82608695652166"
      ]
     },
     "execution_count": 15,
     "metadata": {},
     "output_type": "execute_result"
    }
   ],
   "source": [
    "difference=sum(recall_ensemble_scores)/len(recall_ensemble_scores)-sum(recall_baseline_scores)/len(recall_baseline_scores)\n",
    "difference/(sum(recall_baseline_scores)/len(recall_baseline_scores))*100"
   ]
  },
  {
   "cell_type": "code",
   "execution_count": 65,
   "metadata": {},
   "outputs": [
    {
     "data": {
      "text/html": [
       "<div>\n",
       "<style scoped>\n",
       "    .dataframe tbody tr th:only-of-type {\n",
       "        vertical-align: middle;\n",
       "    }\n",
       "\n",
       "    .dataframe tbody tr th {\n",
       "        vertical-align: top;\n",
       "    }\n",
       "\n",
       "    .dataframe thead th {\n",
       "        text-align: right;\n",
       "    }\n",
       "</style>\n",
       "<table border=\"1\" class=\"dataframe\">\n",
       "  <thead>\n",
       "    <tr style=\"text-align: right;\">\n",
       "      <th></th>\n",
       "      <th>error</th>\n",
       "      <th>lstm_anomaly</th>\n",
       "      <th>mean_-1581</th>\n",
       "      <th>-1581k_means_is_outlier</th>\n",
       "      <th>-1581lof_is_outlier</th>\n",
       "      <th>difference</th>\n",
       "      <th>Energy_kwh</th>\n",
       "      <th>prediction</th>\n",
       "      <th>tavg</th>\n",
       "      <th>-1581true_anomaly</th>\n",
       "      <th>-1581majority_vote</th>\n",
       "    </tr>\n",
       "  </thead>\n",
       "  <tbody>\n",
       "    <tr>\n",
       "      <th>2021-02-11</th>\n",
       "      <td>2.148205</td>\n",
       "      <td>0</td>\n",
       "      <td>15.129611</td>\n",
       "      <td>0</td>\n",
       "      <td>0</td>\n",
       "      <td>20775.005427</td>\n",
       "      <td>137313.544434</td>\n",
       "      <td>116538.539007</td>\n",
       "      <td>0.8</td>\n",
       "      <td>0</td>\n",
       "      <td>0</td>\n",
       "    </tr>\n",
       "    <tr>\n",
       "      <th>2021-02-12</th>\n",
       "      <td>2.367068</td>\n",
       "      <td>0</td>\n",
       "      <td>17.376738</td>\n",
       "      <td>0</td>\n",
       "      <td>0</td>\n",
       "      <td>26541.061240</td>\n",
       "      <td>152739.028931</td>\n",
       "      <td>126197.967691</td>\n",
       "      <td>-0.6</td>\n",
       "      <td>0</td>\n",
       "      <td>0</td>\n",
       "    </tr>\n",
       "    <tr>\n",
       "      <th>2021-02-13</th>\n",
       "      <td>2.360956</td>\n",
       "      <td>0</td>\n",
       "      <td>17.322535</td>\n",
       "      <td>1</td>\n",
       "      <td>0</td>\n",
       "      <td>27648.633468</td>\n",
       "      <td>159610.781616</td>\n",
       "      <td>131962.148148</td>\n",
       "      <td>-1.6</td>\n",
       "      <td>0</td>\n",
       "      <td>0</td>\n",
       "    </tr>\n",
       "    <tr>\n",
       "      <th>2021-02-14</th>\n",
       "      <td>2.689737</td>\n",
       "      <td>0</td>\n",
       "      <td>19.707427</td>\n",
       "      <td>1</td>\n",
       "      <td>0</td>\n",
       "      <td>33350.374624</td>\n",
       "      <td>169227.443970</td>\n",
       "      <td>135877.069346</td>\n",
       "      <td>-4.3</td>\n",
       "      <td>0</td>\n",
       "      <td>0</td>\n",
       "    </tr>\n",
       "    <tr>\n",
       "      <th>2021-02-15</th>\n",
       "      <td>26.035945</td>\n",
       "      <td>1</td>\n",
       "      <td>-49.368068</td>\n",
       "      <td>1</td>\n",
       "      <td>1</td>\n",
       "      <td>-54928.963546</td>\n",
       "      <td>111264.153870</td>\n",
       "      <td>166193.117415</td>\n",
       "      <td>-9.0</td>\n",
       "      <td>1</td>\n",
       "      <td>1</td>\n",
       "    </tr>\n",
       "    <tr>\n",
       "      <th>2021-02-16</th>\n",
       "      <td>32.743857</td>\n",
       "      <td>1</td>\n",
       "      <td>-150.817251</td>\n",
       "      <td>1</td>\n",
       "      <td>1</td>\n",
       "      <td>-99116.246575</td>\n",
       "      <td>65719.435852</td>\n",
       "      <td>164835.682427</td>\n",
       "      <td>-7.6</td>\n",
       "      <td>1</td>\n",
       "      <td>1</td>\n",
       "    </tr>\n",
       "    <tr>\n",
       "      <th>2021-02-17</th>\n",
       "      <td>3.738546</td>\n",
       "      <td>0</td>\n",
       "      <td>-89.581584</td>\n",
       "      <td>0</td>\n",
       "      <td>1</td>\n",
       "      <td>-63953.996789</td>\n",
       "      <td>71391.902344</td>\n",
       "      <td>135345.899133</td>\n",
       "      <td>-1.8</td>\n",
       "      <td>1</td>\n",
       "      <td>0</td>\n",
       "    </tr>\n",
       "    <tr>\n",
       "      <th>2021-02-18</th>\n",
       "      <td>1.846328</td>\n",
       "      <td>0</td>\n",
       "      <td>-9.434697</td>\n",
       "      <td>1</td>\n",
       "      <td>0</td>\n",
       "      <td>-11504.061330</td>\n",
       "      <td>121933.559631</td>\n",
       "      <td>133437.620961</td>\n",
       "      <td>-1.8</td>\n",
       "      <td>0</td>\n",
       "      <td>0</td>\n",
       "    </tr>\n",
       "    <tr>\n",
       "      <th>2021-02-19</th>\n",
       "      <td>0.954144</td>\n",
       "      <td>0</td>\n",
       "      <td>1.276823</td>\n",
       "      <td>1</td>\n",
       "      <td>0</td>\n",
       "      <td>1701.532742</td>\n",
       "      <td>133263.058716</td>\n",
       "      <td>131561.525973</td>\n",
       "      <td>-0.5</td>\n",
       "      <td>0</td>\n",
       "      <td>0</td>\n",
       "    </tr>\n",
       "    <tr>\n",
       "      <th>2021-02-20</th>\n",
       "      <td>1.694146</td>\n",
       "      <td>0</td>\n",
       "      <td>9.720983</td>\n",
       "      <td>0</td>\n",
       "      <td>0</td>\n",
       "      <td>12029.607557</td>\n",
       "      <td>123748.882935</td>\n",
       "      <td>111719.275378</td>\n",
       "      <td>6.6</td>\n",
       "      <td>0</td>\n",
       "      <td>0</td>\n",
       "    </tr>\n",
       "  </tbody>\n",
       "</table>\n",
       "</div>"
      ],
      "text/plain": [
       "                error  lstm_anomaly  mean_-1581  -1581k_means_is_outlier  \\\n",
       "2021-02-11   2.148205             0   15.129611                        0   \n",
       "2021-02-12   2.367068             0   17.376738                        0   \n",
       "2021-02-13   2.360956             0   17.322535                        1   \n",
       "2021-02-14   2.689737             0   19.707427                        1   \n",
       "2021-02-15  26.035945             1  -49.368068                        1   \n",
       "2021-02-16  32.743857             1 -150.817251                        1   \n",
       "2021-02-17   3.738546             0  -89.581584                        0   \n",
       "2021-02-18   1.846328             0   -9.434697                        1   \n",
       "2021-02-19   0.954144             0    1.276823                        1   \n",
       "2021-02-20   1.694146             0    9.720983                        0   \n",
       "\n",
       "            -1581lof_is_outlier    difference     Energy_kwh     prediction  \\\n",
       "2021-02-11                    0  20775.005427  137313.544434  116538.539007   \n",
       "2021-02-12                    0  26541.061240  152739.028931  126197.967691   \n",
       "2021-02-13                    0  27648.633468  159610.781616  131962.148148   \n",
       "2021-02-14                    0  33350.374624  169227.443970  135877.069346   \n",
       "2021-02-15                    1 -54928.963546  111264.153870  166193.117415   \n",
       "2021-02-16                    1 -99116.246575   65719.435852  164835.682427   \n",
       "2021-02-17                    1 -63953.996789   71391.902344  135345.899133   \n",
       "2021-02-18                    0 -11504.061330  121933.559631  133437.620961   \n",
       "2021-02-19                    0   1701.532742  133263.058716  131561.525973   \n",
       "2021-02-20                    0  12029.607557  123748.882935  111719.275378   \n",
       "\n",
       "            tavg  -1581true_anomaly  -1581majority_vote  \n",
       "2021-02-11   0.8                  0                   0  \n",
       "2021-02-12  -0.6                  0                   0  \n",
       "2021-02-13  -1.6                  0                   0  \n",
       "2021-02-14  -4.3                  0                   0  \n",
       "2021-02-15  -9.0                  1                   1  \n",
       "2021-02-16  -7.6                  1                   1  \n",
       "2021-02-17  -1.8                  1                   0  \n",
       "2021-02-18  -1.8                  0                   0  \n",
       "2021-02-19  -0.5                  0                   0  \n",
       "2021-02-20   6.6                  0                   0  "
      ]
     },
     "execution_count": 65,
     "metadata": {},
     "output_type": "execute_result"
    }
   ],
   "source": [
    "final_results"
   ]
  },
  {
   "cell_type": "code",
   "execution_count": 66,
   "metadata": {},
   "outputs": [
    {
     "name": "stdout",
     "output_type": "stream",
     "text": [
      "recall_ensemble Score: 0.6666666666666666\n",
      "recall_baseline Score: 0.6666666666666666\n"
     ]
    }
   ],
   "source": [
    "recall_ensemble = recall_score(final_results[[f'{servicepoint}true_anomaly']], final_results[[f'{servicepoint}majority_vote']], pos_label=1)\n",
    "recall_baseline = recall_score(final_results[[f'{servicepoint}true_anomaly']], final_results[[f'{servicepoint}k_means_is_outlier']], pos_label=1)\n",
    "print(\"recall_ensemble Score:\", recall_ensemble)\n",
    "print(\"recall_baseline Score:\", recall_baseline)"
   ]
  }
 ],
 "metadata": {
  "kernelspec": {
   "display_name": "Python 3",
   "language": "python",
   "name": "python3"
  },
  "language_info": {
   "codemirror_mode": {
    "name": "ipython",
    "version": 3
   },
   "file_extension": ".py",
   "mimetype": "text/x-python",
   "name": "python",
   "nbconvert_exporter": "python",
   "pygments_lexer": "ipython3",
   "version": "3.6.3"
  }
 },
 "nbformat": 4,
 "nbformat_minor": 2
}
