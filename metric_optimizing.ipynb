{
 "cells": [
  {
   "cell_type": "code",
   "execution_count": 1,
   "metadata": {},
   "outputs": [],
   "source": [
    "import os\n",
    "from fig_gen  import FigureGenerator as fg\n",
    "from sklearn.metrics import r2_score\n",
    "import pandas as pd\n",
    "import numpy as np\n",
    "import matplotlib.pyplot as plt\n",
    "from tqdm import tqdm\n",
    "from pathlib import Path\n",
    "import seaborn as sns\n",
    "import sklearn\n",
    "from sklearn.linear_model import LinearRegression\n",
    "%matplotlib inline\n",
    "import missingno as msno\n",
    "np.random.seed(19)\n",
    "from matplotlib.pyplot import figure\n",
    "data_directory = '/work2/05067/nagyz/austin_energy/data/'\n",
    "filepaths = [os.path.join(data_directory,f) for f in os.listdir(data_directory) if f.endswith('.csv')]\n",
    "from datetime import datetime \n",
    "from Graphs import load_data,load_graph_kwh,yearly_graph_kwh,load_graph_count,monthly_graph_kwh,daily_graph_kwh\n",
    "from Graphs import load_graph_kwh_and_count,yearly_graph_kwh_and_count,monthly_graph_kwh_and_count,daily_graph_kwh_and_count\n",
    "from agg_and_heatmap_functions import length,prav3,prav2,prav1,dinostorm,plot_aggraph,heatmap,finalheatmap\n",
    "from sklearn.model_selection import train_test_split\n",
    "from sklearn.pipeline import make_pipeline\n",
    "from sklearn.preprocessing import StandardScaler\n",
    "from sklearn.linear_model import RidgeCV, SGDRegressor\n",
    "from sklearn.ensemble import AdaBoostRegressor, RandomForestRegressor,GradientBoostingRegressor\n",
    "from sklearn.utils import resample\n",
    "from sklearn.linear_model import LinearRegression\n",
    "from sklearn.metrics import mean_squared_error\n",
    "from sklearn.ensemble import RandomForestClassifier\n",
    "from sklearn.linear_model import LassoCV\n",
    "from sklearn.linear_model import Ridge,Lasso\n",
    "from sklearn.model_selection import GridSearchCV,KFold\n",
    "from sklearn.neural_network import MLPRegressor\n",
    "from sklearn.model_selection import RandomizedSearchCV\n",
    "import warnings\n",
    "warnings.filterwarnings('ignore')\n",
    "from sklearn.model_selection import cross_val_score\n",
    "from sklearn.metrics import accuracy_score\n",
    "from sklearn.metrics import mean_squared_error\n",
    "from sklearn.preprocessing import PolynomialFeatures\n",
    "weather_daily=pd.read_csv('Austin_weather_daily.csv')\n",
    "weather_daily['time']=pd.to_datetime(weather_daily['time'],utc=False)\n",
    "weather_daily1=weather_daily.set_index('time',drop=True)\n",
    "weather_austin_daily=weather_daily1['tavg']\n",
    "# NOT UTC TIME\n",
    "weather_Pred=pd.read_csv('Austin_hourly.csv')\n",
    "weather_Pred['time']=pd.to_datetime(weather_Pred['time'])\n",
    "weather_pred1=weather_Pred.set_index('time',drop=True)\n",
    "weather_austin_hourl_pred=weather_pred1['temp']\n",
    "from sklearn.preprocessing import MinMaxScaler\n",
    "import time\n",
    "from sklearn.neighbors import LocalOutlierFactor\n",
    "from sklearn.cluster import KMeans\n",
    "from sklearn.metrics import silhouette_score\n",
    "from adtk.data import validate_series\n",
    "from adtk.visualization import plot\n",
    "from adtk.detector import SeasonalAD\n",
    "from adtk.data import to_events\n",
    "from adtk.detector import OutlierDetector\n",
    "from scipy.stats import t\n",
    "import torch\n",
    "import time\n",
    "import torchvision\n",
    "import torchvision.transforms as transforms\n",
    "import torchvision.datasets as datasets\n",
    "import torch.nn as nn\n",
    "import random\n",
    "import torch.optim as optim\n",
    "from torch.utils.data import Dataset, DataLoader\n",
    "import copy\n",
    "from sklearn.metrics import roc_auc_score,recall_score\n",
    "from torch.utils.data import TensorDataset\n",
    "from model_fns import clean_data,make_features,preprocess_data,prediction_model,check_outlier,split_sequences\n",
    "from model_fns import SelfAttention,Encoder,Decoder,RecurrentAutoencoder,train_lstmae_model,val_lstmae_model,find_threshold,predict_anomaly"
   ]
  },
  {
   "cell_type": "code",
   "execution_count": 2,
   "metadata": {},
   "outputs": [],
   "source": [
    "id_list = pd.read_csv('buildingInfo.csv')\n",
    "\n",
    "#id_list.drop('Unnamed: 0',axis=1,inplace=True)\n",
    "id_list['buildingType'].unique()\n",
    "res_type = ['SINGLE FAMILY', 'MULTIFAMILY',  'FOURPLEX', \n",
    "            'DUPLEX', 'CONDOS', 'CONDO (STACKED)', \n",
    "            '1 FAM DWELLING, ACCESSORY DWELLING UNIT',\n",
    "            'TOWNHOMES','MOHO SINGLE PP', \n",
    "            '1 FAM DWELLING, GARAGE APARTMENT', 'MOHO DOUBLE PP',\n",
    "            'MOHO SINGLE REAL', 'MOHO DOUBLE REAL', 'TRIPLEX', \n",
    "            '1 FAM DWELLING, MOHO DOUBLE REAL',\n",
    "           '1 FAM DWELLING, MOHO SINGLE REAL']\n",
    "res_type_id_list = id_list[id_list['buildingType'].isin(res_type)].copy()\n",
    "good_servicepoints_without_sampling=pd.read_csv('good_sp_without_sampling.csv')\n",
    "good_servicepoints_with_sampling=pd.read_csv('good_sp_with_sampling.csv')"
   ]
  },
  {
   "cell_type": "code",
   "execution_count": 3,
   "metadata": {},
   "outputs": [
    {
     "data": {
      "text/html": [
       "<div>\n",
       "<style scoped>\n",
       "    .dataframe tbody tr th:only-of-type {\n",
       "        vertical-align: middle;\n",
       "    }\n",
       "\n",
       "    .dataframe tbody tr th {\n",
       "        vertical-align: top;\n",
       "    }\n",
       "\n",
       "    .dataframe thead th {\n",
       "        text-align: right;\n",
       "    }\n",
       "</style>\n",
       "<table border=\"1\" class=\"dataframe\">\n",
       "  <thead>\n",
       "    <tr style=\"text-align: right;\">\n",
       "      <th></th>\n",
       "      <th>Service Point</th>\n",
       "      <th>zipCode</th>\n",
       "      <th>rate</th>\n",
       "      <th>buildingType</th>\n",
       "      <th>meterCount</th>\n",
       "      <th>squareFt</th>\n",
       "    </tr>\n",
       "  </thead>\n",
       "  <tbody>\n",
       "    <tr>\n",
       "      <th>4</th>\n",
       "      <td>-1608</td>\n",
       "      <td>78759</td>\n",
       "      <td>E-RES</td>\n",
       "      <td>SINGLE FAMILY</td>\n",
       "      <td>7996</td>\n",
       "      <td>17723356.0</td>\n",
       "    </tr>\n",
       "    <tr>\n",
       "      <th>31</th>\n",
       "      <td>-1581</td>\n",
       "      <td>78758</td>\n",
       "      <td>E-RES</td>\n",
       "      <td>SINGLE FAMILY</td>\n",
       "      <td>5363</td>\n",
       "      <td>8224307.5</td>\n",
       "    </tr>\n",
       "    <tr>\n",
       "      <th>66</th>\n",
       "      <td>-1546</td>\n",
       "      <td>78757</td>\n",
       "      <td>E-RES</td>\n",
       "      <td>SINGLE FAMILY</td>\n",
       "      <td>6174</td>\n",
       "      <td>8977316.0</td>\n",
       "    </tr>\n",
       "    <tr>\n",
       "      <th>84</th>\n",
       "      <td>-1528</td>\n",
       "      <td>78756</td>\n",
       "      <td>E-RES</td>\n",
       "      <td>SINGLE FAMILY</td>\n",
       "      <td>1727</td>\n",
       "      <td>2566446.0</td>\n",
       "    </tr>\n",
       "    <tr>\n",
       "      <th>102</th>\n",
       "      <td>-1510</td>\n",
       "      <td>78754</td>\n",
       "      <td>E-RES</td>\n",
       "      <td>SINGLE FAMILY</td>\n",
       "      <td>3752</td>\n",
       "      <td>5866178.5</td>\n",
       "    </tr>\n",
       "  </tbody>\n",
       "</table>\n",
       "</div>"
      ],
      "text/plain": [
       "     Service Point  zipCode   rate   buildingType  meterCount    squareFt\n",
       "4            -1608    78759  E-RES  SINGLE FAMILY        7996  17723356.0\n",
       "31           -1581    78758  E-RES  SINGLE FAMILY        5363   8224307.5\n",
       "66           -1546    78757  E-RES  SINGLE FAMILY        6174   8977316.0\n",
       "84           -1528    78756  E-RES  SINGLE FAMILY        1727   2566446.0\n",
       "102          -1510    78754  E-RES  SINGLE FAMILY        3752   5866178.5"
      ]
     },
     "execution_count": 3,
     "metadata": {},
     "output_type": "execute_result"
    }
   ],
   "source": [
    "single_Famiy=res_type_id_list[res_type_id_list['buildingType']=='SINGLE FAMILY']\n",
    "E_Res_singlefamily=single_Famiy[single_Famiy['rate']=='E-RES']\n",
    "E_Res_singlefamily.head()"
   ]
  },
  {
   "cell_type": "code",
   "execution_count": 31,
   "metadata": {},
   "outputs": [
    {
     "data": {
      "text/html": [
       "<div>\n",
       "<style scoped>\n",
       "    .dataframe tbody tr th:only-of-type {\n",
       "        vertical-align: middle;\n",
       "    }\n",
       "\n",
       "    .dataframe tbody tr th {\n",
       "        vertical-align: top;\n",
       "    }\n",
       "\n",
       "    .dataframe thead th {\n",
       "        text-align: right;\n",
       "    }\n",
       "</style>\n",
       "<table border=\"1\" class=\"dataframe\">\n",
       "  <thead>\n",
       "    <tr style=\"text-align: right;\">\n",
       "      <th></th>\n",
       "      <th>mean_-1000</th>\n",
       "      <th>-1000k_means_is_outlier</th>\n",
       "      <th>-1000lof_is_outlier</th>\n",
       "      <th>difference</th>\n",
       "      <th>Energy_kwh</th>\n",
       "      <th>prediction</th>\n",
       "      <th>tavg</th>\n",
       "      <th>-1000true_anomaly</th>\n",
       "    </tr>\n",
       "  </thead>\n",
       "  <tbody>\n",
       "    <tr>\n",
       "      <th>2020-01-01</th>\n",
       "      <td>0.024453</td>\n",
       "      <td>0</td>\n",
       "      <td>0</td>\n",
       "      <td>0.467207</td>\n",
       "      <td>1910.604604</td>\n",
       "      <td>1910.137397</td>\n",
       "      <td>12.4</td>\n",
       "      <td>0</td>\n",
       "    </tr>\n",
       "    <tr>\n",
       "      <th>2020-01-02</th>\n",
       "      <td>-13.732629</td>\n",
       "      <td>0</td>\n",
       "      <td>0</td>\n",
       "      <td>-236.426018</td>\n",
       "      <td>1721.636995</td>\n",
       "      <td>1958.063014</td>\n",
       "      <td>12.8</td>\n",
       "      <td>0</td>\n",
       "    </tr>\n",
       "    <tr>\n",
       "      <th>2020-01-03</th>\n",
       "      <td>-21.678562</td>\n",
       "      <td>0</td>\n",
       "      <td>0</td>\n",
       "      <td>-341.672256</td>\n",
       "      <td>1576.083603</td>\n",
       "      <td>1917.755859</td>\n",
       "      <td>13.5</td>\n",
       "      <td>0</td>\n",
       "    </tr>\n",
       "    <tr>\n",
       "      <th>2020-01-04</th>\n",
       "      <td>-3.408639</td>\n",
       "      <td>0</td>\n",
       "      <td>0</td>\n",
       "      <td>-64.957894</td>\n",
       "      <td>1905.684010</td>\n",
       "      <td>1970.641903</td>\n",
       "      <td>13.3</td>\n",
       "      <td>0</td>\n",
       "    </tr>\n",
       "    <tr>\n",
       "      <th>2020-01-05</th>\n",
       "      <td>-6.502533</td>\n",
       "      <td>0</td>\n",
       "      <td>0</td>\n",
       "      <td>-105.303927</td>\n",
       "      <td>1619.429390</td>\n",
       "      <td>1724.733317</td>\n",
       "      <td>15.2</td>\n",
       "      <td>0</td>\n",
       "    </tr>\n",
       "    <tr>\n",
       "      <th>...</th>\n",
       "      <td>...</td>\n",
       "      <td>...</td>\n",
       "      <td>...</td>\n",
       "      <td>...</td>\n",
       "      <td>...</td>\n",
       "      <td>...</td>\n",
       "      <td>...</td>\n",
       "      <td>...</td>\n",
       "    </tr>\n",
       "    <tr>\n",
       "      <th>2021-02-17</th>\n",
       "      <td>-inf</td>\n",
       "      <td>0</td>\n",
       "      <td>1</td>\n",
       "      <td>-3242.018556</td>\n",
       "      <td>0.000000</td>\n",
       "      <td>3242.018556</td>\n",
       "      <td>-1.8</td>\n",
       "      <td>1</td>\n",
       "    </tr>\n",
       "    <tr>\n",
       "      <th>2021-02-18</th>\n",
       "      <td>-112.900127</td>\n",
       "      <td>1</td>\n",
       "      <td>1</td>\n",
       "      <td>-1695.509734</td>\n",
       "      <td>1501.778408</td>\n",
       "      <td>3197.288142</td>\n",
       "      <td>-1.8</td>\n",
       "      <td>1</td>\n",
       "    </tr>\n",
       "    <tr>\n",
       "      <th>2021-02-19</th>\n",
       "      <td>26.636344</td>\n",
       "      <td>0</td>\n",
       "      <td>0</td>\n",
       "      <td>1146.941692</td>\n",
       "      <td>4305.927593</td>\n",
       "      <td>3158.985901</td>\n",
       "      <td>-0.5</td>\n",
       "      <td>0</td>\n",
       "    </tr>\n",
       "    <tr>\n",
       "      <th>2021-02-20</th>\n",
       "      <td>31.717604</td>\n",
       "      <td>1</td>\n",
       "      <td>0</td>\n",
       "      <td>1163.704823</td>\n",
       "      <td>3668.955599</td>\n",
       "      <td>2505.250776</td>\n",
       "      <td>6.6</td>\n",
       "      <td>0</td>\n",
       "    </tr>\n",
       "    <tr>\n",
       "      <th>2021-02-21</th>\n",
       "      <td>42.627114</td>\n",
       "      <td>1</td>\n",
       "      <td>0</td>\n",
       "      <td>1112.349761</td>\n",
       "      <td>2609.488806</td>\n",
       "      <td>1497.139044</td>\n",
       "      <td>15.1</td>\n",
       "      <td>0</td>\n",
       "    </tr>\n",
       "  </tbody>\n",
       "</table>\n",
       "<p>418 rows × 8 columns</p>\n",
       "</div>"
      ],
      "text/plain": [
       "            mean_-1000  -1000k_means_is_outlier  -1000lof_is_outlier  \\\n",
       "2020-01-01    0.024453                        0                    0   \n",
       "2020-01-02  -13.732629                        0                    0   \n",
       "2020-01-03  -21.678562                        0                    0   \n",
       "2020-01-04   -3.408639                        0                    0   \n",
       "2020-01-05   -6.502533                        0                    0   \n",
       "...                ...                      ...                  ...   \n",
       "2021-02-17        -inf                        0                    1   \n",
       "2021-02-18 -112.900127                        1                    1   \n",
       "2021-02-19   26.636344                        0                    0   \n",
       "2021-02-20   31.717604                        1                    0   \n",
       "2021-02-21   42.627114                        1                    0   \n",
       "\n",
       "             difference   Energy_kwh   prediction  tavg  -1000true_anomaly  \n",
       "2020-01-01     0.467207  1910.604604  1910.137397  12.4                  0  \n",
       "2020-01-02  -236.426018  1721.636995  1958.063014  12.8                  0  \n",
       "2020-01-03  -341.672256  1576.083603  1917.755859  13.5                  0  \n",
       "2020-01-04   -64.957894  1905.684010  1970.641903  13.3                  0  \n",
       "2020-01-05  -105.303927  1619.429390  1724.733317  15.2                  0  \n",
       "...                 ...          ...          ...   ...                ...  \n",
       "2021-02-17 -3242.018556     0.000000  3242.018556  -1.8                  1  \n",
       "2021-02-18 -1695.509734  1501.778408  3197.288142  -1.8                  1  \n",
       "2021-02-19  1146.941692  4305.927593  3158.985901  -0.5                  0  \n",
       "2021-02-20  1163.704823  3668.955599  2505.250776   6.6                  0  \n",
       "2021-02-21  1112.349761  2609.488806  1497.139044  15.1                  0  \n",
       "\n",
       "[418 rows x 8 columns]"
      ]
     },
     "execution_count": 31,
     "metadata": {},
     "output_type": "execute_result"
    }
   ],
   "source": [
    "kmeans_lof_result_"
   ]
  },
  {
   "cell_type": "code",
   "execution_count": 32,
   "metadata": {},
   "outputs": [
    {
     "name": "stderr",
     "output_type": "stream",
     "text": [
      "\r",
      "  0%|          | 0/46 [00:00<?, ?it/s]"
     ]
    },
    {
     "name": "stdout",
     "output_type": "stream",
     "text": [
      "-1608\n"
     ]
    },
    {
     "name": "stderr",
     "output_type": "stream",
     "text": [
      "\r",
      "  2%|▏         | 1/46 [00:03<02:51,  3.82s/it]"
     ]
    },
    {
     "name": "stdout",
     "output_type": "stream",
     "text": [
      "number of anomaly points 2\n",
      "auc_lof_baseline 0.829718875502008\n",
      "-1581\n"
     ]
    },
    {
     "name": "stderr",
     "output_type": "stream",
     "text": [
      "\r",
      "  4%|▍         | 2/46 [00:07<02:45,  3.76s/it]"
     ]
    },
    {
     "name": "stdout",
     "output_type": "stream",
     "text": [
      "number of anomaly points 3\n",
      "auc_lof_baseline 0.8725845410628019\n",
      "-1546\n"
     ]
    },
    {
     "name": "stderr",
     "output_type": "stream",
     "text": [
      "\r",
      "  7%|▋         | 3/46 [00:11<02:41,  3.75s/it]"
     ]
    },
    {
     "name": "stdout",
     "output_type": "stream",
     "text": [
      "number of anomaly points 2\n",
      "auc_lof_baseline 0.6618473895582329\n",
      "-1528\n"
     ]
    },
    {
     "name": "stderr",
     "output_type": "stream",
     "text": [
      "\r",
      "  9%|▊         | 4/46 [00:15<02:38,  3.76s/it]"
     ]
    },
    {
     "name": "stdout",
     "output_type": "stream",
     "text": [
      "number of anomaly points 0\n",
      "-1510\n"
     ]
    },
    {
     "name": "stderr",
     "output_type": "stream",
     "text": [
      "\r",
      " 11%|█         | 5/46 [00:18<02:35,  3.78s/it]"
     ]
    },
    {
     "name": "stdout",
     "output_type": "stream",
     "text": [
      "number of anomaly points 0\n",
      "-1492\n"
     ]
    },
    {
     "name": "stderr",
     "output_type": "stream",
     "text": [
      "\r",
      " 13%|█▎        | 6/46 [00:22<02:31,  3.78s/it]"
     ]
    },
    {
     "name": "stdout",
     "output_type": "stream",
     "text": [
      "number of anomaly points 1\n",
      "auc_lof_baseline 0.7451923076923077\n",
      "-1468\n"
     ]
    },
    {
     "name": "stderr",
     "output_type": "stream",
     "text": [
      "\r",
      " 15%|█▌        | 7/46 [00:26<02:27,  3.78s/it]"
     ]
    },
    {
     "name": "stdout",
     "output_type": "stream",
     "text": [
      "number of anomaly points 2\n",
      "auc_lof_baseline 0.829718875502008\n",
      "-1454\n"
     ]
    },
    {
     "name": "stderr",
     "output_type": "stream",
     "text": [
      "\r",
      " 17%|█▋        | 8/46 [00:30<02:24,  3.81s/it]"
     ]
    },
    {
     "name": "stdout",
     "output_type": "stream",
     "text": [
      "number of anomaly points 0\n",
      "-1441\n"
     ]
    },
    {
     "name": "stderr",
     "output_type": "stream",
     "text": [
      "\r",
      " 20%|█▉        | 9/46 [00:34<02:20,  3.80s/it]"
     ]
    },
    {
     "name": "stdout",
     "output_type": "stream",
     "text": [
      "number of anomaly points 0\n",
      "-1432\n"
     ]
    },
    {
     "name": "stderr",
     "output_type": "stream",
     "text": [
      "\r",
      " 22%|██▏       | 10/46 [00:37<02:16,  3.78s/it]"
     ]
    },
    {
     "name": "stdout",
     "output_type": "stream",
     "text": [
      "number of anomaly points 1\n",
      "auc_lof_baseline 0.7451923076923077\n",
      "-1421\n"
     ]
    },
    {
     "name": "stderr",
     "output_type": "stream",
     "text": [
      "\r",
      " 24%|██▍       | 11/46 [00:41<02:12,  3.77s/it]"
     ]
    },
    {
     "name": "stdout",
     "output_type": "stream",
     "text": [
      "number of anomaly points 0\n",
      "-1407\n"
     ]
    },
    {
     "name": "stderr",
     "output_type": "stream",
     "text": [
      "\r",
      " 26%|██▌       | 12/46 [00:45<02:09,  3.80s/it]"
     ]
    },
    {
     "name": "stdout",
     "output_type": "stream",
     "text": [
      "number of anomaly points 2\n",
      "auc_lof_baseline 0.829718875502008\n",
      "-1399\n"
     ]
    },
    {
     "name": "stderr",
     "output_type": "stream",
     "text": [
      "\r",
      " 28%|██▊       | 13/46 [00:49<02:04,  3.78s/it]"
     ]
    },
    {
     "name": "stdout",
     "output_type": "stream",
     "text": [
      "number of anomaly points 0\n",
      "-1373\n"
     ]
    },
    {
     "name": "stderr",
     "output_type": "stream",
     "text": [
      "\r",
      " 30%|███       | 14/46 [00:52<02:00,  3.77s/it]"
     ]
    },
    {
     "name": "stdout",
     "output_type": "stream",
     "text": [
      "number of anomaly points 0\n",
      "-1346\n"
     ]
    },
    {
     "name": "stderr",
     "output_type": "stream",
     "text": [
      "\r",
      " 33%|███▎      | 15/46 [00:56<01:58,  3.83s/it]"
     ]
    },
    {
     "name": "stdout",
     "output_type": "stream",
     "text": [
      "number of anomaly points 1\n",
      "auc_lof_baseline 0.7451923076923077\n",
      "-1329\n"
     ]
    },
    {
     "name": "stderr",
     "output_type": "stream",
     "text": [
      "\r",
      " 35%|███▍      | 16/46 [01:00<01:54,  3.80s/it]"
     ]
    },
    {
     "name": "stdout",
     "output_type": "stream",
     "text": [
      "number of anomaly points 0\n",
      "-1325\n"
     ]
    },
    {
     "name": "stderr",
     "output_type": "stream",
     "text": [
      "\r",
      " 37%|███▋      | 17/46 [01:04<01:50,  3.80s/it]"
     ]
    },
    {
     "name": "stdout",
     "output_type": "stream",
     "text": [
      "number of anomaly points 0\n",
      "-1309\n"
     ]
    },
    {
     "name": "stderr",
     "output_type": "stream",
     "text": [
      "\r",
      " 39%|███▉      | 18/46 [01:08<01:47,  3.83s/it]"
     ]
    },
    {
     "name": "stdout",
     "output_type": "stream",
     "text": [
      "number of anomaly points 1\n",
      "auc_lof_baseline 0.6201690821256038\n",
      "-1306\n"
     ]
    },
    {
     "name": "stderr",
     "output_type": "stream",
     "text": [
      "\r",
      " 41%|████▏     | 19/46 [01:12<01:42,  3.80s/it]"
     ]
    },
    {
     "name": "stdout",
     "output_type": "stream",
     "text": [
      "number of anomaly points 0\n",
      "-1302\n"
     ]
    },
    {
     "name": "stderr",
     "output_type": "stream",
     "text": [
      "\r",
      " 43%|████▎     | 20/46 [01:15<01:39,  3.82s/it]"
     ]
    },
    {
     "name": "stdout",
     "output_type": "stream",
     "text": [
      "number of anomaly points 0\n",
      "-1297\n"
     ]
    },
    {
     "name": "stderr",
     "output_type": "stream",
     "text": [
      "\r",
      " 46%|████▌     | 21/46 [01:19<01:35,  3.82s/it]"
     ]
    },
    {
     "name": "stdout",
     "output_type": "stream",
     "text": [
      "number of anomaly points 0\n",
      "-1282\n"
     ]
    },
    {
     "name": "stderr",
     "output_type": "stream",
     "text": [
      "\r",
      " 48%|████▊     | 22/46 [01:23<01:33,  3.88s/it]"
     ]
    },
    {
     "name": "stdout",
     "output_type": "stream",
     "text": [
      "number of anomaly points 0\n",
      "-1268\n"
     ]
    },
    {
     "name": "stderr",
     "output_type": "stream",
     "text": [
      "\r",
      " 50%|█████     | 23/46 [01:27<01:28,  3.86s/it]"
     ]
    },
    {
     "name": "stdout",
     "output_type": "stream",
     "text": [
      "number of anomaly points 0\n",
      "-1260\n"
     ]
    },
    {
     "name": "stderr",
     "output_type": "stream",
     "text": [
      "\r",
      " 52%|█████▏    | 24/46 [01:31<01:24,  3.82s/it]"
     ]
    },
    {
     "name": "stdout",
     "output_type": "stream",
     "text": [
      "number of anomaly points 0\n",
      "-1252\n"
     ]
    },
    {
     "name": "stderr",
     "output_type": "stream",
     "text": [
      "\r",
      " 54%|█████▍    | 25/46 [01:35<01:19,  3.79s/it]"
     ]
    },
    {
     "name": "stdout",
     "output_type": "stream",
     "text": [
      "number of anomaly points 2\n",
      "auc_lof_baseline 0.829718875502008\n",
      "-1237\n"
     ]
    },
    {
     "name": "stderr",
     "output_type": "stream",
     "text": [
      "\r",
      " 57%|█████▋    | 26/46 [01:38<01:15,  3.78s/it]"
     ]
    },
    {
     "name": "stdout",
     "output_type": "stream",
     "text": [
      "number of anomaly points 0\n",
      "-1234\n"
     ]
    },
    {
     "name": "stderr",
     "output_type": "stream",
     "text": [
      "\r",
      " 59%|█████▊    | 27/46 [01:42<01:11,  3.78s/it]"
     ]
    },
    {
     "name": "stdout",
     "output_type": "stream",
     "text": [
      "number of anomaly points 2\n",
      "auc_lof_baseline 0.829718875502008\n",
      "-1225\n"
     ]
    },
    {
     "name": "stderr",
     "output_type": "stream",
     "text": [
      "\r",
      " 61%|██████    | 28/46 [01:46<01:08,  3.82s/it]"
     ]
    },
    {
     "name": "stdout",
     "output_type": "stream",
     "text": [
      "number of anomaly points 1\n",
      "auc_lof_baseline 0.49399038461538464\n",
      "-1221\n"
     ]
    },
    {
     "name": "stderr",
     "output_type": "stream",
     "text": [
      "\r",
      " 63%|██████▎   | 29/46 [01:50<01:05,  3.83s/it]"
     ]
    },
    {
     "name": "stdout",
     "output_type": "stream",
     "text": [
      "number of anomaly points 0\n",
      "-1212\n"
     ]
    },
    {
     "name": "stderr",
     "output_type": "stream",
     "text": [
      "\r",
      " 65%|██████▌   | 30/46 [01:54<01:00,  3.80s/it]"
     ]
    },
    {
     "name": "stdout",
     "output_type": "stream",
     "text": [
      "number of anomaly points 4\n",
      "auc_lof_baseline 0.7475728155339806\n",
      "-1210\n"
     ]
    },
    {
     "name": "stderr",
     "output_type": "stream",
     "text": [
      "\r",
      " 67%|██████▋   | 31/46 [01:57<00:56,  3.79s/it]"
     ]
    },
    {
     "name": "stdout",
     "output_type": "stream",
     "text": [
      "number of anomaly points 2\n",
      "auc_lof_baseline 0.829718875502008\n",
      "-1203\n"
     ]
    },
    {
     "name": "stderr",
     "output_type": "stream",
     "text": [
      "\r",
      " 70%|██████▉   | 32/46 [02:01<00:53,  3.80s/it]"
     ]
    },
    {
     "name": "stdout",
     "output_type": "stream",
     "text": [
      "number of anomaly points 0\n",
      "-1191\n"
     ]
    },
    {
     "name": "stderr",
     "output_type": "stream",
     "text": [
      "\r",
      " 72%|███████▏  | 33/46 [02:05<00:49,  3.80s/it]"
     ]
    },
    {
     "name": "stdout",
     "output_type": "stream",
     "text": [
      "number of anomaly points 1\n",
      "auc_lof_baseline 0.7451923076923077\n",
      "-1176\n"
     ]
    },
    {
     "name": "stderr",
     "output_type": "stream",
     "text": [
      "\r",
      " 74%|███████▍  | 34/46 [02:09<00:45,  3.81s/it]"
     ]
    },
    {
     "name": "stdout",
     "output_type": "stream",
     "text": [
      "number of anomaly points 0\n",
      "-1167\n"
     ]
    },
    {
     "name": "stderr",
     "output_type": "stream",
     "text": [
      "\r",
      " 76%|███████▌  | 35/46 [02:13<00:42,  3.86s/it]"
     ]
    },
    {
     "name": "stdout",
     "output_type": "stream",
     "text": [
      "number of anomaly points 0\n",
      "-1161\n"
     ]
    },
    {
     "name": "stderr",
     "output_type": "stream",
     "text": [
      "\r",
      " 78%|███████▊  | 36/46 [02:17<00:38,  3.85s/it]"
     ]
    },
    {
     "name": "stdout",
     "output_type": "stream",
     "text": [
      "number of anomaly points 1\n",
      "auc_lof_baseline 0.7451923076923077\n",
      "-1149\n"
     ]
    },
    {
     "name": "stderr",
     "output_type": "stream",
     "text": [
      "\r",
      " 80%|████████  | 37/46 [02:20<00:34,  3.85s/it]"
     ]
    },
    {
     "name": "stdout",
     "output_type": "stream",
     "text": [
      "number of anomaly points 0\n",
      "-1119\n"
     ]
    },
    {
     "name": "stderr",
     "output_type": "stream",
     "text": [
      "\r",
      " 83%|████████▎ | 38/46 [02:24<00:30,  3.84s/it]"
     ]
    },
    {
     "name": "stdout",
     "output_type": "stream",
     "text": [
      "number of anomaly points 2\n",
      "auc_lof_baseline 0.829718875502008\n",
      "-1090\n"
     ]
    },
    {
     "name": "stderr",
     "output_type": "stream",
     "text": [
      "\r",
      " 85%|████████▍ | 39/46 [02:28<00:26,  3.81s/it]"
     ]
    },
    {
     "name": "stdout",
     "output_type": "stream",
     "text": [
      "number of anomaly points 2\n",
      "auc_lof_baseline 0.829718875502008\n",
      "-1066\n"
     ]
    },
    {
     "name": "stderr",
     "output_type": "stream",
     "text": [
      "\r",
      " 87%|████████▋ | 40/46 [02:32<00:22,  3.81s/it]"
     ]
    },
    {
     "name": "stdout",
     "output_type": "stream",
     "text": [
      "number of anomaly points 2\n",
      "auc_lof_baseline 0.829718875502008\n",
      "-1037\n"
     ]
    },
    {
     "name": "stderr",
     "output_type": "stream",
     "text": [
      "\r",
      " 89%|████████▉ | 41/46 [02:36<00:19,  3.85s/it]"
     ]
    },
    {
     "name": "stdout",
     "output_type": "stream",
     "text": [
      "number of anomaly points 0\n",
      "-1016\n"
     ]
    },
    {
     "name": "stderr",
     "output_type": "stream",
     "text": [
      "\r",
      " 91%|█████████▏| 42/46 [02:40<00:15,  3.84s/it]"
     ]
    },
    {
     "name": "stdout",
     "output_type": "stream",
     "text": [
      "number of anomaly points 1\n",
      "auc_lof_baseline 0.7451923076923077\n",
      "-1010\n"
     ]
    },
    {
     "name": "stderr",
     "output_type": "stream",
     "text": [
      "\r",
      " 93%|█████████▎| 43/46 [02:43<00:11,  3.84s/it]"
     ]
    },
    {
     "name": "stdout",
     "output_type": "stream",
     "text": [
      "number of anomaly points 1\n",
      "auc_lof_baseline 0.5951573849878935\n",
      "-1009\n"
     ]
    },
    {
     "name": "stderr",
     "output_type": "stream",
     "text": [
      "\r",
      " 96%|█████████▌| 44/46 [02:47<00:07,  3.82s/it]"
     ]
    },
    {
     "name": "stdout",
     "output_type": "stream",
     "text": [
      "number of anomaly points 0\n",
      "-1007\n"
     ]
    },
    {
     "name": "stderr",
     "output_type": "stream",
     "text": [
      "\r",
      " 98%|█████████▊| 45/46 [02:51<00:03,  3.84s/it]"
     ]
    },
    {
     "name": "stdout",
     "output_type": "stream",
     "text": [
      "number of anomaly points 0\n",
      "-1000\n"
     ]
    },
    {
     "name": "stderr",
     "output_type": "stream",
     "text": [
      "100%|██████████| 46/46 [02:55<00:00,  3.81s/it]"
     ]
    },
    {
     "name": "stdout",
     "output_type": "stream",
     "text": [
      "number of anomaly points 3\n",
      "auc_lof_baseline 0.7475728155339806\n"
     ]
    },
    {
     "name": "stderr",
     "output_type": "stream",
     "text": [
      "\n"
     ]
    }
   ],
   "source": [
    "auc_baseline_lof_scores = []\n",
    "for i in tqdm(E_Res_singlefamily['Service Point']):\n",
    "    servicepoint=i\n",
    "    print(servicepoint)\n",
    "    kmeans_lof_result_,df_lstm=check_outlier(servicepoint,num_kmeans_outlier=10)\n",
    "    quantile_50=kmeans_lof_result_['Energy_kwh'].quantile(0.5)\n",
    "    kmeans_lof_result_[f'{servicepoint}true_anomaly']=0\n",
    "    kmeans_lof_result_[f'{servicepoint}true_anomaly'] = np.where((kmeans_lof_result_['tavg'] < 5) &\n",
    "                                        (kmeans_lof_result_['Energy_kwh'] < quantile_50), 1,  kmeans_lof_result_[f'{servicepoint}true_anomaly'])\n",
    "    kmeans_lof_result_[f'{servicepoint}true_anomaly'] = np.where((kmeans_lof_result_['tavg'] > 30) & \n",
    "                                        (kmeans_lof_result_['Energy_kwh'] < quantile_50), 1, kmeans_lof_result_[f'{servicepoint}true_anomaly'])\n",
    "    length=12\n",
    "    anomalypoints=len(kmeans_lof_result_['2021-02-10':][kmeans_lof_result_['2021-02-10':][f'{servicepoint}true_anomaly']==1])\n",
    "    print('number of anomaly points',anomalypoints)\n",
    "    if anomalypoints>0:\n",
    "        auc_baseline = roc_auc_score(kmeans_lof_result_[[f'{servicepoint}true_anomaly']], kmeans_lof_result_[[f'{servicepoint}lof_is_outlier']])\n",
    "        print('auc_lof_baseline',auc_baseline)\n",
    "        auc_baseline_lof_scores.append(auc_baseline)\n",
    "        "
   ]
  },
  {
   "cell_type": "code",
   "execution_count": 37,
   "metadata": {},
   "outputs": [],
   "source": [
    "lof_baseline=sum(auc_baseline_lof_scores)/len(auc_baseline_lof_scores)"
   ]
  },
  {
   "cell_type": "code",
   "execution_count": 23,
   "metadata": {},
   "outputs": [
    {
     "name": "stderr",
     "output_type": "stream",
     "text": [
      "\r",
      "  0%|          | 0/46 [00:00<?, ?it/s]"
     ]
    },
    {
     "name": "stdout",
     "output_type": "stream",
     "text": [
      "-1608\n",
      "number of anomaly points 2\n",
      "1.4546\n"
     ]
    },
    {
     "name": "stderr",
     "output_type": "stream",
     "text": [
      "\r",
      "  2%|▏         | 1/46 [02:03<1:32:36, 123.48s/it]"
     ]
    },
    {
     "name": "stdout",
     "output_type": "stream",
     "text": [
      "ensembe 0.9375 auc_baseline 0.4375\n",
      "-1581\n",
      "number of anomaly points 3\n",
      "4.1654\n"
     ]
    },
    {
     "name": "stderr",
     "output_type": "stream",
     "text": [
      "\r",
      "  4%|▍         | 2/46 [04:06<1:30:28, 123.37s/it]"
     ]
    },
    {
     "name": "stdout",
     "output_type": "stream",
     "text": [
      "ensembe 0.8333333333333333 auc_baseline 0.5476190476190477\n",
      "-1546\n",
      "number of anomaly points 2\n",
      "1.2949\n"
     ]
    },
    {
     "name": "stderr",
     "output_type": "stream",
     "text": [
      "\r",
      "  7%|▋         | 3/46 [06:08<1:27:59, 122.78s/it]"
     ]
    },
    {
     "name": "stdout",
     "output_type": "stream",
     "text": [
      "ensembe 0.6875 auc_baseline 0.5625\n",
      "-1528\n"
     ]
    },
    {
     "name": "stderr",
     "output_type": "stream",
     "text": [
      "\r",
      "  9%|▊         | 4/46 [06:12<53:04, 75.81s/it]   "
     ]
    },
    {
     "name": "stdout",
     "output_type": "stream",
     "text": [
      "number of anomaly points 0\n",
      "-1510\n"
     ]
    },
    {
     "name": "stderr",
     "output_type": "stream",
     "text": [
      "\r",
      " 11%|█         | 5/46 [06:16<34:04, 49.87s/it]"
     ]
    },
    {
     "name": "stdout",
     "output_type": "stream",
     "text": [
      "number of anomaly points 0\n",
      "-1492\n",
      "number of anomaly points 1\n",
      "0.8061\n"
     ]
    },
    {
     "name": "stderr",
     "output_type": "stream",
     "text": [
      "\r",
      " 13%|█▎        | 6/46 [08:18<49:33, 74.33s/it]"
     ]
    },
    {
     "name": "stdout",
     "output_type": "stream",
     "text": [
      "ensembe 0.3888888888888889 auc_baseline 0.2222222222222222\n",
      "-1468\n",
      "number of anomaly points 2\n",
      "3.3505\n"
     ]
    },
    {
     "name": "stderr",
     "output_type": "stream",
     "text": [
      "\r",
      " 15%|█▌        | 7/46 [10:19<58:12, 89.56s/it]"
     ]
    },
    {
     "name": "stdout",
     "output_type": "stream",
     "text": [
      "ensembe 1.0 auc_baseline 0.6875\n",
      "-1454\n"
     ]
    },
    {
     "name": "stderr",
     "output_type": "stream",
     "text": [
      "\r",
      " 17%|█▋        | 8/46 [10:23<39:27, 62.29s/it]"
     ]
    },
    {
     "name": "stdout",
     "output_type": "stream",
     "text": [
      "number of anomaly points 0\n",
      "-1441\n"
     ]
    },
    {
     "name": "stderr",
     "output_type": "stream",
     "text": [
      "\r",
      " 20%|█▉        | 9/46 [10:27<27:09, 44.03s/it]"
     ]
    },
    {
     "name": "stdout",
     "output_type": "stream",
     "text": [
      "number of anomaly points 0\n",
      "-1432\n",
      "number of anomaly points 1\n",
      "0.831\n"
     ]
    },
    {
     "name": "stderr",
     "output_type": "stream",
     "text": [
      "\r",
      " 22%|██▏       | 10/46 [12:28<40:47, 67.99s/it]"
     ]
    },
    {
     "name": "stdout",
     "output_type": "stream",
     "text": [
      "ensembe 0.4444444444444444 auc_baseline 0.2222222222222222\n",
      "-1421\n"
     ]
    },
    {
     "name": "stderr",
     "output_type": "stream",
     "text": [
      "\r",
      " 24%|██▍       | 11/46 [12:32<28:12, 48.37s/it]"
     ]
    },
    {
     "name": "stdout",
     "output_type": "stream",
     "text": [
      "number of anomaly points 0\n",
      "-1407\n",
      "number of anomaly points 2\n",
      "2.3362\n"
     ]
    },
    {
     "name": "stderr",
     "output_type": "stream",
     "text": [
      "\r",
      " 26%|██▌       | 12/46 [14:34<40:07, 70.80s/it]"
     ]
    },
    {
     "name": "stdout",
     "output_type": "stream",
     "text": [
      "ensembe 0.875 auc_baseline 0.8125\n",
      "-1399\n"
     ]
    },
    {
     "name": "stderr",
     "output_type": "stream",
     "text": [
      "\r",
      " 28%|██▊       | 13/46 [14:38<27:47, 50.52s/it]"
     ]
    },
    {
     "name": "stdout",
     "output_type": "stream",
     "text": [
      "number of anomaly points 0\n",
      "-1373\n"
     ]
    },
    {
     "name": "stderr",
     "output_type": "stream",
     "text": [
      "\r",
      " 30%|███       | 14/46 [14:42<19:25, 36.42s/it]"
     ]
    },
    {
     "name": "stdout",
     "output_type": "stream",
     "text": [
      "number of anomaly points 0\n",
      "-1346\n",
      "number of anomaly points 1\n",
      "0.7297\n"
     ]
    },
    {
     "name": "stderr",
     "output_type": "stream",
     "text": [
      "\r",
      " 33%|███▎      | 15/46 [16:44<32:11, 62.31s/it]"
     ]
    },
    {
     "name": "stdout",
     "output_type": "stream",
     "text": [
      "ensembe 0.8888888888888888 auc_baseline 0.8888888888888888\n",
      "-1329\n"
     ]
    },
    {
     "name": "stderr",
     "output_type": "stream",
     "text": [
      "\r",
      " 35%|███▍      | 16/46 [16:48<22:21, 44.70s/it]"
     ]
    },
    {
     "name": "stdout",
     "output_type": "stream",
     "text": [
      "number of anomaly points 0\n",
      "-1325\n"
     ]
    },
    {
     "name": "stderr",
     "output_type": "stream",
     "text": [
      "\r",
      " 37%|███▋      | 17/46 [16:52<15:41, 32.46s/it]"
     ]
    },
    {
     "name": "stdout",
     "output_type": "stream",
     "text": [
      "number of anomaly points 0\n",
      "-1309\n",
      "number of anomaly points 1\n",
      "1.0155\n"
     ]
    },
    {
     "name": "stderr",
     "output_type": "stream",
     "text": [
      "\r",
      " 39%|███▉      | 18/46 [18:55<27:52, 59.74s/it]"
     ]
    },
    {
     "name": "stdout",
     "output_type": "stream",
     "text": [
      "ensembe 0.8333333333333334 auc_baseline 0.33333333333333337\n",
      "-1306\n"
     ]
    },
    {
     "name": "stderr",
     "output_type": "stream",
     "text": [
      "\r",
      " 41%|████▏     | 19/46 [18:59<19:19, 42.96s/it]"
     ]
    },
    {
     "name": "stdout",
     "output_type": "stream",
     "text": [
      "number of anomaly points 0\n",
      "-1302\n"
     ]
    },
    {
     "name": "stderr",
     "output_type": "stream",
     "text": [
      "\r",
      " 43%|████▎     | 20/46 [19:03<13:32, 31.26s/it]"
     ]
    },
    {
     "name": "stdout",
     "output_type": "stream",
     "text": [
      "number of anomaly points 0\n",
      "-1297\n"
     ]
    },
    {
     "name": "stderr",
     "output_type": "stream",
     "text": [
      "\r",
      " 46%|████▌     | 21/46 [19:07<09:35, 23.03s/it]"
     ]
    },
    {
     "name": "stdout",
     "output_type": "stream",
     "text": [
      "number of anomaly points 0\n",
      "-1282\n"
     ]
    },
    {
     "name": "stderr",
     "output_type": "stream",
     "text": [
      "\r",
      " 48%|████▊     | 22/46 [19:11<06:55, 17.29s/it]"
     ]
    },
    {
     "name": "stdout",
     "output_type": "stream",
     "text": [
      "number of anomaly points 0\n",
      "-1268\n"
     ]
    },
    {
     "name": "stderr",
     "output_type": "stream",
     "text": [
      "\r",
      " 50%|█████     | 23/46 [19:15<05:05, 13.30s/it]"
     ]
    },
    {
     "name": "stdout",
     "output_type": "stream",
     "text": [
      "number of anomaly points 0\n",
      "-1260\n"
     ]
    },
    {
     "name": "stderr",
     "output_type": "stream",
     "text": [
      "\r",
      " 52%|█████▏    | 24/46 [19:19<03:50, 10.46s/it]"
     ]
    },
    {
     "name": "stdout",
     "output_type": "stream",
     "text": [
      "number of anomaly points 0\n",
      "-1252\n",
      "number of anomaly points 2\n",
      "1.27\n"
     ]
    },
    {
     "name": "stderr",
     "output_type": "stream",
     "text": [
      "\r",
      " 54%|█████▍    | 25/46 [21:21<15:23, 43.97s/it]"
     ]
    },
    {
     "name": "stdout",
     "output_type": "stream",
     "text": [
      "ensembe 1.0 auc_baseline 0.875\n",
      "-1237\n"
     ]
    },
    {
     "name": "stderr",
     "output_type": "stream",
     "text": [
      "\r",
      " 57%|█████▋    | 26/46 [21:25<10:38, 31.92s/it]"
     ]
    },
    {
     "name": "stdout",
     "output_type": "stream",
     "text": [
      "number of anomaly points 0\n",
      "-1234\n",
      "number of anomaly points 2\n",
      "3.9457\n"
     ]
    },
    {
     "name": "stderr",
     "output_type": "stream",
     "text": [
      "\r",
      " 59%|█████▊    | 27/46 [23:26<18:38, 58.85s/it]"
     ]
    },
    {
     "name": "stdout",
     "output_type": "stream",
     "text": [
      "ensembe 1.0 auc_baseline 0.625\n",
      "-1225\n",
      "number of anomaly points 1\n",
      "1.6597\n"
     ]
    },
    {
     "name": "stderr",
     "output_type": "stream",
     "text": [
      "\r",
      " 61%|██████    | 28/46 [25:29<23:22, 77.91s/it]"
     ]
    },
    {
     "name": "stdout",
     "output_type": "stream",
     "text": [
      "ensembe 0.5 auc_baseline 0.33333333333333337\n",
      "-1221\n"
     ]
    },
    {
     "name": "stderr",
     "output_type": "stream",
     "text": [
      "\r",
      " 63%|██████▎   | 29/46 [25:33<15:47, 55.75s/it]"
     ]
    },
    {
     "name": "stdout",
     "output_type": "stream",
     "text": [
      "number of anomaly points 0\n",
      "-1212\n",
      "number of anomaly points 4\n",
      "1.3705\n"
     ]
    },
    {
     "name": "stderr",
     "output_type": "stream",
     "text": [
      "\r",
      " 65%|██████▌   | 30/46 [27:36<20:17, 76.11s/it]"
     ]
    },
    {
     "name": "stdout",
     "output_type": "stream",
     "text": [
      "ensembe 0.875 auc_baseline 0.7916666666666667\n",
      "-1210\n",
      "number of anomaly points 2\n",
      "1.1974\n"
     ]
    },
    {
     "name": "stderr",
     "output_type": "stream",
     "text": [
      "\r",
      " 67%|██████▋   | 31/46 [29:38<22:27, 89.85s/it]"
     ]
    },
    {
     "name": "stdout",
     "output_type": "stream",
     "text": [
      "ensembe 1.0 auc_baseline 0.875\n",
      "-1203\n"
     ]
    },
    {
     "name": "stderr",
     "output_type": "stream",
     "text": [
      "\r",
      " 70%|██████▉   | 32/46 [29:42<14:57, 64.11s/it]"
     ]
    },
    {
     "name": "stdout",
     "output_type": "stream",
     "text": [
      "number of anomaly points 0\n",
      "-1191\n",
      "number of anomaly points 1\n",
      "3.161\n"
     ]
    },
    {
     "name": "stderr",
     "output_type": "stream",
     "text": [
      "\r",
      " 72%|███████▏  | 33/46 [31:50<18:03, 83.32s/it]"
     ]
    },
    {
     "name": "stdout",
     "output_type": "stream",
     "text": [
      "ensembe 0.5 auc_baseline 0.33333333333333337\n",
      "-1176\n"
     ]
    },
    {
     "name": "stderr",
     "output_type": "stream",
     "text": [
      "\r",
      " 74%|███████▍  | 34/46 [31:54<11:54, 59.52s/it]"
     ]
    },
    {
     "name": "stdout",
     "output_type": "stream",
     "text": [
      "number of anomaly points 0\n",
      "-1167\n"
     ]
    },
    {
     "name": "stderr",
     "output_type": "stream",
     "text": [
      "\r",
      " 76%|███████▌  | 35/46 [31:58<07:51, 42.86s/it]"
     ]
    },
    {
     "name": "stdout",
     "output_type": "stream",
     "text": [
      "number of anomaly points 0\n",
      "-1161\n",
      "number of anomaly points 1\n",
      "1.7825\n"
     ]
    },
    {
     "name": "stderr",
     "output_type": "stream",
     "text": [
      "\r",
      " 78%|███████▊  | 36/46 [34:03<11:14, 67.44s/it]"
     ]
    },
    {
     "name": "stdout",
     "output_type": "stream",
     "text": [
      "ensembe 1.0 auc_baseline 0.7777777777777778\n",
      "-1149\n"
     ]
    },
    {
     "name": "stderr",
     "output_type": "stream",
     "text": [
      "\r",
      " 80%|████████  | 37/46 [34:07<07:15, 48.38s/it]"
     ]
    },
    {
     "name": "stdout",
     "output_type": "stream",
     "text": [
      "number of anomaly points 0\n",
      "-1119\n",
      "number of anomaly points 2\n",
      "2.2856\n"
     ]
    },
    {
     "name": "stderr",
     "output_type": "stream",
     "text": [
      "\r",
      " 83%|████████▎ | 38/46 [36:10<09:25, 70.73s/it]"
     ]
    },
    {
     "name": "stdout",
     "output_type": "stream",
     "text": [
      "ensembe 0.9375 auc_baseline 0.4375\n",
      "-1090\n",
      "number of anomaly points 2\n",
      "4.2355\n"
     ]
    },
    {
     "name": "stderr",
     "output_type": "stream",
     "text": [
      "\r",
      " 85%|████████▍ | 39/46 [38:04<09:45, 83.58s/it]"
     ]
    },
    {
     "name": "stdout",
     "output_type": "stream",
     "text": [
      "ensembe 0.6875 auc_baseline 0.5\n",
      "-1066\n",
      "number of anomaly points 2\n",
      "1.5945\n"
     ]
    },
    {
     "name": "stderr",
     "output_type": "stream",
     "text": [
      "\r",
      " 87%|████████▋ | 40/46 [40:06<09:31, 95.24s/it]"
     ]
    },
    {
     "name": "stdout",
     "output_type": "stream",
     "text": [
      "ensembe 0.9375 auc_baseline 0.5625\n",
      "-1037\n"
     ]
    },
    {
     "name": "stderr",
     "output_type": "stream",
     "text": [
      "\r",
      " 89%|████████▉ | 41/46 [40:10<05:39, 67.86s/it]"
     ]
    },
    {
     "name": "stdout",
     "output_type": "stream",
     "text": [
      "number of anomaly points 0\n",
      "-1016\n",
      "number of anomaly points 1\n",
      "1.0319\n"
     ]
    },
    {
     "name": "stderr",
     "output_type": "stream",
     "text": [
      "\r",
      " 91%|█████████▏| 42/46 [42:15<05:40, 85.04s/it]"
     ]
    },
    {
     "name": "stdout",
     "output_type": "stream",
     "text": [
      "ensembe 0.3888888888888889 auc_baseline 0.2222222222222222\n",
      "-1010\n",
      "number of anomaly points 1\n",
      "3.6066\n"
     ]
    },
    {
     "name": "stderr",
     "output_type": "stream",
     "text": [
      "\r",
      " 93%|█████████▎| 43/46 [44:18<04:49, 96.37s/it]"
     ]
    },
    {
     "name": "stdout",
     "output_type": "stream",
     "text": [
      "ensembe 0.6666666666666667 auc_baseline 0.16666666666666669\n",
      "-1009\n"
     ]
    },
    {
     "name": "stderr",
     "output_type": "stream",
     "text": [
      "\r",
      " 96%|█████████▌| 44/46 [44:22<02:17, 68.69s/it]"
     ]
    },
    {
     "name": "stdout",
     "output_type": "stream",
     "text": [
      "number of anomaly points 0\n",
      "-1007\n"
     ]
    },
    {
     "name": "stderr",
     "output_type": "stream",
     "text": [
      "\r",
      " 98%|█████████▊| 45/46 [44:26<00:49, 49.27s/it]"
     ]
    },
    {
     "name": "stdout",
     "output_type": "stream",
     "text": [
      "number of anomaly points 0\n",
      "-1000\n",
      "number of anomaly points 3\n",
      "0.9051\n"
     ]
    },
    {
     "name": "stderr",
     "output_type": "stream",
     "text": [
      "100%|██████████| 46/46 [46:40<00:00, 60.87s/it]"
     ]
    },
    {
     "name": "stdout",
     "output_type": "stream",
     "text": [
      "ensembe 0.7142857142857143 auc_baseline 0.38095238095238093\n"
     ]
    },
    {
     "name": "stderr",
     "output_type": "stream",
     "text": [
      "\n"
     ]
    }
   ],
   "source": [
    "auc_ensemble_scores = []\n",
    "auc_baseline_scores = []\n",
    "for i in tqdm(E_Res_singlefamily['Service Point']):\n",
    "    servicepoint=i\n",
    "    print(servicepoint)\n",
    "    kmeans_lof_result_,df_lstm=check_outlier(servicepoint,num_kmeans_outlier=10)\n",
    "    quantile_50=kmeans_lof_result_['Energy_kwh'].quantile(0.5)\n",
    "    kmeans_lof_result_[f'{servicepoint}true_anomaly']=0\n",
    "    kmeans_lof_result_[f'{servicepoint}true_anomaly'] = np.where((kmeans_lof_result_['tavg'] < 5) &\n",
    "                                        (kmeans_lof_result_['Energy_kwh'] < quantile_50), 1,  kmeans_lof_result_[f'{servicepoint}true_anomaly'])\n",
    "    kmeans_lof_result_[f'{servicepoint}true_anomaly'] = np.where((kmeans_lof_result_['tavg'] > 30) & \n",
    "                                        (kmeans_lof_result_['Energy_kwh'] < quantile_50), 1, kmeans_lof_result_[f'{servicepoint}true_anomaly'])\n",
    "    length=12\n",
    "    anomalypoints=len(kmeans_lof_result_['2021-02-10':][kmeans_lof_result_['2021-02-10':][f'{servicepoint}true_anomaly']==1])\n",
    "    print('number of anomaly points',anomalypoints)\n",
    "    if anomalypoints>0:\n",
    "        dataframe=df_lstm[['difference']]\n",
    "        train_sequences,val_sequences,test_sequences=split_sequences(length,dataframe)\n",
    "        rnn_model = RecurrentAutoencoder(seq_len=12,n_features=1, embedding_dim=64,num_layers=2,dropout_rate=0.2)\n",
    "        criterion = nn.L1Loss(reduction='sum')\n",
    "        optimizer = optim.Adam(rnn_model.parameters(), lr=0.001)\n",
    "        total_epochs=50\n",
    "        device = torch.device(\"cuda\" if torch.cuda.is_available() else \"cpu\")\n",
    "        best_val_loss = float('inf')\n",
    "        patience = 10\n",
    "        early_stop_counter = 0\n",
    "        best_model = None  # initialize variable to hold the best model\n",
    "\n",
    "        for epoch in range(total_epochs):\n",
    "          start = time.time()\n",
    "          train_loss = train_lstmae_model(train_sequences, rnn_model, epoch, total_epochs, optimizer, criterion)\n",
    "          val_loss = val_lstmae_model(val_sequences, rnn_model, epoch, total_epochs, criterion)\n",
    "          #print(f'Epoch {epoch}-, Training_loss : {train_loss} ,Validation_loss : {val_loss}, Time :{round(start-time.time(),2)}')\n",
    "          if val_loss < best_val_loss:\n",
    "            best_val_loss = val_loss\n",
    "            early_stop_counter = 0\n",
    "            best_model = copy.deepcopy(rnn_model.state_dict())\n",
    "          else:\n",
    "            early_stop_counter += 1\n",
    "            if early_stop_counter >= patience:\n",
    "              #print(f'Validation loss did not improve for {patience} epochs. Training stopped.')\n",
    "              break\n",
    "        print(best_val_loss)\n",
    "        rnn_model.load_state_dict(best_model)\n",
    "        th=find_threshold(rnn_model,val_sequences)\n",
    "        lstm_results=predict_anomaly(rnn_model,test_sequences,th,df_lstm)\n",
    "        agg_dict = {'error': 'sum', 'anomaly': lambda x: x.mode()[0]}\n",
    "        final_lstm_results=lstm_results.resample('D').agg(agg_dict)\n",
    "        final_lstm_results1=final_lstm_results.rename(columns={'anomaly':'lstm_anomaly'})\n",
    "        final_results=final_lstm_results1.merge(kmeans_lof_result_,left_index=True,right_index=True)\n",
    "        final_results[f'{servicepoint}majority_vote'] = final_results[['lstm_anomaly', \n",
    "                                                        f'{servicepoint}lof_is_outlier', f'{servicepoint}k_means_is_outlier']].mode(axis=1)[0]\n",
    "        auc_ensemble = roc_auc_score(final_results[[f'{servicepoint}true_anomaly']], final_results[[f'{servicepoint}majority_vote']])\n",
    "        auc_baseline = roc_auc_score(final_results[[f'{servicepoint}true_anomaly']], final_results[[f'{servicepoint}lof_is_outlier']])\n",
    "        print('ensembe',auc_ensemble,'auc_baseline',auc_baseline)\n",
    "        auc_ensemble_scores.append(auc_ensemble)\n",
    "        auc_baseline_scores.append(auc_baseline)"
   ]
  },
  {
   "cell_type": "code",
   "execution_count": 35,
   "metadata": {},
   "outputs": [],
   "source": [
    "ensemble_baseline=sum(auc_ensemble_scores)/len(auc_ensemble_scores)"
   ]
  },
  {
   "cell_type": "code",
   "execution_count": 34,
   "metadata": {},
   "outputs": [],
   "source": [
    "kmeans_baseline=sum(auc_baseline_scores)/len(auc_baseline_scores)"
   ]
  },
  {
   "cell_type": "code",
   "execution_count": 39,
   "metadata": {},
   "outputs": [
    {
     "data": {
      "text/plain": [
       "47.44182067077345"
      ]
     },
     "execution_count": 39,
     "metadata": {},
     "output_type": "execute_result"
    }
   ],
   "source": [
    "difference=ensemble_baseline-kmeans_baseline\n",
    "100*difference/(kmeans_baseline)\n"
   ]
  },
  {
   "cell_type": "code",
   "execution_count": 42,
   "metadata": {},
   "outputs": [
    {
     "data": {
      "text/plain": [
       "0.6425626416892705"
      ]
     },
     "execution_count": 42,
     "metadata": {},
     "output_type": "execute_result"
    }
   ],
   "source": [
    "avg_kmeans_lof=(kmeans_baseline+lof_baseline)/2\n",
    "avg_kmeans_lof"
   ]
  },
  {
   "cell_type": "code",
   "execution_count": 45,
   "metadata": {},
   "outputs": [
    {
     "data": {
      "text/plain": [
       "20.937838653116184"
      ]
     },
     "execution_count": 45,
     "metadata": {},
     "output_type": "execute_result"
    }
   ],
   "source": [
    "difference1=ensemble_baseline-avg_kmeans_lof\n",
    "100*difference1/(avg_kmeans_lof)\n"
   ]
  }
 ],
 "metadata": {
  "kernelspec": {
   "display_name": "Python 3",
   "language": "python",
   "name": "python3"
  },
  "language_info": {
   "codemirror_mode": {
    "name": "ipython",
    "version": 3
   },
   "file_extension": ".py",
   "mimetype": "text/x-python",
   "name": "python",
   "nbconvert_exporter": "python",
   "pygments_lexer": "ipython3",
   "version": "3.6.3"
  }
 },
 "nbformat": 4,
 "nbformat_minor": 2
}
