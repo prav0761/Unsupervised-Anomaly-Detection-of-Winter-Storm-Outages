{
 "cells": [
  {
   "cell_type": "code",
   "execution_count": 2,
   "metadata": {},
   "outputs": [],
   "source": [
    "import os\n",
    "from sklearn.metrics import r2_score\n",
    "import pwlf\n",
    "import pandas as pd\n",
    "import numpy as np\n",
    "import matplotlib.pyplot as plt\n",
    "from tqdm import tqdm\n",
    "import seaborn as sns\n",
    "import sklearn\n",
    "from sklearn.linear_model import LinearRegression\n",
    "%matplotlib inline\n",
    "import missingno as msno\n",
    "np.random.seed(19)\n",
    "from matplotlib.pyplot import figure\n",
    "data_directory = '/work2/05067/nagyz/austin_energy/data/'\n",
    "filepaths = [os.path.join(data_directory,f) for f in os.listdir(data_directory) if f.endswith('.csv')]\n",
    "from datetime import datetime \n",
    "from Graphs import load_data,load_graph_kwh,yearly_graph_kwh,load_graph_count,monthly_graph_kwh,daily_graph_kwh\n",
    "from Graphs import load_graph_kwh_and_count,yearly_graph_kwh_and_count,monthly_graph_kwh_and_count,daily_graph_kwh_and_count\n",
    "from agg_and_heatmap_functions import length,prav3,prav2,prav1,dinostorm,plot_aggraph,heatmap,finalheatmap\n",
    "from sklearn.model_selection import train_test_split\n",
    "from sklearn.pipeline import make_pipeline\n",
    "from sklearn.preprocessing import StandardScaler\n",
    "from sklearn.linear_model import RidgeCV, SGDRegressor\n",
    "from sklearn.ensemble import AdaBoostRegressor, RandomForestRegressor,GradientBoostingRegressor\n",
    "from sklearn.metrics import mean_absolute_error, mean_absolute_percentage_error\n",
    "from sklearn.utils import resample\n",
    "from sklearn.linear_model import LinearRegression\n",
    "from sklearn.metrics import mean_squared_error\n",
    "from sklearn.ensemble import RandomForestClassifier\n",
    "from sklearn.linear_model import LassoCV\n",
    "from sklearn.linear_model import Ridge,Lasso\n",
    "from sklearn.model_selection import GridSearchCV,KFold\n",
    "from sklearn.neural_network import MLPRegressor\n",
    "import xgboost as xgb\n",
    "from sklearn.model_selection import RandomizedSearchCV\n",
    "import warnings\n",
    "warnings.filterwarnings('ignore')\n",
    "from sklearn.model_selection import cross_val_score\n",
    "from sklearn.metrics import accuracy_score\n",
    "from sklearn.metrics import mean_squared_error\n",
    "from sklearn.preprocessing import PolynomialFeatures"
   ]
  },
  {
   "cell_type": "code",
   "execution_count": 3,
   "metadata": {},
   "outputs": [
    {
     "data": {
      "text/plain": [
       "\"for i, row in tqdm(id_list.iterrows()):\\n    point = row['Service Point']\\n    example_ts = pd.read_csv('/work2/05067/nagyz/austin_energy/data/_4_exports_UT/UT_sID_'+str(point)+'_dates_2017.01.01_through_2021.10.01.csv')\\n    example_ts.index = pd.to_datetime(example_ts.index)\\n    example_ts = example_ts.resample('H').mean()\\n    example_ts = example_ts.drop([f'{point} count Value'], axis = 1)\\n    example_ts = example_ts['2021-02':'2021-02']\\n    \\n    \\n    # condition with energy that outage happen\\n    energy = example_ts.iloc[:, 0]\\n    Q3 = np.quantile(energy, 1)\\n    Q1 = np.quantile(energy, 0.1)\\n    energy_con = ~energy['2021-02-12':'2021-02-20'].between(Q1, Q3)\\n\\n    meter_used = example_ts.iloc[:, 1]\\n    Q3 = np.quantile(meter_used, 1)\\n    Q1 = np.quantile(meter_used, 0.1)\\n    meter_used_con = ~meter_used['2021-02-12':'2021-02-20'].between(Q1, Q3)\\n    \\n    happen = len(example_ts['2021-02-12':'2021-02-20'][(energy_con) | (meter_used_con)])\\n    total = len(example_ts['2021-02-12':'2021-02-20'])\\n    percent = round(happen / total * 100, 5)\\n    id_list.loc[i, 'is_effected'] = 1 if percent != 0.0 else 0\\n    id_list.loc[i, 'temporal_percentage'] = percent\""
      ]
     },
     "execution_count": 3,
     "metadata": {},
     "output_type": "execute_result"
    }
   ],
   "source": [
    "\"\"\"for i, row in tqdm(id_list.iterrows()):\n",
    "    point = row['Service Point']\n",
    "    example_ts = pd.read_csv('/work2/05067/nagyz/austin_energy/data/_4_exports_UT/UT_sID_'+str(point)+'_dates_2017.01.01_through_2021.10.01.csv')\n",
    "    example_ts.index = pd.to_datetime(example_ts.index)\n",
    "    example_ts = example_ts.resample('H').mean()\n",
    "    example_ts = example_ts.drop([f'{point} count Value'], axis = 1)\n",
    "    example_ts = example_ts['2021-02':'2021-02']\n",
    "    \n",
    "    \n",
    "    # condition with energy that outage happen\n",
    "    energy = example_ts.iloc[:, 0]\n",
    "    Q3 = np.quantile(energy, 1)\n",
    "    Q1 = np.quantile(energy, 0.1)\n",
    "    energy_con = ~energy['2021-02-12':'2021-02-20'].between(Q1, Q3)\n",
    "\n",
    "    meter_used = example_ts.iloc[:, 1]\n",
    "    Q3 = np.quantile(meter_used, 1)\n",
    "    Q1 = np.quantile(meter_used, 0.1)\n",
    "    meter_used_con = ~meter_used['2021-02-12':'2021-02-20'].between(Q1, Q3)\n",
    "    \n",
    "    happen = len(example_ts['2021-02-12':'2021-02-20'][(energy_con) | (meter_used_con)])\n",
    "    total = len(example_ts['2021-02-12':'2021-02-20'])\n",
    "    percent = round(happen / total * 100, 5)\n",
    "    id_list.loc[i, 'is_effected'] = 1 if percent != 0.0 else 0\n",
    "    id_list.loc[i, 'temporal_percentage'] = percent\"\"\""
   ]
  },
  {
   "cell_type": "code",
   "execution_count": 4,
   "metadata": {},
   "outputs": [],
   "source": [
    "data_dir = './data/'\n",
    "export_dir = os.path.join(data_dir, '_4_exports_UT')\n",
    "id_list = pd.read_csv('temporal_percentage1.csv')\n",
    "id_list.drop('Unnamed: 0',axis=1,inplace=True)\n",
    "other_daily=pd.read_csv('other_daily.csv')\n",
    "other_hourly=pd.read_csv('other_hourly.csv')\n",
    "other_weekly=pd.read_csv('other_weekly.csv')\n",
    "residential_daily=pd.read_csv('residential_daily.csv')\n",
    "residential_hourly=pd.read_csv('residential_hourly.csv')\n",
    "residential_weekly=pd.read_csv('residential_weekly.csv')\n",
    "commerical_daily=pd.read_csv('commercial_daily.csv')\n",
    "commercial_weekly=pd.read_csv('commercial_weekly.csv')\n",
    "commercial_hourly=pd.read_csv('commercial_hourly.csv')\n"
   ]
  },
  {
   "cell_type": "code",
   "execution_count": 5,
   "metadata": {},
   "outputs": [],
   "source": [
    "# RESIDENTIAL\n",
    "residential_daily_praveen=pd.read_csv('residential_daily_praveen.csv')\n",
    "residential_daily_praveen1=pd.read_csv('residential_daily_praveen_2ndpart of 2017.csv')\n",
    "residential_daily_praveen2=pd.read_csv('residential_daily_praveen_2021 january.csv')\n",
    "def convert(s):\n",
    "    s=s.set_index(s[s.columns[0]])\n",
    "    s.drop('Unnamed: 0',axis=1,inplace=True)\n",
    "    s.index=pd.to_datetime(s.index)\n",
    "    return s\n",
    "a=convert(residential_daily_praveen1)\n",
    "a1=convert(residential_daily_praveen)[:'2017-08-02 00:00:00+00:00']\n",
    "a2=convert(residential_daily_praveen2)\n",
    "a3=convert(residential_daily)\n",
    "residential=pd.concat([a1,a,a3,a2],axis=0)\n"
   ]
  },
  {
   "cell_type": "code",
   "execution_count": 6,
   "metadata": {},
   "outputs": [],
   "source": [
    "# commerical\n",
    "commerical_2017=pd.read_csv('commercial_2021_new_one_part.csv')\n",
    "commerical_2021=pd.read_csv('commercial_2021_new_one2021_part.csv')\n",
    "b=convert(commerical_2017)\n",
    "b1=convert(commerical_2021)\n",
    "b2=convert(commerical_daily)\n",
    "commerical=pd.concat([b,b2,b1],axis=0)"
   ]
  },
  {
   "cell_type": "code",
   "execution_count": 7,
   "metadata": {},
   "outputs": [
    {
     "data": {
      "text/plain": [
       "[<matplotlib.lines.Line2D at 0x2ad2a7972940>]"
      ]
     },
     "execution_count": 7,
     "metadata": {},
     "output_type": "execute_result"
    },
    {
     "data": {
      "image/png": "[encoded data removed]",
      "text/plain": [
       "<Figure size 432x288 with 1 Axes>"
      ]
     },
     "metadata": {
      "needs_background": "light"
     },
     "output_type": "display_data"
    }
   ],
   "source": [
    "plt.plot(commerical)"
   ]
  },
  {
   "cell_type": "code",
   "execution_count": 8,
   "metadata": {},
   "outputs": [],
   "source": [
    "# OTHER\n",
    "other_2017=pd.read_csv('other_2017_part.csv')\n",
    "other_2021=pd.read_csv('other_2021_part.csv')\n",
    "c=convert(other_2017)\n",
    "c1=convert(other_2021)\n",
    "c2=convert(other_daily)\n",
    "other=pd.concat([c2,c1],axis=0)\n"
   ]
  },
  {
   "cell_type": "code",
   "execution_count": 9,
   "metadata": {},
   "outputs": [
    {
     "data": {
      "text/plain": [
       "time\n",
       "2017-01-04 00:00:00+00:00     5.9\n",
       "2017-01-05 00:00:00+00:00     8.6\n",
       "2017-01-06 00:00:00+00:00    -1.1\n",
       "2017-01-07 00:00:00+00:00    -0.9\n",
       "2017-01-08 00:00:00+00:00     3.0\n",
       "                             ... \n",
       "2021-01-23 00:00:00+00:00    13.8\n",
       "2021-01-26 00:00:00+00:00    14.9\n",
       "2021-01-27 00:00:00+00:00    12.4\n",
       "2021-01-28 00:00:00+00:00     7.8\n",
       "2021-01-29 00:00:00+00:00    11.8\n",
       "Name: tavg, Length: 363, dtype: float64"
      ]
     },
     "execution_count": 9,
     "metadata": {},
     "output_type": "execute_result"
    }
   ],
   "source": [
    "weather_daily=pd.read_csv('Austin_weather_daily.csv')\n",
    "weather_daily['time']=pd.to_datetime(weather_daily['time'],utc=True)\n",
    "weather_daily1=weather_daily.set_index('time',drop=True)\n",
    "weather_austin_daily=weather_daily1['tavg']\n",
    "cool_points=weather_austin_daily[weather_austin_daily<15]['2017-01-01 00:00:00+00:00':'2021-01-31 00:00:00+00:00']\n",
    "cool_points"
   ]
  },
  {
   "cell_type": "code",
   "execution_count": 10,
   "metadata": {},
   "outputs": [],
   "source": [
    "# NOT UTC TIME\n",
    "weather_Pred=pd.read_csv('Austin_hourly.csv')\n",
    "weather_Pred['time']=pd.to_datetime(weather_Pred['time'])\n",
    "weather_pred1=weather_Pred.set_index('time',drop=True)\n",
    "weather_austin_hourl_pred=weather_pred1['temp']"
   ]
  },
  {
   "cell_type": "code",
   "execution_count": 11,
   "metadata": {},
   "outputs": [
    {
     "data": {
      "text/plain": [
       "Text(0.5, 1.0, 'other_outlier_visualization')"
      ]
     },
     "execution_count": 11,
     "metadata": {},
     "output_type": "execute_result"
    },
    {
     "data": {
      "image/png": "[encoded data removed]",
      "text/plain": [
       "<Figure size 1080x1080 with 4 Axes>"
      ]
     },
     "metadata": {
      "needs_background": "light"
     },
     "output_type": "display_data"
    }
   ],
   "source": [
    "fig, axs = plt.subplots(2,2, figsize=(15,15))\n",
    "axs[0,0].boxplot(residential['0'][:'2021-01-31 00:00:00+00:00'])\n",
    "axs[0,0].set_title('residential_outlier_visualization')\n",
    "axs[0,1].boxplot(commerical['0'][:'2021-01-31 00:00:00+00:00'])\n",
    "axs[0,1].set_title('commerical_outlier_visualization')\n",
    "axs[1,0].boxplot(other['0'][:'2021-01-31 00:00:00+00:00'])\n",
    "axs[1,0].set_title('other_outlier_visualization')\n",
    "# ONLY RESIDENTIAL HAS OUTLIERS"
   ]
  },
  {
   "cell_type": "code",
   "execution_count": 12,
   "metadata": {},
   "outputs": [
    {
     "data": {
      "text/plain": [
       "Text(0.5, 1.0, 'new_residential_outlier_visualization')"
      ]
     },
     "execution_count": 12,
     "metadata": {},
     "output_type": "execute_result"
    },
    {
     "data": {
      "image/png": "[encoded data removed]",
      "text/plain": [
       "<Figure size 1080x360 with 1 Axes>"
      ]
     },
     "metadata": {
      "needs_background": "light"
     },
     "output_type": "display_data"
    }
   ],
   "source": [
    "Q3= residential['0'].quantile(0.975)\n",
    "residential1=residential[residential['0']<Q3][:'2021-01-31 00:00:00+00:00']\n",
    "fig, ax1 = plt.subplots(1, figsize=(15,5))\n",
    "ax1.boxplot(residential1['0'][:'2021-01-31 00:00:00+00:00'])\n",
    "ax1.set_title('new_residential_outlier_visualization')"
   ]
  },
  {
   "cell_type": "code",
   "execution_count": 13,
   "metadata": {},
   "outputs": [],
   "source": [
    "def make_features(dataframe,time_level):\n",
    "    s=dataframe\n",
    "    start_time=s.index[0]\n",
    "    end_time=s.index[-1]\n",
    "    example_ts=s\n",
    "    example_ts['dayofyear_cos']=np.cos(example_ts.index.dayofyear*(2.*np.pi/365))\n",
    "    example_ts['dayofyear_sim']=np.sin(example_ts.index.dayofyear*(2.*np.pi/365))\n",
    "    example_ts['month_cos']=np.cos(example_ts.index.month*(2.*np.pi/12))\n",
    "    example_ts['month_sin']=np.sin(example_ts.index.month*(2.*np.pi/12))\n",
    "    example_ts['year'] = example_ts.index.year\n",
    "\n",
    "    for ts in example_ts.index:\n",
    "        if time_level=='hourly':\n",
    "             example_ts.loc[ts:ts, 'TMP'] = weather_austin_hourly[weather_austin_hourly.index == ts] \n",
    "        else:\n",
    "             example_ts.loc[ts:ts, 'TMP'] = weather_austin_daily[weather_austin_daily.index == ts]\n",
    "\n",
    "    return example_ts"
   ]
  },
  {
   "cell_type": "code",
   "execution_count": 64,
   "metadata": {},
   "outputs": [
    {
     "data": {
      "text/html": [
       "<div>\n",
       "<style scoped>\n",
       "    .dataframe tbody tr th:only-of-type {\n",
       "        vertical-align: middle;\n",
       "    }\n",
       "\n",
       "    .dataframe tbody tr th {\n",
       "        vertical-align: top;\n",
       "    }\n",
       "\n",
       "    .dataframe thead th {\n",
       "        text-align: right;\n",
       "    }\n",
       "</style>\n",
       "<table border=\"1\" class=\"dataframe\">\n",
       "  <thead>\n",
       "    <tr style=\"text-align: right;\">\n",
       "      <th></th>\n",
       "      <th>dayofyear_cos</th>\n",
       "      <th>dayofyear_sim</th>\n",
       "      <th>month_cos</th>\n",
       "      <th>month_sin</th>\n",
       "      <th>year</th>\n",
       "      <th>TMP</th>\n",
       "    </tr>\n",
       "    <tr>\n",
       "      <th>Unnamed: 0</th>\n",
       "      <th></th>\n",
       "      <th></th>\n",
       "      <th></th>\n",
       "      <th></th>\n",
       "      <th></th>\n",
       "      <th></th>\n",
       "    </tr>\n",
       "  </thead>\n",
       "  <tbody>\n",
       "    <tr>\n",
       "      <th>2021-02-01 00:00:00+00:00</th>\n",
       "      <td>0.852078</td>\n",
       "      <td>0.523416</td>\n",
       "      <td>5.000000e-01</td>\n",
       "      <td>0.866025</td>\n",
       "      <td>2021</td>\n",
       "      <td>11.7</td>\n",
       "    </tr>\n",
       "    <tr>\n",
       "      <th>2021-02-02 00:00:00+00:00</th>\n",
       "      <td>0.842942</td>\n",
       "      <td>0.538005</td>\n",
       "      <td>5.000000e-01</td>\n",
       "      <td>0.866025</td>\n",
       "      <td>2021</td>\n",
       "      <td>12.1</td>\n",
       "    </tr>\n",
       "    <tr>\n",
       "      <th>2021-02-03 00:00:00+00:00</th>\n",
       "      <td>0.833556</td>\n",
       "      <td>0.552435</td>\n",
       "      <td>5.000000e-01</td>\n",
       "      <td>0.866025</td>\n",
       "      <td>2021</td>\n",
       "      <td>15.7</td>\n",
       "    </tr>\n",
       "    <tr>\n",
       "      <th>2021-02-04 00:00:00+00:00</th>\n",
       "      <td>0.823923</td>\n",
       "      <td>0.566702</td>\n",
       "      <td>5.000000e-01</td>\n",
       "      <td>0.866025</td>\n",
       "      <td>2021</td>\n",
       "      <td>20.0</td>\n",
       "    </tr>\n",
       "    <tr>\n",
       "      <th>2021-02-05 00:00:00+00:00</th>\n",
       "      <td>0.814046</td>\n",
       "      <td>0.580800</td>\n",
       "      <td>5.000000e-01</td>\n",
       "      <td>0.866025</td>\n",
       "      <td>2021</td>\n",
       "      <td>11.4</td>\n",
       "    </tr>\n",
       "    <tr>\n",
       "      <th>2021-02-06 00:00:00+00:00</th>\n",
       "      <td>0.803928</td>\n",
       "      <td>0.594727</td>\n",
       "      <td>5.000000e-01</td>\n",
       "      <td>0.866025</td>\n",
       "      <td>2021</td>\n",
       "      <td>14.6</td>\n",
       "    </tr>\n",
       "    <tr>\n",
       "      <th>2021-02-07 00:00:00+00:00</th>\n",
       "      <td>0.793572</td>\n",
       "      <td>0.608477</td>\n",
       "      <td>5.000000e-01</td>\n",
       "      <td>0.866025</td>\n",
       "      <td>2021</td>\n",
       "      <td>12.9</td>\n",
       "    </tr>\n",
       "    <tr>\n",
       "      <th>2021-02-08 00:00:00+00:00</th>\n",
       "      <td>0.782980</td>\n",
       "      <td>0.622047</td>\n",
       "      <td>5.000000e-01</td>\n",
       "      <td>0.866025</td>\n",
       "      <td>2021</td>\n",
       "      <td>16.2</td>\n",
       "    </tr>\n",
       "    <tr>\n",
       "      <th>2021-02-09 00:00:00+00:00</th>\n",
       "      <td>0.772157</td>\n",
       "      <td>0.635432</td>\n",
       "      <td>5.000000e-01</td>\n",
       "      <td>0.866025</td>\n",
       "      <td>2021</td>\n",
       "      <td>14.1</td>\n",
       "    </tr>\n",
       "    <tr>\n",
       "      <th>2021-02-10 00:00:00+00:00</th>\n",
       "      <td>0.761104</td>\n",
       "      <td>0.648630</td>\n",
       "      <td>5.000000e-01</td>\n",
       "      <td>0.866025</td>\n",
       "      <td>2021</td>\n",
       "      <td>5.2</td>\n",
       "    </tr>\n",
       "    <tr>\n",
       "      <th>2021-02-11 00:00:00+00:00</th>\n",
       "      <td>0.749826</td>\n",
       "      <td>0.661635</td>\n",
       "      <td>5.000000e-01</td>\n",
       "      <td>0.866025</td>\n",
       "      <td>2021</td>\n",
       "      <td>0.8</td>\n",
       "    </tr>\n",
       "    <tr>\n",
       "      <th>2021-02-12 00:00:00+00:00</th>\n",
       "      <td>0.738326</td>\n",
       "      <td>0.674444</td>\n",
       "      <td>5.000000e-01</td>\n",
       "      <td>0.866025</td>\n",
       "      <td>2021</td>\n",
       "      <td>-0.6</td>\n",
       "    </tr>\n",
       "    <tr>\n",
       "      <th>2021-02-13 00:00:00+00:00</th>\n",
       "      <td>0.726608</td>\n",
       "      <td>0.687053</td>\n",
       "      <td>5.000000e-01</td>\n",
       "      <td>0.866025</td>\n",
       "      <td>2021</td>\n",
       "      <td>-1.6</td>\n",
       "    </tr>\n",
       "    <tr>\n",
       "      <th>2021-02-14 00:00:00+00:00</th>\n",
       "      <td>0.714673</td>\n",
       "      <td>0.699458</td>\n",
       "      <td>5.000000e-01</td>\n",
       "      <td>0.866025</td>\n",
       "      <td>2021</td>\n",
       "      <td>-4.3</td>\n",
       "    </tr>\n",
       "    <tr>\n",
       "      <th>2021-02-15 00:00:00+00:00</th>\n",
       "      <td>0.702527</td>\n",
       "      <td>0.711657</td>\n",
       "      <td>5.000000e-01</td>\n",
       "      <td>0.866025</td>\n",
       "      <td>2021</td>\n",
       "      <td>-9.0</td>\n",
       "    </tr>\n",
       "    <tr>\n",
       "      <th>2021-02-16 00:00:00+00:00</th>\n",
       "      <td>0.690173</td>\n",
       "      <td>0.723644</td>\n",
       "      <td>5.000000e-01</td>\n",
       "      <td>0.866025</td>\n",
       "      <td>2021</td>\n",
       "      <td>-7.6</td>\n",
       "    </tr>\n",
       "    <tr>\n",
       "      <th>2021-02-17 00:00:00+00:00</th>\n",
       "      <td>0.677615</td>\n",
       "      <td>0.735417</td>\n",
       "      <td>5.000000e-01</td>\n",
       "      <td>0.866025</td>\n",
       "      <td>2021</td>\n",
       "      <td>-1.8</td>\n",
       "    </tr>\n",
       "    <tr>\n",
       "      <th>2021-02-18 00:00:00+00:00</th>\n",
       "      <td>0.664855</td>\n",
       "      <td>0.746972</td>\n",
       "      <td>5.000000e-01</td>\n",
       "      <td>0.866025</td>\n",
       "      <td>2021</td>\n",
       "      <td>-1.8</td>\n",
       "    </tr>\n",
       "    <tr>\n",
       "      <th>2021-02-19 00:00:00+00:00</th>\n",
       "      <td>0.651899</td>\n",
       "      <td>0.758306</td>\n",
       "      <td>5.000000e-01</td>\n",
       "      <td>0.866025</td>\n",
       "      <td>2021</td>\n",
       "      <td>-0.5</td>\n",
       "    </tr>\n",
       "    <tr>\n",
       "      <th>2021-02-20 00:00:00+00:00</th>\n",
       "      <td>0.638749</td>\n",
       "      <td>0.769415</td>\n",
       "      <td>5.000000e-01</td>\n",
       "      <td>0.866025</td>\n",
       "      <td>2021</td>\n",
       "      <td>6.6</td>\n",
       "    </tr>\n",
       "    <tr>\n",
       "      <th>2021-02-21 00:00:00+00:00</th>\n",
       "      <td>0.625411</td>\n",
       "      <td>0.780296</td>\n",
       "      <td>5.000000e-01</td>\n",
       "      <td>0.866025</td>\n",
       "      <td>2021</td>\n",
       "      <td>15.1</td>\n",
       "    </tr>\n",
       "    <tr>\n",
       "      <th>2021-02-22 00:00:00+00:00</th>\n",
       "      <td>0.611886</td>\n",
       "      <td>0.790946</td>\n",
       "      <td>5.000000e-01</td>\n",
       "      <td>0.866025</td>\n",
       "      <td>2021</td>\n",
       "      <td>15.3</td>\n",
       "    </tr>\n",
       "    <tr>\n",
       "      <th>2021-02-23 00:00:00+00:00</th>\n",
       "      <td>0.598181</td>\n",
       "      <td>0.801361</td>\n",
       "      <td>5.000000e-01</td>\n",
       "      <td>0.866025</td>\n",
       "      <td>2021</td>\n",
       "      <td>17.9</td>\n",
       "    </tr>\n",
       "    <tr>\n",
       "      <th>2021-02-24 00:00:00+00:00</th>\n",
       "      <td>0.584298</td>\n",
       "      <td>0.811539</td>\n",
       "      <td>5.000000e-01</td>\n",
       "      <td>0.866025</td>\n",
       "      <td>2021</td>\n",
       "      <td>22.3</td>\n",
       "    </tr>\n",
       "    <tr>\n",
       "      <th>2021-02-25 00:00:00+00:00</th>\n",
       "      <td>0.570242</td>\n",
       "      <td>0.821477</td>\n",
       "      <td>5.000000e-01</td>\n",
       "      <td>0.866025</td>\n",
       "      <td>2021</td>\n",
       "      <td>13.8</td>\n",
       "    </tr>\n",
       "    <tr>\n",
       "      <th>2021-02-26 00:00:00+00:00</th>\n",
       "      <td>0.556017</td>\n",
       "      <td>0.831171</td>\n",
       "      <td>5.000000e-01</td>\n",
       "      <td>0.866025</td>\n",
       "      <td>2021</td>\n",
       "      <td>12.0</td>\n",
       "    </tr>\n",
       "    <tr>\n",
       "      <th>2021-02-27 00:00:00+00:00</th>\n",
       "      <td>0.541628</td>\n",
       "      <td>0.840618</td>\n",
       "      <td>5.000000e-01</td>\n",
       "      <td>0.866025</td>\n",
       "      <td>2021</td>\n",
       "      <td>19.5</td>\n",
       "    </tr>\n",
       "    <tr>\n",
       "      <th>2021-02-28 00:00:00+00:00</th>\n",
       "      <td>0.527078</td>\n",
       "      <td>0.849817</td>\n",
       "      <td>5.000000e-01</td>\n",
       "      <td>0.866025</td>\n",
       "      <td>2021</td>\n",
       "      <td>21.7</td>\n",
       "    </tr>\n",
       "    <tr>\n",
       "      <th>2021-03-01 00:00:00+00:00</th>\n",
       "      <td>0.512371</td>\n",
       "      <td>0.858764</td>\n",
       "      <td>6.123234e-17</td>\n",
       "      <td>1.000000</td>\n",
       "      <td>2021</td>\n",
       "      <td>11.7</td>\n",
       "    </tr>\n",
       "  </tbody>\n",
       "</table>\n",
       "</div>"
      ],
      "text/plain": [
       "                           dayofyear_cos  dayofyear_sim     month_cos  \\\n",
       "Unnamed: 0                                                              \n",
       "2021-02-01 00:00:00+00:00       0.852078       0.523416  5.000000e-01   \n",
       "2021-02-02 00:00:00+00:00       0.842942       0.538005  5.000000e-01   \n",
       "2021-02-03 00:00:00+00:00       0.833556       0.552435  5.000000e-01   \n",
       "2021-02-04 00:00:00+00:00       0.823923       0.566702  5.000000e-01   \n",
       "2021-02-05 00:00:00+00:00       0.814046       0.580800  5.000000e-01   \n",
       "2021-02-06 00:00:00+00:00       0.803928       0.594727  5.000000e-01   \n",
       "2021-02-07 00:00:00+00:00       0.793572       0.608477  5.000000e-01   \n",
       "2021-02-08 00:00:00+00:00       0.782980       0.622047  5.000000e-01   \n",
       "2021-02-09 00:00:00+00:00       0.772157       0.635432  5.000000e-01   \n",
       "2021-02-10 00:00:00+00:00       0.761104       0.648630  5.000000e-01   \n",
       "2021-02-11 00:00:00+00:00       0.749826       0.661635  5.000000e-01   \n",
       "2021-02-12 00:00:00+00:00       0.738326       0.674444  5.000000e-01   \n",
       "2021-02-13 00:00:00+00:00       0.726608       0.687053  5.000000e-01   \n",
       "2021-02-14 00:00:00+00:00       0.714673       0.699458  5.000000e-01   \n",
       "2021-02-15 00:00:00+00:00       0.702527       0.711657  5.000000e-01   \n",
       "2021-02-16 00:00:00+00:00       0.690173       0.723644  5.000000e-01   \n",
       "2021-02-17 00:00:00+00:00       0.677615       0.735417  5.000000e-01   \n",
       "2021-02-18 00:00:00+00:00       0.664855       0.746972  5.000000e-01   \n",
       "2021-02-19 00:00:00+00:00       0.651899       0.758306  5.000000e-01   \n",
       "2021-02-20 00:00:00+00:00       0.638749       0.769415  5.000000e-01   \n",
       "2021-02-21 00:00:00+00:00       0.625411       0.780296  5.000000e-01   \n",
       "2021-02-22 00:00:00+00:00       0.611886       0.790946  5.000000e-01   \n",
       "2021-02-23 00:00:00+00:00       0.598181       0.801361  5.000000e-01   \n",
       "2021-02-24 00:00:00+00:00       0.584298       0.811539  5.000000e-01   \n",
       "2021-02-25 00:00:00+00:00       0.570242       0.821477  5.000000e-01   \n",
       "2021-02-26 00:00:00+00:00       0.556017       0.831171  5.000000e-01   \n",
       "2021-02-27 00:00:00+00:00       0.541628       0.840618  5.000000e-01   \n",
       "2021-02-28 00:00:00+00:00       0.527078       0.849817  5.000000e-01   \n",
       "2021-03-01 00:00:00+00:00       0.512371       0.858764  6.123234e-17   \n",
       "\n",
       "                           month_sin  year   TMP  \n",
       "Unnamed: 0                                        \n",
       "2021-02-01 00:00:00+00:00   0.866025  2021  11.7  \n",
       "2021-02-02 00:00:00+00:00   0.866025  2021  12.1  \n",
       "2021-02-03 00:00:00+00:00   0.866025  2021  15.7  \n",
       "2021-02-04 00:00:00+00:00   0.866025  2021  20.0  \n",
       "2021-02-05 00:00:00+00:00   0.866025  2021  11.4  \n",
       "2021-02-06 00:00:00+00:00   0.866025  2021  14.6  \n",
       "2021-02-07 00:00:00+00:00   0.866025  2021  12.9  \n",
       "2021-02-08 00:00:00+00:00   0.866025  2021  16.2  \n",
       "2021-02-09 00:00:00+00:00   0.866025  2021  14.1  \n",
       "2021-02-10 00:00:00+00:00   0.866025  2021   5.2  \n",
       "2021-02-11 00:00:00+00:00   0.866025  2021   0.8  \n",
       "2021-02-12 00:00:00+00:00   0.866025  2021  -0.6  \n",
       "2021-02-13 00:00:00+00:00   0.866025  2021  -1.6  \n",
       "2021-02-14 00:00:00+00:00   0.866025  2021  -4.3  \n",
       "2021-02-15 00:00:00+00:00   0.866025  2021  -9.0  \n",
       "2021-02-16 00:00:00+00:00   0.866025  2021  -7.6  \n",
       "2021-02-17 00:00:00+00:00   0.866025  2021  -1.8  \n",
       "2021-02-18 00:00:00+00:00   0.866025  2021  -1.8  \n",
       "2021-02-19 00:00:00+00:00   0.866025  2021  -0.5  \n",
       "2021-02-20 00:00:00+00:00   0.866025  2021   6.6  \n",
       "2021-02-21 00:00:00+00:00   0.866025  2021  15.1  \n",
       "2021-02-22 00:00:00+00:00   0.866025  2021  15.3  \n",
       "2021-02-23 00:00:00+00:00   0.866025  2021  17.9  \n",
       "2021-02-24 00:00:00+00:00   0.866025  2021  22.3  \n",
       "2021-02-25 00:00:00+00:00   0.866025  2021  13.8  \n",
       "2021-02-26 00:00:00+00:00   0.866025  2021  12.0  \n",
       "2021-02-27 00:00:00+00:00   0.866025  2021  19.5  \n",
       "2021-02-28 00:00:00+00:00   0.866025  2021  21.7  \n",
       "2021-03-01 00:00:00+00:00   1.000000  2021  11.7  "
      ]
     },
     "execution_count": 64,
     "metadata": {},
     "output_type": "execute_result"
    }
   ],
   "source": [
    "residential_example_ts=make_features(residential1,'daily')\n",
    "residential_train_data=residential_example_ts[:'2021-01-31 00:00:00+00:00']\n",
    "residential_test_data=make_features(residential['2021-02-01 00:00:00+00:00':'2021-03-01 00:00:00+00:00'],'daily')\n",
    "resi_winter_temp=residential_test_data['TMP']\n",
    "residential_test_data[residential_test_data.columns[1:]]"
   ]
  },
  {
   "cell_type": "code",
   "execution_count": 15,
   "metadata": {},
   "outputs": [
    {
     "name": "stdout",
     "output_type": "stream",
     "text": [
      "0.24137352286329888\n"
     ]
    },
    {
     "data": {
      "image/png": "[encoded data removed]",
      "text/plain": [
       "<Figure size 432x288 with 1 Axes>"
      ]
     },
     "metadata": {
      "needs_background": "light"
     },
     "output_type": "display_data"
    }
   ],
   "source": [
    "resi_test=residential_train_data[residential_train_data['TMP']<5]\n",
    "plt.scatter(resi_test['TMP'],resi_test['0'])\n",
    "plt.xlabel('temperature(celsius)')\n",
    "plt.ylabel('kwh value')\n",
    "plt.title('correlation for residential between temp and kwh value')\n",
    "print(resi_test['TMP'].corr(resi_test['0']))\n",
    "\n"
   ]
  },
  {
   "cell_type": "code",
   "execution_count": 16,
   "metadata": {},
   "outputs": [
    {
     "data": {
      "text/html": [
       "<div>\n",
       "<style scoped>\n",
       "    .dataframe tbody tr th:only-of-type {\n",
       "        vertical-align: middle;\n",
       "    }\n",
       "\n",
       "    .dataframe tbody tr th {\n",
       "        vertical-align: top;\n",
       "    }\n",
       "\n",
       "    .dataframe thead th {\n",
       "        text-align: right;\n",
       "    }\n",
       "</style>\n",
       "<table border=\"1\" class=\"dataframe\">\n",
       "  <thead>\n",
       "    <tr style=\"text-align: right;\">\n",
       "      <th></th>\n",
       "      <th>0</th>\n",
       "      <th>dayofyear_cos</th>\n",
       "      <th>dayofyear_sim</th>\n",
       "      <th>month_cos</th>\n",
       "      <th>month_sin</th>\n",
       "      <th>year</th>\n",
       "      <th>TMP</th>\n",
       "    </tr>\n",
       "    <tr>\n",
       "      <th>Unnamed: 0</th>\n",
       "      <th></th>\n",
       "      <th></th>\n",
       "      <th></th>\n",
       "      <th></th>\n",
       "      <th></th>\n",
       "      <th></th>\n",
       "      <th></th>\n",
       "    </tr>\n",
       "  </thead>\n",
       "  <tbody>\n",
       "    <tr>\n",
       "      <th>2017-01-06 00:00:00+00:00</th>\n",
       "      <td>1834.471839</td>\n",
       "      <td>0.994671</td>\n",
       "      <td>0.103102</td>\n",
       "      <td>0.866025</td>\n",
       "      <td>5.000000e-01</td>\n",
       "      <td>2017</td>\n",
       "      <td>-1.1</td>\n",
       "    </tr>\n",
       "    <tr>\n",
       "      <th>2017-01-07 00:00:00+00:00</th>\n",
       "      <td>2233.155073</td>\n",
       "      <td>0.992749</td>\n",
       "      <td>0.120208</td>\n",
       "      <td>0.866025</td>\n",
       "      <td>5.000000e-01</td>\n",
       "      <td>2017</td>\n",
       "      <td>-0.9</td>\n",
       "    </tr>\n",
       "    <tr>\n",
       "      <th>2017-01-08 00:00:00+00:00</th>\n",
       "      <td>1967.493687</td>\n",
       "      <td>0.990532</td>\n",
       "      <td>0.137279</td>\n",
       "      <td>0.866025</td>\n",
       "      <td>5.000000e-01</td>\n",
       "      <td>2017</td>\n",
       "      <td>3.0</td>\n",
       "    </tr>\n",
       "    <tr>\n",
       "      <th>2017-12-08 00:00:00+00:00</th>\n",
       "      <td>1731.732561</td>\n",
       "      <td>0.922640</td>\n",
       "      <td>-0.385663</td>\n",
       "      <td>1.000000</td>\n",
       "      <td>-2.449294e-16</td>\n",
       "      <td>2017</td>\n",
       "      <td>3.8</td>\n",
       "    </tr>\n",
       "    <tr>\n",
       "      <th>2017-12-27 00:00:00+00:00</th>\n",
       "      <td>1607.249365</td>\n",
       "      <td>0.997630</td>\n",
       "      <td>-0.068802</td>\n",
       "      <td>1.000000</td>\n",
       "      <td>-2.449294e-16</td>\n",
       "      <td>2017</td>\n",
       "      <td>4.2</td>\n",
       "    </tr>\n",
       "  </tbody>\n",
       "</table>\n",
       "</div>"
      ],
      "text/plain": [
       "                                     0  dayofyear_cos  dayofyear_sim  \\\n",
       "Unnamed: 0                                                             \n",
       "2017-01-06 00:00:00+00:00  1834.471839       0.994671       0.103102   \n",
       "2017-01-07 00:00:00+00:00  2233.155073       0.992749       0.120208   \n",
       "2017-01-08 00:00:00+00:00  1967.493687       0.990532       0.137279   \n",
       "2017-12-08 00:00:00+00:00  1731.732561       0.922640      -0.385663   \n",
       "2017-12-27 00:00:00+00:00  1607.249365       0.997630      -0.068802   \n",
       "\n",
       "                           month_cos     month_sin  year  TMP  \n",
       "Unnamed: 0                                                     \n",
       "2017-01-06 00:00:00+00:00   0.866025  5.000000e-01  2017 -1.1  \n",
       "2017-01-07 00:00:00+00:00   0.866025  5.000000e-01  2017 -0.9  \n",
       "2017-01-08 00:00:00+00:00   0.866025  5.000000e-01  2017  3.0  \n",
       "2017-12-08 00:00:00+00:00   1.000000 -2.449294e-16  2017  3.8  \n",
       "2017-12-27 00:00:00+00:00   1.000000 -2.449294e-16  2017  4.2  "
      ]
     },
     "execution_count": 16,
     "metadata": {},
     "output_type": "execute_result"
    }
   ],
   "source": [
    "resi_test.head()"
   ]
  },
  {
   "cell_type": "code",
   "execution_count": 17,
   "metadata": {},
   "outputs": [],
   "source": [
    "for index,row in resi_test[resi_test['TMP']<0].iterrows():\n",
    "    if row['0']<1600:\n",
    "        resi_test1=resi_test.drop(index)    "
   ]
  },
  {
   "cell_type": "code",
   "execution_count": 240,
   "metadata": {},
   "outputs": [],
   "source": [
    "k=3"
   ]
  },
  {
   "cell_type": "code",
   "execution_count": 249,
   "metadata": {},
   "outputs": [
    {
     "name": "stdout",
     "output_type": "stream",
     "text": [
      "-0.5200468017890412\n"
     ]
    },
    {
     "data": {
      "text/plain": [
       "LinearRegression()"
      ]
     },
     "execution_count": 249,
     "metadata": {},
     "output_type": "execute_result"
    },
    {
     "data": {
      "image/png": "[encoded data removed]",
      "text/plain": [
       "<Figure size 432x288 with 1 Axes>"
      ]
     },
     "metadata": {
      "needs_background": "light"
     },
     "output_type": "display_data"
    }
   ],
   "source": [
    "q=resi_test1[resi_test1['TMP']<5]\n",
    "plt.scatter(q['TMP'],q['0'])\n",
    "plt.xlabel('temperature(celsius)')\n",
    "plt.ylabel('kwh value')\n",
    "plt.title('correlation for residential between temp and kwh value')\n",
    "m, b = np.polyfit(q['TMP'], q['0'], 1)\n",
    "plt.plot(q['TMP'], m*q['TMP'] + b,color='red')\n",
    "print(q['TMP'].corr(q['0']))\n",
    "train_below_5=q[q.columns[k:]]\n",
    "test_below_5=q['0']\n",
    "lr_5=LinearRegression()\n",
    "lr_5.fit(train_below_5,test_below_5)"
   ]
  },
  {
   "cell_type": "code",
   "execution_count": 242,
   "metadata": {},
   "outputs": [
    {
     "name": "stdout",
     "output_type": "stream",
     "text": [
      "0.7516302414139994\n"
     ]
    },
    {
     "data": {
      "text/plain": [
       "LinearRegression()"
      ]
     },
     "execution_count": 242,
     "metadata": {},
     "output_type": "execute_result"
    },
    {
     "data": {
      "image/png": "[encoded data removed]",
      "text/plain": [
       "<Figure size 432x288 with 1 Axes>"
      ]
     },
     "metadata": {
      "needs_background": "light"
     },
     "output_type": "display_data"
    }
   ],
   "source": [
    "resi_test_more_than_5=residential_train_data[residential_train_data['TMP']>5]\n",
    "plt.scatter(resi_test_more_than_5['TMP'],resi_test_more_than_5['0'])\n",
    "plt.xlabel('temperature(celsius)')\n",
    "plt.ylabel('kwh value')\n",
    "plt.title('correlation for residential between temp and kwh value')\n",
    "print(resi_test_more_than_5['TMP'].corr(resi_test_more_than_5['0']))\n",
    "train_above_5=resi_test_more_than_5[resi_test_more_than_5.columns[k:]]\n",
    "test_above_5=resi_test_more_than_5['0']\n",
    "lr_above_5=LinearRegression()\n",
    "lr_above_5.fit(train_above_5,test_above_5)\n"
   ]
  },
  {
   "cell_type": "code",
   "execution_count": 243,
   "metadata": {},
   "outputs": [
    {
     "data": {
      "text/html": [
       "<div>\n",
       "<style scoped>\n",
       "    .dataframe tbody tr th:only-of-type {\n",
       "        vertical-align: middle;\n",
       "    }\n",
       "\n",
       "    .dataframe tbody tr th {\n",
       "        vertical-align: top;\n",
       "    }\n",
       "\n",
       "    .dataframe thead th {\n",
       "        text-align: right;\n",
       "    }\n",
       "</style>\n",
       "<table border=\"1\" class=\"dataframe\">\n",
       "  <thead>\n",
       "    <tr style=\"text-align: right;\">\n",
       "      <th></th>\n",
       "      <th>month_cos</th>\n",
       "      <th>month_sin</th>\n",
       "      <th>year</th>\n",
       "      <th>TMP</th>\n",
       "    </tr>\n",
       "    <tr>\n",
       "      <th>Unnamed: 0</th>\n",
       "      <th></th>\n",
       "      <th></th>\n",
       "      <th></th>\n",
       "      <th></th>\n",
       "    </tr>\n",
       "  </thead>\n",
       "  <tbody>\n",
       "    <tr>\n",
       "      <th>2021-02-01 00:00:00+00:00</th>\n",
       "      <td>0.5</td>\n",
       "      <td>0.866025</td>\n",
       "      <td>2021</td>\n",
       "      <td>11.7</td>\n",
       "    </tr>\n",
       "    <tr>\n",
       "      <th>2021-02-02 00:00:00+00:00</th>\n",
       "      <td>0.5</td>\n",
       "      <td>0.866025</td>\n",
       "      <td>2021</td>\n",
       "      <td>12.1</td>\n",
       "    </tr>\n",
       "  </tbody>\n",
       "</table>\n",
       "</div>"
      ],
      "text/plain": [
       "                           month_cos  month_sin  year   TMP\n",
       "Unnamed: 0                                                 \n",
       "2021-02-01 00:00:00+00:00        0.5   0.866025  2021  11.7\n",
       "2021-02-02 00:00:00+00:00        0.5   0.866025  2021  12.1"
      ]
     },
     "execution_count": 243,
     "metadata": {},
     "output_type": "execute_result"
    }
   ],
   "source": [
    "winter_test_data=residential_test_data[residential_test_data.columns[k:]]\n",
    "winter_data_below_5=winter_test_data[winter_test_data['TMP']<5]\n",
    "winter_data_above_5=winter_test_data[winter_test_data['TMP']>5]\n",
    "winter_test_data.head(2)\n"
   ]
  },
  {
   "cell_type": "code",
   "execution_count": 244,
   "metadata": {},
   "outputs": [],
   "source": [
    "pred_below_5=lr_5.predict(winter_data_below_5)\n",
    "pred_above_5=lr_above_5.predict(winter_data_above_5)"
   ]
  },
  {
   "cell_type": "code",
   "execution_count": 245,
   "metadata": {},
   "outputs": [
    {
     "data": {
      "text/plain": [
       "array([1996.36534509, 2072.67440402, 2127.18087468, 2274.34834546,\n",
       "       2530.52875756, 2454.21969864, 2138.08216881, 2138.08216881,\n",
       "       2067.22375695])"
      ]
     },
     "execution_count": 245,
     "metadata": {},
     "output_type": "execute_result"
    }
   ],
   "source": [
    "pred_below_5"
   ]
  },
  {
   "cell_type": "code",
   "execution_count": 246,
   "metadata": {},
   "outputs": [
    {
     "data": {
      "text/plain": [
       "array([1075.63585513, 1085.18764267, 1171.15373052, 1273.83544656,\n",
       "       1068.47201448, 1144.88631479, 1104.29121775, 1183.09346494,\n",
       "       1132.94658037,  920.41930763, 1996.36534509, 2072.67440402,\n",
       "       2127.18087468, 2274.34834546, 2530.52875756, 2454.21969864,\n",
       "       2138.08216881, 2138.08216881, 2067.22375695,  953.85056402,\n",
       "       1156.82604921, 1161.60194298, 1223.68856198, 1328.75822491,\n",
       "       1125.78273971, 1082.79969579, 1261.89571214, 1314.4305436 ,\n",
       "       1173.34797432])"
      ]
     },
     "execution_count": 246,
     "metadata": {},
     "output_type": "execute_result"
    }
   ],
   "source": [
    "a=pred_above_5[:10]\n",
    "b=pred_below_5\n",
    "c=pred_above_5[10:]\n",
    "frames=[a,b,c]\n",
    "predictions = np.concatenate((a, b,c))\n",
    "predictions"
   ]
  },
  {
   "cell_type": "code",
   "execution_count": 250,
   "metadata": {},
   "outputs": [
    {
     "name": "stdout",
     "output_type": "stream",
     "text": [
      "MSE: 103682.86667944741\n",
      "MAE: 226.56889036257712\n",
      "0.7095894857527084\n"
     ]
    },
    {
     "data": {
      "image/png": "[encoded data removed]",
      "text/plain": [
       "<Figure size 1200x400 with 1 Axes>"
      ]
     },
     "metadata": {
      "needs_background": "light"
     },
     "output_type": "display_data"
    }
   ],
   "source": [
    "figure(figsize=(15,5), dpi=80)\n",
    "plt.plot(residential_test_data.index,predictions,label='predicted')\n",
    "plt.plot(residential_test_data.index,residential_test_data['0'],label='predicted')\n",
    "plt.legend()\n",
    "print(f'MSE:' ,mean_squared_error(residential_test_data['0'],predictions))\n",
    "print(f'MAE:' ,mean_absolute_error(residential_test_data['0'],predictions))\n",
    "print(r2_score(residential_test_data['0'],predictions))\n",
    "plt.title('Residential')\n",
    "plt.show()"
   ]
  }
 ],
 "metadata": {
  "kernelspec": {
   "display_name": "Python 3",
   "language": "python",
   "name": "python3"
  },
  "language_info": {
   "codemirror_mode": {
    "name": "ipython",
    "version": 3
   },
   "file_extension": ".py",
   "mimetype": "text/x-python",
   "name": "python",
   "nbconvert_exporter": "python",
   "pygments_lexer": "ipython3",
   "version": "3.7.0"
  }
 },
 "nbformat": 4,
 "nbformat_minor": 2
}
