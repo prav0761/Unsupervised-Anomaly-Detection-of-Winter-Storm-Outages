{
 "cells": [
  {
   "cell_type": "code",
   "execution_count": 1,
   "metadata": {},
   "outputs": [],
   "source": [
    "import os\n",
    "from fig_gen  import FigureGenerator as fg\n",
    "from sklearn.metrics import r2_score\n",
    "import pandas as pd\n",
    "import numpy as np\n",
    "import matplotlib.pyplot as plt\n",
    "from tqdm import tqdm\n",
    "from pathlib import Path\n",
    "import seaborn as sns\n",
    "import sklearn\n",
    "from sklearn.linear_model import LinearRegression\n",
    "%matplotlib inline\n",
    "import missingno as msno\n",
    "np.random.seed(19)\n",
    "from matplotlib.pyplot import figure\n",
    "data_directory = '/work2/05067/nagyz/austin_energy/data/'\n",
    "filepaths = [os.path.join(data_directory,f) for f in os.listdir(data_directory) if f.endswith('.csv')]\n",
    "from datetime import datetime \n",
    "from Graphs import load_data,load_graph_kwh,yearly_graph_kwh,load_graph_count,monthly_graph_kwh,daily_graph_kwh\n",
    "from Graphs import load_graph_kwh_and_count,yearly_graph_kwh_and_count,monthly_graph_kwh_and_count,daily_graph_kwh_and_count\n",
    "from agg_and_heatmap_functions import length,prav3,prav2,prav1,dinostorm,plot_aggraph,heatmap,finalheatmap\n",
    "from sklearn.model_selection import train_test_split\n",
    "from sklearn.pipeline import make_pipeline\n",
    "from sklearn.preprocessing import StandardScaler\n",
    "from sklearn.linear_model import RidgeCV, SGDRegressor\n",
    "from sklearn.ensemble import AdaBoostRegressor, RandomForestRegressor,GradientBoostingRegressor\n",
    "from sklearn.utils import resample\n",
    "from sklearn.linear_model import LinearRegression\n",
    "from sklearn.metrics import mean_squared_error\n",
    "from sklearn.ensemble import RandomForestClassifier\n",
    "from sklearn.linear_model import LassoCV\n",
    "from sklearn.linear_model import Ridge,Lasso\n",
    "from sklearn.model_selection import GridSearchCV,KFold\n",
    "from sklearn.neural_network import MLPRegressor\n",
    "from sklearn.model_selection import RandomizedSearchCV\n",
    "import warnings\n",
    "warnings.filterwarnings('ignore')\n",
    "from sklearn.model_selection import cross_val_score\n",
    "from sklearn.metrics import accuracy_score\n",
    "from sklearn.metrics import mean_squared_error\n",
    "from sklearn.preprocessing import PolynomialFeatures\n",
    "weather_daily=pd.read_csv('Austin_weather_daily.csv')\n",
    "weather_daily['time']=pd.to_datetime(weather_daily['time'],utc=False)\n",
    "weather_daily1=weather_daily.set_index('time',drop=True)\n",
    "weather_austin_daily=weather_daily1['tavg']\n",
    "# NOT UTC TIME\n",
    "weather_Pred=pd.read_csv('Austin_hourly.csv')\n",
    "weather_Pred['time']=pd.to_datetime(weather_Pred['time'])\n",
    "weather_pred1=weather_Pred.set_index('time',drop=True)\n",
    "weather_austin_hourl_pred=weather_pred1['temp']\n",
    "from sklearn.preprocessing import MinMaxScaler\n",
    "import time\n",
    "from sklearn.neighbors import LocalOutlierFactor\n",
    "from sklearn.cluster import KMeans\n",
    "from sklearn.metrics import silhouette_score\n",
    "from adtk.data import validate_series\n",
    "from adtk.visualization import plot\n",
    "from adtk.detector import SeasonalAD\n",
    "from adtk.data import to_events\n",
    "from adtk.detector import OutlierDetector\n",
    "from scipy.stats import t\n",
    "import torch\n",
    "import time\n",
    "import torchvision\n",
    "import torchvision.transforms as transforms\n",
    "import torchvision.datasets as datasets\n",
    "import torch.nn as nn\n",
    "import random\n",
    "import torch.optim as optim\n",
    "from torch.utils.data import Dataset, DataLoader\n",
    "import copy\n",
    "from sklearn.metrics import roc_auc_score,recall_score\n",
    "from torch.utils.data import TensorDataset\n",
    "from model_fns import clean_data,make_features,preprocess_data,prediction_model,check_outlier,split_sequences\n",
    "from model_fns import SelfAttention,Encoder,Decoder,RecurrentAutoencoder,train_lstmae_model,val_lstmae_model,find_threshold,predict_anomaly"
   ]
  },
  {
   "cell_type": "code",
   "execution_count": 2,
   "metadata": {},
   "outputs": [],
   "source": [
    "id_list = pd.read_csv('buildingInfo.csv')\n",
    "\n",
    "#id_list.drop('Unnamed: 0',axis=1,inplace=True)\n",
    "id_list['buildingType'].unique()\n",
    "res_type = ['SINGLE FAMILY', 'MULTIFAMILY',  'FOURPLEX', \n",
    "            'DUPLEX', 'CONDOS', 'CONDO (STACKED)', \n",
    "            '1 FAM DWELLING, ACCESSORY DWELLING UNIT',\n",
    "            'TOWNHOMES','MOHO SINGLE PP', \n",
    "            '1 FAM DWELLING, GARAGE APARTMENT', 'MOHO DOUBLE PP',\n",
    "            'MOHO SINGLE REAL', 'MOHO DOUBLE REAL', 'TRIPLEX', \n",
    "            '1 FAM DWELLING, MOHO DOUBLE REAL',\n",
    "           '1 FAM DWELLING, MOHO SINGLE REAL']\n",
    "res_type_id_list = id_list[id_list['buildingType'].isin(res_type)].copy()\n",
    "good_servicepoints_without_sampling=pd.read_csv('good_sp_without_sampling.csv')\n",
    "good_servicepoints_with_sampling=pd.read_csv('good_sp_with_sampling.csv')"
   ]
  },
  {
   "cell_type": "code",
   "execution_count": 3,
   "metadata": {},
   "outputs": [
    {
     "data": {
      "text/html": [
       "<div>\n",
       "<style scoped>\n",
       "    .dataframe tbody tr th:only-of-type {\n",
       "        vertical-align: middle;\n",
       "    }\n",
       "\n",
       "    .dataframe tbody tr th {\n",
       "        vertical-align: top;\n",
       "    }\n",
       "\n",
       "    .dataframe thead th {\n",
       "        text-align: right;\n",
       "    }\n",
       "</style>\n",
       "<table border=\"1\" class=\"dataframe\">\n",
       "  <thead>\n",
       "    <tr style=\"text-align: right;\">\n",
       "      <th></th>\n",
       "      <th>Service Point</th>\n",
       "      <th>zipCode</th>\n",
       "      <th>rate</th>\n",
       "      <th>buildingType</th>\n",
       "      <th>meterCount</th>\n",
       "      <th>squareFt</th>\n",
       "    </tr>\n",
       "  </thead>\n",
       "  <tbody>\n",
       "    <tr>\n",
       "      <th>4</th>\n",
       "      <td>-1608</td>\n",
       "      <td>78759</td>\n",
       "      <td>E-RES</td>\n",
       "      <td>SINGLE FAMILY</td>\n",
       "      <td>7996</td>\n",
       "      <td>17723356.0</td>\n",
       "    </tr>\n",
       "    <tr>\n",
       "      <th>31</th>\n",
       "      <td>-1581</td>\n",
       "      <td>78758</td>\n",
       "      <td>E-RES</td>\n",
       "      <td>SINGLE FAMILY</td>\n",
       "      <td>5363</td>\n",
       "      <td>8224307.5</td>\n",
       "    </tr>\n",
       "    <tr>\n",
       "      <th>66</th>\n",
       "      <td>-1546</td>\n",
       "      <td>78757</td>\n",
       "      <td>E-RES</td>\n",
       "      <td>SINGLE FAMILY</td>\n",
       "      <td>6174</td>\n",
       "      <td>8977316.0</td>\n",
       "    </tr>\n",
       "    <tr>\n",
       "      <th>84</th>\n",
       "      <td>-1528</td>\n",
       "      <td>78756</td>\n",
       "      <td>E-RES</td>\n",
       "      <td>SINGLE FAMILY</td>\n",
       "      <td>1727</td>\n",
       "      <td>2566446.0</td>\n",
       "    </tr>\n",
       "    <tr>\n",
       "      <th>102</th>\n",
       "      <td>-1510</td>\n",
       "      <td>78754</td>\n",
       "      <td>E-RES</td>\n",
       "      <td>SINGLE FAMILY</td>\n",
       "      <td>3752</td>\n",
       "      <td>5866178.5</td>\n",
       "    </tr>\n",
       "  </tbody>\n",
       "</table>\n",
       "</div>"
      ],
      "text/plain": [
       "     Service Point  zipCode   rate   buildingType  meterCount    squareFt\n",
       "4            -1608    78759  E-RES  SINGLE FAMILY        7996  17723356.0\n",
       "31           -1581    78758  E-RES  SINGLE FAMILY        5363   8224307.5\n",
       "66           -1546    78757  E-RES  SINGLE FAMILY        6174   8977316.0\n",
       "84           -1528    78756  E-RES  SINGLE FAMILY        1727   2566446.0\n",
       "102          -1510    78754  E-RES  SINGLE FAMILY        3752   5866178.5"
      ]
     },
     "execution_count": 3,
     "metadata": {},
     "output_type": "execute_result"
    }
   ],
   "source": [
    "single_Famiy=res_type_id_list[res_type_id_list['buildingType']=='SINGLE FAMILY']\n",
    "E_Res_singlefamily=single_Famiy[single_Famiy['rate']=='E-RES']\n",
    "E_Res_singlefamily.head()"
   ]
  },
  {
   "cell_type": "code",
   "execution_count": 6,
   "metadata": {},
   "outputs": [
    {
     "name": "stderr",
     "output_type": "stream",
     "text": [
      "\r",
      "  0%|          | 0/46 [00:00<?, ?it/s]"
     ]
    },
    {
     "name": "stdout",
     "output_type": "stream",
     "text": [
      "-1608\n"
     ]
    },
    {
     "name": "stderr",
     "output_type": "stream",
     "text": [
      "\r",
      "  2%|▏         | 1/46 [00:03<02:51,  3.80s/it]"
     ]
    },
    {
     "name": "stdout",
     "output_type": "stream",
     "text": [
      "number of anomaly points 2\n",
      "rc_lof_baseline 0.6666666666666666\n",
      "-1581\n"
     ]
    },
    {
     "name": "stderr",
     "output_type": "stream",
     "text": [
      "\r",
      "  4%|▍         | 2/46 [00:07<02:51,  3.89s/it]"
     ]
    },
    {
     "name": "stdout",
     "output_type": "stream",
     "text": [
      "number of anomaly points 3\n",
      "rc_lof_baseline 0.75\n",
      "-1546\n"
     ]
    },
    {
     "name": "stderr",
     "output_type": "stream",
     "text": [
      "\r",
      "  7%|▋         | 3/46 [00:11<02:45,  3.85s/it]"
     ]
    },
    {
     "name": "stdout",
     "output_type": "stream",
     "text": [
      "number of anomaly points 2\n",
      "rc_lof_baseline 0.3333333333333333\n",
      "-1528\n"
     ]
    },
    {
     "name": "stderr",
     "output_type": "stream",
     "text": [
      "\r",
      "  9%|▊         | 4/46 [00:15<02:41,  3.84s/it]"
     ]
    },
    {
     "name": "stdout",
     "output_type": "stream",
     "text": [
      "number of anomaly points 0\n",
      "-1510\n"
     ]
    },
    {
     "name": "stderr",
     "output_type": "stream",
     "text": [
      "\r",
      " 11%|█         | 5/46 [00:19<02:38,  3.86s/it]"
     ]
    },
    {
     "name": "stdout",
     "output_type": "stream",
     "text": [
      "number of anomaly points 0\n",
      "-1492\n"
     ]
    },
    {
     "name": "stderr",
     "output_type": "stream",
     "text": [
      "\r",
      " 13%|█▎        | 6/46 [00:23<02:34,  3.86s/it]"
     ]
    },
    {
     "name": "stdout",
     "output_type": "stream",
     "text": [
      "number of anomaly points 1\n",
      "rc_lof_baseline 0.5\n",
      "-1468\n"
     ]
    },
    {
     "name": "stderr",
     "output_type": "stream",
     "text": [
      "\r",
      " 15%|█▌        | 7/46 [00:27<02:32,  3.91s/it]"
     ]
    },
    {
     "name": "stdout",
     "output_type": "stream",
     "text": [
      "number of anomaly points 2\n",
      "rc_lof_baseline 0.6666666666666666\n",
      "-1454\n"
     ]
    },
    {
     "name": "stderr",
     "output_type": "stream",
     "text": [
      "\r",
      " 17%|█▋        | 8/46 [00:30<02:27,  3.89s/it]"
     ]
    },
    {
     "name": "stdout",
     "output_type": "stream",
     "text": [
      "number of anomaly points 0\n",
      "-1441\n"
     ]
    },
    {
     "name": "stderr",
     "output_type": "stream",
     "text": [
      "\r",
      " 20%|█▉        | 9/46 [00:34<02:23,  3.88s/it]"
     ]
    },
    {
     "name": "stdout",
     "output_type": "stream",
     "text": [
      "number of anomaly points 0\n",
      "-1432\n"
     ]
    },
    {
     "name": "stderr",
     "output_type": "stream",
     "text": [
      "\r",
      " 22%|██▏       | 10/46 [00:38<02:18,  3.86s/it]"
     ]
    },
    {
     "name": "stdout",
     "output_type": "stream",
     "text": [
      "number of anomaly points 1\n",
      "rc_lof_baseline 0.5\n",
      "-1421\n"
     ]
    },
    {
     "name": "stderr",
     "output_type": "stream",
     "text": [
      "\r",
      " 24%|██▍       | 11/46 [00:42<02:14,  3.85s/it]"
     ]
    },
    {
     "name": "stdout",
     "output_type": "stream",
     "text": [
      "number of anomaly points 0\n",
      "-1407\n"
     ]
    },
    {
     "name": "stderr",
     "output_type": "stream",
     "text": [
      "\r",
      " 26%|██▌       | 12/46 [00:46<02:10,  3.85s/it]"
     ]
    },
    {
     "name": "stdout",
     "output_type": "stream",
     "text": [
      "number of anomaly points 2\n",
      "rc_lof_baseline 0.6666666666666666\n",
      "-1399\n"
     ]
    },
    {
     "name": "stderr",
     "output_type": "stream",
     "text": [
      "\r",
      " 28%|██▊       | 13/46 [00:50<02:06,  3.84s/it]"
     ]
    },
    {
     "name": "stdout",
     "output_type": "stream",
     "text": [
      "number of anomaly points 0\n",
      "-1373\n"
     ]
    },
    {
     "name": "stderr",
     "output_type": "stream",
     "text": [
      "\r",
      " 30%|███       | 14/46 [00:54<02:04,  3.90s/it]"
     ]
    },
    {
     "name": "stdout",
     "output_type": "stream",
     "text": [
      "number of anomaly points 0\n",
      "-1346\n"
     ]
    },
    {
     "name": "stderr",
     "output_type": "stream",
     "text": [
      "\r",
      " 33%|███▎      | 15/46 [00:58<02:00,  3.88s/it]"
     ]
    },
    {
     "name": "stdout",
     "output_type": "stream",
     "text": [
      "number of anomaly points 1\n",
      "rc_lof_baseline 0.5\n",
      "-1329\n"
     ]
    },
    {
     "name": "stderr",
     "output_type": "stream",
     "text": [
      "\r",
      " 35%|███▍      | 16/46 [01:01<01:55,  3.86s/it]"
     ]
    },
    {
     "name": "stdout",
     "output_type": "stream",
     "text": [
      "number of anomaly points 0\n",
      "-1325\n"
     ]
    },
    {
     "name": "stderr",
     "output_type": "stream",
     "text": [
      "\r",
      " 37%|███▋      | 17/46 [01:05<01:51,  3.86s/it]"
     ]
    },
    {
     "name": "stdout",
     "output_type": "stream",
     "text": [
      "number of anomaly points 0\n",
      "-1309\n"
     ]
    },
    {
     "name": "stderr",
     "output_type": "stream",
     "text": [
      "\r",
      " 39%|███▉      | 18/46 [01:09<01:48,  3.88s/it]"
     ]
    },
    {
     "name": "stdout",
     "output_type": "stream",
     "text": [
      "number of anomaly points 1\n",
      "rc_lof_baseline 0.25\n",
      "-1306\n"
     ]
    },
    {
     "name": "stderr",
     "output_type": "stream",
     "text": [
      "\r",
      " 41%|████▏     | 19/46 [01:13<01:44,  3.86s/it]"
     ]
    },
    {
     "name": "stdout",
     "output_type": "stream",
     "text": [
      "number of anomaly points 0\n",
      "-1302\n"
     ]
    },
    {
     "name": "stderr",
     "output_type": "stream",
     "text": [
      "\r",
      " 43%|████▎     | 20/46 [01:17<01:41,  3.91s/it]"
     ]
    },
    {
     "name": "stdout",
     "output_type": "stream",
     "text": [
      "number of anomaly points 0\n",
      "-1297\n"
     ]
    },
    {
     "name": "stderr",
     "output_type": "stream",
     "text": [
      "\r",
      " 46%|████▌     | 21/46 [01:21<01:36,  3.87s/it]"
     ]
    },
    {
     "name": "stdout",
     "output_type": "stream",
     "text": [
      "number of anomaly points 0\n",
      "-1282\n"
     ]
    },
    {
     "name": "stderr",
     "output_type": "stream",
     "text": [
      "\r",
      " 48%|████▊     | 22/46 [01:25<01:33,  3.88s/it]"
     ]
    },
    {
     "name": "stdout",
     "output_type": "stream",
     "text": [
      "number of anomaly points 0\n",
      "-1268\n"
     ]
    },
    {
     "name": "stderr",
     "output_type": "stream",
     "text": [
      "\r",
      " 50%|█████     | 23/46 [01:28<01:29,  3.87s/it]"
     ]
    },
    {
     "name": "stdout",
     "output_type": "stream",
     "text": [
      "number of anomaly points 0\n",
      "-1260\n"
     ]
    },
    {
     "name": "stderr",
     "output_type": "stream",
     "text": [
      "\r",
      " 52%|█████▏    | 24/46 [01:32<01:25,  3.88s/it]"
     ]
    },
    {
     "name": "stdout",
     "output_type": "stream",
     "text": [
      "number of anomaly points 0\n",
      "-1252\n"
     ]
    },
    {
     "name": "stderr",
     "output_type": "stream",
     "text": [
      "\r",
      " 54%|█████▍    | 25/46 [01:36<01:20,  3.85s/it]"
     ]
    },
    {
     "name": "stdout",
     "output_type": "stream",
     "text": [
      "number of anomaly points 2\n",
      "rc_lof_baseline 0.6666666666666666\n",
      "-1237\n"
     ]
    },
    {
     "name": "stderr",
     "output_type": "stream",
     "text": [
      "\r",
      " 57%|█████▋    | 26/46 [01:40<01:16,  3.84s/it]"
     ]
    },
    {
     "name": "stdout",
     "output_type": "stream",
     "text": [
      "number of anomaly points 0\n",
      "-1234\n"
     ]
    },
    {
     "name": "stderr",
     "output_type": "stream",
     "text": [
      "\r",
      " 59%|█████▊    | 27/46 [01:44<01:13,  3.85s/it]"
     ]
    },
    {
     "name": "stdout",
     "output_type": "stream",
     "text": [
      "number of anomaly points 2\n",
      "rc_lof_baseline 0.6666666666666666\n",
      "-1225\n"
     ]
    },
    {
     "name": "stderr",
     "output_type": "stream",
     "text": [
      "\r",
      " 61%|██████    | 28/46 [01:48<01:08,  3.83s/it]"
     ]
    },
    {
     "name": "stdout",
     "output_type": "stream",
     "text": [
      "number of anomaly points 1\n",
      "rc_lof_baseline 0.0\n",
      "-1221\n"
     ]
    },
    {
     "name": "stderr",
     "output_type": "stream",
     "text": [
      "\r",
      " 63%|██████▎   | 29/46 [01:51<01:04,  3.82s/it]"
     ]
    },
    {
     "name": "stdout",
     "output_type": "stream",
     "text": [
      "number of anomaly points 0\n",
      "-1212\n"
     ]
    },
    {
     "name": "stderr",
     "output_type": "stream",
     "text": [
      "\r",
      " 65%|██████▌   | 30/46 [01:55<01:00,  3.80s/it]"
     ]
    },
    {
     "name": "stdout",
     "output_type": "stream",
     "text": [
      "number of anomaly points 4\n",
      "rc_lof_baseline 0.5\n",
      "-1210\n"
     ]
    },
    {
     "name": "stderr",
     "output_type": "stream",
     "text": [
      "\r",
      " 67%|██████▋   | 31/46 [01:59<00:56,  3.80s/it]"
     ]
    },
    {
     "name": "stdout",
     "output_type": "stream",
     "text": [
      "number of anomaly points 2\n",
      "rc_lof_baseline 0.6666666666666666\n",
      "-1203\n"
     ]
    },
    {
     "name": "stderr",
     "output_type": "stream",
     "text": [
      "\r",
      " 70%|██████▉   | 32/46 [02:03<00:53,  3.81s/it]"
     ]
    },
    {
     "name": "stdout",
     "output_type": "stream",
     "text": [
      "number of anomaly points 0\n",
      "-1191\n"
     ]
    },
    {
     "name": "stderr",
     "output_type": "stream",
     "text": [
      "\r",
      " 72%|███████▏  | 33/46 [02:07<00:50,  3.92s/it]"
     ]
    },
    {
     "name": "stdout",
     "output_type": "stream",
     "text": [
      "number of anomaly points 1\n",
      "rc_lof_baseline 0.5\n",
      "-1176\n"
     ]
    },
    {
     "name": "stderr",
     "output_type": "stream",
     "text": [
      "\r",
      " 74%|███████▍  | 34/46 [02:11<00:46,  3.92s/it]"
     ]
    },
    {
     "name": "stdout",
     "output_type": "stream",
     "text": [
      "number of anomaly points 0\n",
      "-1167\n"
     ]
    },
    {
     "name": "stderr",
     "output_type": "stream",
     "text": [
      "\r",
      " 76%|███████▌  | 35/46 [02:15<00:42,  3.89s/it]"
     ]
    },
    {
     "name": "stdout",
     "output_type": "stream",
     "text": [
      "number of anomaly points 0\n",
      "-1161\n"
     ]
    },
    {
     "name": "stderr",
     "output_type": "stream",
     "text": [
      "\r",
      " 78%|███████▊  | 36/46 [02:19<00:38,  3.86s/it]"
     ]
    },
    {
     "name": "stdout",
     "output_type": "stream",
     "text": [
      "number of anomaly points 1\n",
      "rc_lof_baseline 0.5\n",
      "-1149\n"
     ]
    },
    {
     "name": "stderr",
     "output_type": "stream",
     "text": [
      "\r",
      " 80%|████████  | 37/46 [02:22<00:34,  3.85s/it]"
     ]
    },
    {
     "name": "stdout",
     "output_type": "stream",
     "text": [
      "number of anomaly points 0\n",
      "-1119\n"
     ]
    },
    {
     "name": "stderr",
     "output_type": "stream",
     "text": [
      "\r",
      " 83%|████████▎ | 38/46 [02:26<00:30,  3.83s/it]"
     ]
    },
    {
     "name": "stdout",
     "output_type": "stream",
     "text": [
      "number of anomaly points 2\n",
      "rc_lof_baseline 0.6666666666666666\n",
      "-1090\n"
     ]
    },
    {
     "name": "stderr",
     "output_type": "stream",
     "text": [
      "\r",
      " 85%|████████▍ | 39/46 [02:30<00:26,  3.85s/it]"
     ]
    },
    {
     "name": "stdout",
     "output_type": "stream",
     "text": [
      "number of anomaly points 2\n",
      "rc_lof_baseline 0.6666666666666666\n",
      "-1066\n"
     ]
    },
    {
     "name": "stderr",
     "output_type": "stream",
     "text": [
      "\r",
      " 87%|████████▋ | 40/46 [02:34<00:23,  3.87s/it]"
     ]
    },
    {
     "name": "stdout",
     "output_type": "stream",
     "text": [
      "number of anomaly points 2\n",
      "rc_lof_baseline 0.6666666666666666\n",
      "-1037\n"
     ]
    },
    {
     "name": "stderr",
     "output_type": "stream",
     "text": [
      "\r",
      " 89%|████████▉ | 41/46 [02:38<00:19,  3.83s/it]"
     ]
    },
    {
     "name": "stdout",
     "output_type": "stream",
     "text": [
      "number of anomaly points 0\n",
      "-1016\n"
     ]
    },
    {
     "name": "stderr",
     "output_type": "stream",
     "text": [
      "\r",
      " 91%|█████████▏| 42/46 [02:42<00:15,  3.83s/it]"
     ]
    },
    {
     "name": "stdout",
     "output_type": "stream",
     "text": [
      "number of anomaly points 1\n",
      "rc_lof_baseline 0.5\n",
      "-1010\n"
     ]
    },
    {
     "name": "stderr",
     "output_type": "stream",
     "text": [
      "\r",
      " 93%|█████████▎| 43/46 [02:45<00:11,  3.82s/it]"
     ]
    },
    {
     "name": "stdout",
     "output_type": "stream",
     "text": [
      "number of anomaly points 1\n",
      "rc_lof_baseline 0.2\n",
      "-1009\n"
     ]
    },
    {
     "name": "stderr",
     "output_type": "stream",
     "text": [
      "\r",
      " 96%|█████████▌| 44/46 [02:49<00:07,  3.86s/it]"
     ]
    },
    {
     "name": "stdout",
     "output_type": "stream",
     "text": [
      "number of anomaly points 0\n",
      "-1007\n"
     ]
    },
    {
     "name": "stderr",
     "output_type": "stream",
     "text": [
      "\r",
      " 98%|█████████▊| 45/46 [02:53<00:03,  3.86s/it]"
     ]
    },
    {
     "name": "stdout",
     "output_type": "stream",
     "text": [
      "number of anomaly points 0\n",
      "-1000\n"
     ]
    },
    {
     "name": "stderr",
     "output_type": "stream",
     "text": [
      "100%|██████████| 46/46 [02:57<00:00,  3.86s/it]"
     ]
    },
    {
     "name": "stdout",
     "output_type": "stream",
     "text": [
      "number of anomaly points 3\n",
      "rc_lof_baseline 0.5\n"
     ]
    },
    {
     "name": "stderr",
     "output_type": "stream",
     "text": [
      "\n"
     ]
    }
   ],
   "source": [
    "rc_baseline_lof_scores = []\n",
    "for i in tqdm(E_Res_singlefamily['Service Point']):\n",
    "    servicepoint=i\n",
    "    print(servicepoint)\n",
    "    kmeans_lof_result_,df_lstm=check_outlier(servicepoint,num_kmeans_outlier=10)\n",
    "    quantile_50=kmeans_lof_result_['Energy_kwh'].quantile(0.5)\n",
    "    kmeans_lof_result_[f'{servicepoint}true_anomaly']=0\n",
    "    kmeans_lof_result_[f'{servicepoint}true_anomaly'] = np.where((kmeans_lof_result_['tavg'] < 5) &\n",
    "                                        (kmeans_lof_result_['Energy_kwh'] < quantile_50), 1,  kmeans_lof_result_[f'{servicepoint}true_anomaly'])\n",
    "    kmeans_lof_result_[f'{servicepoint}true_anomaly'] = np.where((kmeans_lof_result_['tavg'] > 30) & \n",
    "                                        (kmeans_lof_result_['Energy_kwh'] < quantile_50), 1, kmeans_lof_result_[f'{servicepoint}true_anomaly'])\n",
    "    length=12\n",
    "    anomalypoints=len(kmeans_lof_result_['2021-02-10':][kmeans_lof_result_['2021-02-10':][f'{servicepoint}true_anomaly']==1])\n",
    "    print('number of anomaly points',anomalypoints)\n",
    "    if anomalypoints>0:\n",
    "        rc_baseline = recall_score(kmeans_lof_result_[[f'{servicepoint}true_anomaly']], \n",
    "                                   kmeans_lof_result_[[f'{servicepoint}lof_is_outlier']],pos_label=1)\n",
    "        print('rc_lof_baseline',rc_baseline)\n",
    "        rc_baseline_lof_scores.append(rc_baseline),"
   ]
  },
  {
   "cell_type": "code",
   "execution_count": 8,
   "metadata": {},
   "outputs": [
    {
     "data": {
      "text/plain": [
       "0.5242424242424242"
      ]
     },
     "execution_count": 8,
     "metadata": {},
     "output_type": "execute_result"
    }
   ],
   "source": [
    "lof_baseline=sum(rc_baseline_lof_scores)/len(rc_baseline_lof_scores)\n",
    "lof_baseline"
   ]
  },
  {
   "cell_type": "code",
   "execution_count": 11,
   "metadata": {},
   "outputs": [
    {
     "name": "stderr",
     "output_type": "stream",
     "text": [
      "\r",
      "  0%|          | 0/46 [00:00<?, ?it/s]"
     ]
    },
    {
     "name": "stdout",
     "output_type": "stream",
     "text": [
      "-1608\n",
      "number of anomaly points 2\n",
      "3.1768\n"
     ]
    },
    {
     "name": "stderr",
     "output_type": "stream",
     "text": [
      "\r",
      "  2%|▏         | 1/46 [02:07<1:35:30, 127.33s/it]"
     ]
    },
    {
     "name": "stdout",
     "output_type": "stream",
     "text": [
      "ensembe 1.0 auc_baseline 0.5\n",
      "-1581\n",
      "number of anomaly points 3\n",
      "3.0141\n"
     ]
    },
    {
     "name": "stderr",
     "output_type": "stream",
     "text": [
      "\r",
      "  4%|▍         | 2/46 [04:16<1:34:11, 128.44s/it]"
     ]
    },
    {
     "name": "stdout",
     "output_type": "stream",
     "text": [
      "ensembe 0.6666666666666666 auc_baseline 0.6666666666666666\n",
      "-1546\n",
      "number of anomaly points 2\n",
      "0.8666\n"
     ]
    },
    {
     "name": "stderr",
     "output_type": "stream",
     "text": [
      "\r",
      "  7%|▋         | 3/46 [06:24<1:31:49, 128.13s/it]"
     ]
    },
    {
     "name": "stdout",
     "output_type": "stream",
     "text": [
      "ensembe 0.5 auc_baseline 1.0\n",
      "-1528\n"
     ]
    },
    {
     "name": "stderr",
     "output_type": "stream",
     "text": [
      "\r",
      "  9%|▊         | 4/46 [06:28<55:20, 79.06s/it]   "
     ]
    },
    {
     "name": "stdout",
     "output_type": "stream",
     "text": [
      "number of anomaly points 0\n",
      "-1510\n"
     ]
    },
    {
     "name": "stderr",
     "output_type": "stream",
     "text": [
      "\r",
      " 11%|█         | 5/46 [06:32<35:32, 52.02s/it]"
     ]
    },
    {
     "name": "stdout",
     "output_type": "stream",
     "text": [
      "number of anomaly points 0\n",
      "-1492\n",
      "number of anomaly points 1\n",
      "3.8582\n"
     ]
    },
    {
     "name": "stderr",
     "output_type": "stream",
     "text": [
      "\r",
      " 13%|█▎        | 6/46 [08:01<43:09, 64.74s/it]"
     ]
    },
    {
     "name": "stdout",
     "output_type": "stream",
     "text": [
      "ensembe 0.0 auc_baseline 0.0\n",
      "-1468\n",
      "number of anomaly points 2\n",
      "3.3959\n"
     ]
    },
    {
     "name": "stderr",
     "output_type": "stream",
     "text": [
      "\r",
      " 15%|█▌        | 7/46 [10:07<55:03, 84.70s/it]"
     ]
    },
    {
     "name": "stdout",
     "output_type": "stream",
     "text": [
      "ensembe 1.0 auc_baseline 1.0\n",
      "-1454\n"
     ]
    },
    {
     "name": "stderr",
     "output_type": "stream",
     "text": [
      "\r",
      " 17%|█▋        | 8/46 [10:11<37:20, 58.96s/it]"
     ]
    },
    {
     "name": "stdout",
     "output_type": "stream",
     "text": [
      "number of anomaly points 0\n",
      "-1441\n"
     ]
    },
    {
     "name": "stderr",
     "output_type": "stream",
     "text": [
      "\r",
      " 20%|█▉        | 9/46 [10:15<25:44, 41.74s/it]"
     ]
    },
    {
     "name": "stdout",
     "output_type": "stream",
     "text": [
      "number of anomaly points 0\n",
      "-1432\n",
      "number of anomaly points 1\n",
      "1.5738\n"
     ]
    },
    {
     "name": "stderr",
     "output_type": "stream",
     "text": [
      "\r",
      " 22%|██▏       | 10/46 [12:24<41:14, 68.74s/it]"
     ]
    },
    {
     "name": "stdout",
     "output_type": "stream",
     "text": [
      "ensembe 1.0 auc_baseline 1.0\n",
      "-1421\n"
     ]
    },
    {
     "name": "stderr",
     "output_type": "stream",
     "text": [
      "\r",
      " 24%|██▍       | 11/46 [12:28<28:30, 48.87s/it]"
     ]
    },
    {
     "name": "stdout",
     "output_type": "stream",
     "text": [
      "number of anomaly points 0\n",
      "-1407\n",
      "number of anomaly points 2\n",
      "1.7597\n"
     ]
    },
    {
     "name": "stderr",
     "output_type": "stream",
     "text": [
      "\r",
      " 26%|██▌       | 12/46 [14:44<42:47, 75.52s/it]"
     ]
    },
    {
     "name": "stdout",
     "output_type": "stream",
     "text": [
      "ensembe 1.0 auc_baseline 1.0\n",
      "-1399\n"
     ]
    },
    {
     "name": "stderr",
     "output_type": "stream",
     "text": [
      "\r",
      " 28%|██▊       | 13/46 [14:48<29:36, 53.82s/it]"
     ]
    },
    {
     "name": "stdout",
     "output_type": "stream",
     "text": [
      "number of anomaly points 0\n",
      "-1373\n"
     ]
    },
    {
     "name": "stderr",
     "output_type": "stream",
     "text": [
      "\r",
      " 30%|███       | 14/46 [14:52<20:40, 38.76s/it]"
     ]
    },
    {
     "name": "stdout",
     "output_type": "stream",
     "text": [
      "number of anomaly points 0\n",
      "-1346\n",
      "number of anomaly points 1\n",
      "3.5931\n"
     ]
    },
    {
     "name": "stderr",
     "output_type": "stream",
     "text": [
      "\r",
      " 33%|███▎      | 15/46 [16:58<33:39, 65.16s/it]"
     ]
    },
    {
     "name": "stdout",
     "output_type": "stream",
     "text": [
      "ensembe 1.0 auc_baseline 1.0\n",
      "-1329\n"
     ]
    },
    {
     "name": "stderr",
     "output_type": "stream",
     "text": [
      "\r",
      " 35%|███▍      | 16/46 [17:02<23:20, 46.68s/it]"
     ]
    },
    {
     "name": "stdout",
     "output_type": "stream",
     "text": [
      "number of anomaly points 0\n",
      "-1325\n"
     ]
    },
    {
     "name": "stderr",
     "output_type": "stream",
     "text": [
      "\r",
      " 37%|███▋      | 17/46 [17:06<16:19, 33.79s/it]"
     ]
    },
    {
     "name": "stdout",
     "output_type": "stream",
     "text": [
      "number of anomaly points 0\n",
      "-1309\n",
      "number of anomaly points 1\n",
      "0.9443\n"
     ]
    },
    {
     "name": "stderr",
     "output_type": "stream",
     "text": [
      "\r",
      " 39%|███▉      | 18/46 [19:13<28:52, 61.88s/it]"
     ]
    },
    {
     "name": "stdout",
     "output_type": "stream",
     "text": [
      "ensembe 1.0 auc_baseline 0.0\n",
      "-1306\n"
     ]
    },
    {
     "name": "stderr",
     "output_type": "stream",
     "text": [
      "\r",
      " 41%|████▏     | 19/46 [19:17<19:59, 44.42s/it]"
     ]
    },
    {
     "name": "stdout",
     "output_type": "stream",
     "text": [
      "number of anomaly points 0\n",
      "-1302\n"
     ]
    },
    {
     "name": "stderr",
     "output_type": "stream",
     "text": [
      "\r",
      " 43%|████▎     | 20/46 [19:21<13:57, 32.22s/it]"
     ]
    },
    {
     "name": "stdout",
     "output_type": "stream",
     "text": [
      "number of anomaly points 0\n",
      "-1297\n"
     ]
    },
    {
     "name": "stderr",
     "output_type": "stream",
     "text": [
      "\r",
      " 46%|████▌     | 21/46 [19:24<09:51, 23.66s/it]"
     ]
    },
    {
     "name": "stdout",
     "output_type": "stream",
     "text": [
      "number of anomaly points 0\n",
      "-1282\n"
     ]
    },
    {
     "name": "stderr",
     "output_type": "stream",
     "text": [
      "\r",
      " 48%|████▊     | 22/46 [19:29<07:07, 17.80s/it]"
     ]
    },
    {
     "name": "stdout",
     "output_type": "stream",
     "text": [
      "number of anomaly points 0\n",
      "-1268\n"
     ]
    },
    {
     "name": "stderr",
     "output_type": "stream",
     "text": [
      "\r",
      " 50%|█████     | 23/46 [19:32<05:13, 13.64s/it]"
     ]
    },
    {
     "name": "stdout",
     "output_type": "stream",
     "text": [
      "number of anomaly points 0\n",
      "-1260\n"
     ]
    },
    {
     "name": "stderr",
     "output_type": "stream",
     "text": [
      "\r",
      " 52%|█████▏    | 24/46 [19:36<03:54, 10.66s/it]"
     ]
    },
    {
     "name": "stdout",
     "output_type": "stream",
     "text": [
      "number of anomaly points 0\n",
      "-1252\n",
      "number of anomaly points 2\n",
      "1.9785\n"
     ]
    },
    {
     "name": "stderr",
     "output_type": "stream",
     "text": [
      "\r",
      " 54%|█████▍    | 25/46 [21:44<16:01, 45.80s/it]"
     ]
    },
    {
     "name": "stdout",
     "output_type": "stream",
     "text": [
      "ensembe 1.0 auc_baseline 1.0\n",
      "-1237\n"
     ]
    },
    {
     "name": "stderr",
     "output_type": "stream",
     "text": [
      "\r",
      " 57%|█████▋    | 26/46 [21:48<11:03, 33.20s/it]"
     ]
    },
    {
     "name": "stdout",
     "output_type": "stream",
     "text": [
      "number of anomaly points 0\n",
      "-1234\n",
      "number of anomaly points 2\n",
      "2.9553\n"
     ]
    },
    {
     "name": "stderr",
     "output_type": "stream",
     "text": [
      "\r",
      " 59%|█████▊    | 27/46 [23:55<19:25, 61.32s/it]"
     ]
    },
    {
     "name": "stdout",
     "output_type": "stream",
     "text": [
      "ensembe 1.0 auc_baseline 0.5\n",
      "-1225\n",
      "number of anomaly points 1\n",
      "0.8302\n"
     ]
    },
    {
     "name": "stderr",
     "output_type": "stream",
     "text": [
      "\r",
      " 61%|██████    | 28/46 [26:02<24:19, 81.06s/it]"
     ]
    },
    {
     "name": "stdout",
     "output_type": "stream",
     "text": [
      "ensembe 0.0 auc_baseline 0.0\n",
      "-1221\n"
     ]
    },
    {
     "name": "stderr",
     "output_type": "stream",
     "text": [
      "\r",
      " 63%|██████▎   | 29/46 [26:06<16:23, 57.87s/it]"
     ]
    },
    {
     "name": "stdout",
     "output_type": "stream",
     "text": [
      "number of anomaly points 0\n",
      "-1212\n",
      "number of anomaly points 4\n",
      "1.487\n"
     ]
    },
    {
     "name": "stderr",
     "output_type": "stream",
     "text": [
      "\r",
      " 65%|██████▌   | 30/46 [28:13<20:57, 78.59s/it]"
     ]
    },
    {
     "name": "stdout",
     "output_type": "stream",
     "text": [
      "ensembe 0.75 auc_baseline 0.75\n",
      "-1210\n",
      "number of anomaly points 2\n",
      "3.9907\n"
     ]
    },
    {
     "name": "stderr",
     "output_type": "stream",
     "text": [
      "\r",
      " 67%|██████▋   | 31/46 [30:20<23:18, 93.25s/it]"
     ]
    },
    {
     "name": "stdout",
     "output_type": "stream",
     "text": [
      "ensembe 1.0 auc_baseline 1.0\n",
      "-1203\n"
     ]
    },
    {
     "name": "stderr",
     "output_type": "stream",
     "text": [
      "\r",
      " 70%|██████▉   | 32/46 [30:24<15:30, 66.46s/it]"
     ]
    },
    {
     "name": "stdout",
     "output_type": "stream",
     "text": [
      "number of anomaly points 0\n",
      "-1191\n",
      "number of anomaly points 1\n",
      "3.4855\n"
     ]
    },
    {
     "name": "stderr",
     "output_type": "stream",
     "text": [
      "\r",
      " 72%|███████▏  | 33/46 [32:31<18:20, 84.64s/it]"
     ]
    },
    {
     "name": "stdout",
     "output_type": "stream",
     "text": [
      "ensembe 0.0 auc_baseline 0.0\n",
      "-1176\n"
     ]
    },
    {
     "name": "stderr",
     "output_type": "stream",
     "text": [
      "\r",
      " 74%|███████▍  | 34/46 [32:35<12:04, 60.39s/it]"
     ]
    },
    {
     "name": "stdout",
     "output_type": "stream",
     "text": [
      "number of anomaly points 0\n",
      "-1167\n"
     ]
    },
    {
     "name": "stderr",
     "output_type": "stream",
     "text": [
      "\r",
      " 76%|███████▌  | 35/46 [32:39<07:57, 43.42s/it]"
     ]
    },
    {
     "name": "stdout",
     "output_type": "stream",
     "text": [
      "number of anomaly points 0\n",
      "-1161\n",
      "number of anomaly points 1\n",
      "3.7657\n"
     ]
    },
    {
     "name": "stderr",
     "output_type": "stream",
     "text": [
      "\r",
      " 78%|███████▊  | 36/46 [34:39<11:05, 66.60s/it]"
     ]
    },
    {
     "name": "stdout",
     "output_type": "stream",
     "text": [
      "ensembe 1.0 auc_baseline 1.0\n",
      "-1149\n"
     ]
    },
    {
     "name": "stderr",
     "output_type": "stream",
     "text": [
      "\r",
      " 80%|████████  | 37/46 [34:43<07:09, 47.76s/it]"
     ]
    },
    {
     "name": "stdout",
     "output_type": "stream",
     "text": [
      "number of anomaly points 0\n",
      "-1119\n",
      "number of anomaly points 2\n",
      "0.9181\n"
     ]
    },
    {
     "name": "stderr",
     "output_type": "stream",
     "text": [
      "\r",
      " 83%|████████▎ | 38/46 [36:53<09:39, 72.48s/it]"
     ]
    },
    {
     "name": "stdout",
     "output_type": "stream",
     "text": [
      "ensembe 1.0 auc_baseline 1.0\n",
      "-1090\n",
      "number of anomaly points 2\n",
      "2.287\n"
     ]
    },
    {
     "name": "stderr",
     "output_type": "stream",
     "text": [
      "\r",
      " 85%|████████▍ | 39/46 [39:06<10:33, 90.44s/it]"
     ]
    },
    {
     "name": "stdout",
     "output_type": "stream",
     "text": [
      "ensembe 0.5 auc_baseline 0.5\n",
      "-1066\n",
      "number of anomaly points 2\n",
      "0.8966\n"
     ]
    },
    {
     "name": "stderr",
     "output_type": "stream",
     "text": [
      "\r",
      " 87%|████████▋ | 40/46 [41:12<10:06, 101.15s/it]"
     ]
    },
    {
     "name": "stdout",
     "output_type": "stream",
     "text": [
      "ensembe 1.0 auc_baseline 0.5\n",
      "-1037\n"
     ]
    },
    {
     "name": "stderr",
     "output_type": "stream",
     "text": [
      "\r",
      " 89%|████████▉ | 41/46 [41:16<05:59, 71.94s/it] "
     ]
    },
    {
     "name": "stdout",
     "output_type": "stream",
     "text": [
      "number of anomaly points 0\n",
      "-1016\n",
      "number of anomaly points 1\n",
      "1.8555\n"
     ]
    },
    {
     "name": "stderr",
     "output_type": "stream",
     "text": [
      "\r",
      " 91%|█████████▏| 42/46 [43:22<05:52, 88.19s/it]"
     ]
    },
    {
     "name": "stdout",
     "output_type": "stream",
     "text": [
      "ensembe 0.0 auc_baseline 0.0\n",
      "-1010\n",
      "number of anomaly points 1\n",
      "1.2257\n"
     ]
    },
    {
     "name": "stderr",
     "output_type": "stream",
     "text": [
      "\r",
      " 93%|█████████▎| 43/46 [45:27<04:58, 99.46s/it]"
     ]
    },
    {
     "name": "stdout",
     "output_type": "stream",
     "text": [
      "ensembe 1.0 auc_baseline 0.0\n",
      "-1009\n"
     ]
    },
    {
     "name": "stderr",
     "output_type": "stream",
     "text": [
      "\r",
      " 96%|█████████▌| 44/46 [45:31<02:21, 70.77s/it]"
     ]
    },
    {
     "name": "stdout",
     "output_type": "stream",
     "text": [
      "number of anomaly points 0\n",
      "-1007\n"
     ]
    },
    {
     "name": "stderr",
     "output_type": "stream",
     "text": [
      "\r",
      " 98%|█████████▊| 45/46 [45:35<00:50, 50.69s/it]"
     ]
    },
    {
     "name": "stdout",
     "output_type": "stream",
     "text": [
      "number of anomaly points 0\n",
      "-1000\n",
      "number of anomaly points 3\n",
      "4.2245\n"
     ]
    },
    {
     "name": "stderr",
     "output_type": "stream",
     "text": [
      "100%|██████████| 46/46 [46:46<00:00, 61.01s/it]"
     ]
    },
    {
     "name": "stdout",
     "output_type": "stream",
     "text": [
      "ensembe 1.0 auc_baseline 0.3333333333333333\n"
     ]
    },
    {
     "name": "stderr",
     "output_type": "stream",
     "text": [
      "\n"
     ]
    }
   ],
   "source": [
    "rc_ensemble_scores = []\n",
    "rc_baseline_scores = []\n",
    "for i in tqdm(E_Res_singlefamily['Service Point']):\n",
    "    servicepoint=i\n",
    "    print(servicepoint)\n",
    "    kmeans_lof_result_,df_lstm=check_outlier(servicepoint,num_kmeans_outlier=10)\n",
    "    quantile_50=kmeans_lof_result_['Energy_kwh'].quantile(0.5)\n",
    "    kmeans_lof_result_[f'{servicepoint}true_anomaly']=0\n",
    "    kmeans_lof_result_[f'{servicepoint}true_anomaly'] = np.where((kmeans_lof_result_['tavg'] < 5) &\n",
    "                                        (kmeans_lof_result_['Energy_kwh'] < quantile_50), 1,  kmeans_lof_result_[f'{servicepoint}true_anomaly'])\n",
    "    kmeans_lof_result_[f'{servicepoint}true_anomaly'] = np.where((kmeans_lof_result_['tavg'] > 30) & \n",
    "                                        (kmeans_lof_result_['Energy_kwh'] < quantile_50), 1, kmeans_lof_result_[f'{servicepoint}true_anomaly'])\n",
    "    length=12\n",
    "    anomalypoints=len(kmeans_lof_result_['2021-02-10':][kmeans_lof_result_['2021-02-10':][f'{servicepoint}true_anomaly']==1])\n",
    "    print('number of anomaly points',anomalypoints)\n",
    "    if anomalypoints>0:\n",
    "        dataframe=df_lstm[['difference']]\n",
    "        train_sequences,val_sequences,test_sequences=split_sequences(length,dataframe)\n",
    "        rnn_model = RecurrentAutoencoder(seq_len=12,n_features=1, embedding_dim=64,num_layers=2,dropout_rate=0.2)\n",
    "        criterion = nn.L1Loss(reduction='sum')\n",
    "        optimizer = optim.Adam(rnn_model.parameters(), lr=0.001)\n",
    "        total_epochs=50\n",
    "        device = torch.device(\"cuda\" if torch.cuda.is_available() else \"cpu\")\n",
    "        best_val_loss = float('inf')\n",
    "        patience = 10\n",
    "        early_stop_counter = 0\n",
    "        best_model = None  # initialize variable to hold the best model\n",
    "\n",
    "        for epoch in range(total_epochs):\n",
    "          start = time.time()\n",
    "          train_loss = train_lstmae_model(train_sequences, rnn_model, epoch, total_epochs, optimizer, criterion)\n",
    "          val_loss = val_lstmae_model(val_sequences, rnn_model, epoch, total_epochs, criterion)\n",
    "          #print(f'Epoch {epoch}-, Training_loss : {train_loss} ,Validation_loss : {val_loss}, Time :{round(start-time.time(),2)}')\n",
    "          if val_loss < best_val_loss:\n",
    "            best_val_loss = val_loss\n",
    "            early_stop_counter = 0\n",
    "            best_model = copy.deepcopy(rnn_model.state_dict())\n",
    "          else:\n",
    "            early_stop_counter += 1\n",
    "            if early_stop_counter >= patience:\n",
    "              #print(f'Validation loss did not improve for {patience} epochs. Training stopped.')\n",
    "              break\n",
    "        print(best_val_loss)\n",
    "        rnn_model.load_state_dict(best_model)\n",
    "        th=find_threshold(rnn_model,val_sequences)\n",
    "        lstm_results=predict_anomaly(rnn_model,test_sequences,th,df_lstm)\n",
    "        agg_dict = {'error': 'sum', 'anomaly': lambda x: x.mode()[0]}\n",
    "        final_lstm_results=lstm_results.resample('D').agg(agg_dict)\n",
    "        final_lstm_results1=final_lstm_results.rename(columns={'anomaly':'lstm_anomaly'})\n",
    "        final_results=final_lstm_results1.merge(kmeans_lof_result_,left_index=True,right_index=True)\n",
    "        final_results[f'{servicepoint}majority_vote'] = final_results[['lstm_anomaly', \n",
    "                                                        f'{servicepoint}lof_is_outlier', f'{servicepoint}k_means_is_outlier']].mode(axis=1)[0]\n",
    "        rc_ensemble = recall_score(final_results[[f'{servicepoint}true_anomaly']],\n",
    "                                   final_results[[f'{servicepoint}majority_vote']],pos_label=1)\n",
    "        rc_baseline = recall_score(final_results[[f'{servicepoint}true_anomaly']], \n",
    "                                   final_results[[f'{servicepoint}k_means_is_outlier']],pos_label=1)\n",
    "        print('ensembe',rc_ensemble,'auc_baseline',rc_baseline)\n",
    "        rc_ensemble_scores.append(rc_ensemble)\n",
    "        rc_baseline_scores.append(rc_baseline)"
   ]
  },
  {
   "cell_type": "code",
   "execution_count": 10,
   "metadata": {},
   "outputs": [
    {
     "data": {
      "text/html": [
       "<div>\n",
       "<style scoped>\n",
       "    .dataframe tbody tr th:only-of-type {\n",
       "        vertical-align: middle;\n",
       "    }\n",
       "\n",
       "    .dataframe tbody tr th {\n",
       "        vertical-align: top;\n",
       "    }\n",
       "\n",
       "    .dataframe thead th {\n",
       "        text-align: right;\n",
       "    }\n",
       "</style>\n",
       "<table border=\"1\" class=\"dataframe\">\n",
       "  <thead>\n",
       "    <tr style=\"text-align: right;\">\n",
       "      <th></th>\n",
       "      <th>error</th>\n",
       "      <th>lstm_anomaly</th>\n",
       "      <th>mean_-1546</th>\n",
       "      <th>-1546k_means_is_outlier</th>\n",
       "      <th>-1546lof_is_outlier</th>\n",
       "      <th>difference</th>\n",
       "      <th>Energy_kwh</th>\n",
       "      <th>prediction</th>\n",
       "      <th>tavg</th>\n",
       "      <th>-1546true_anomaly</th>\n",
       "      <th>-1546majority_vote</th>\n",
       "    </tr>\n",
       "  </thead>\n",
       "  <tbody>\n",
       "    <tr>\n",
       "      <th>2021-02-11</th>\n",
       "      <td>1.715346</td>\n",
       "      <td>0</td>\n",
       "      <td>20.823186</td>\n",
       "      <td>0</td>\n",
       "      <td>0</td>\n",
       "      <td>34800.779194</td>\n",
       "      <td>167125.142700</td>\n",
       "      <td>132324.363506</td>\n",
       "      <td>0.8</td>\n",
       "      <td>0</td>\n",
       "      <td>0</td>\n",
       "    </tr>\n",
       "    <tr>\n",
       "      <th>2021-02-12</th>\n",
       "      <td>1.835803</td>\n",
       "      <td>0</td>\n",
       "      <td>22.012530</td>\n",
       "      <td>0</td>\n",
       "      <td>0</td>\n",
       "      <td>40744.916924</td>\n",
       "      <td>185098.744141</td>\n",
       "      <td>144353.827216</td>\n",
       "      <td>-0.6</td>\n",
       "      <td>0</td>\n",
       "      <td>0</td>\n",
       "    </tr>\n",
       "    <tr>\n",
       "      <th>2021-02-13</th>\n",
       "      <td>1.651135</td>\n",
       "      <td>0</td>\n",
       "      <td>23.209434</td>\n",
       "      <td>1</td>\n",
       "      <td>0</td>\n",
       "      <td>45799.624371</td>\n",
       "      <td>197331.929932</td>\n",
       "      <td>151532.305561</td>\n",
       "      <td>-1.6</td>\n",
       "      <td>0</td>\n",
       "      <td>0</td>\n",
       "    </tr>\n",
       "    <tr>\n",
       "      <th>2021-02-14</th>\n",
       "      <td>2.238422</td>\n",
       "      <td>0</td>\n",
       "      <td>25.750693</td>\n",
       "      <td>1</td>\n",
       "      <td>1</td>\n",
       "      <td>54244.398966</td>\n",
       "      <td>210652.189819</td>\n",
       "      <td>156407.790853</td>\n",
       "      <td>-4.3</td>\n",
       "      <td>0</td>\n",
       "      <td>1</td>\n",
       "    </tr>\n",
       "    <tr>\n",
       "      <th>2021-02-15</th>\n",
       "      <td>5.032932</td>\n",
       "      <td>0</td>\n",
       "      <td>-17.262327</td>\n",
       "      <td>1</td>\n",
       "      <td>0</td>\n",
       "      <td>-28582.845905</td>\n",
       "      <td>165579.331055</td>\n",
       "      <td>194162.176960</td>\n",
       "      <td>-9.0</td>\n",
       "      <td>0</td>\n",
       "      <td>0</td>\n",
       "    </tr>\n",
       "    <tr>\n",
       "      <th>2021-02-16</th>\n",
       "      <td>13.659542</td>\n",
       "      <td>1</td>\n",
       "      <td>-55.931022</td>\n",
       "      <td>0</td>\n",
       "      <td>1</td>\n",
       "      <td>-69037.820365</td>\n",
       "      <td>123433.861694</td>\n",
       "      <td>192471.682059</td>\n",
       "      <td>-7.6</td>\n",
       "      <td>1</td>\n",
       "      <td>1</td>\n",
       "    </tr>\n",
       "    <tr>\n",
       "      <th>2021-02-17</th>\n",
       "      <td>1.632386</td>\n",
       "      <td>0</td>\n",
       "      <td>-22.413495</td>\n",
       "      <td>1</td>\n",
       "      <td>0</td>\n",
       "      <td>-28516.617251</td>\n",
       "      <td>127229.675598</td>\n",
       "      <td>155746.292849</td>\n",
       "      <td>-1.8</td>\n",
       "      <td>1</td>\n",
       "      <td>0</td>\n",
       "    </tr>\n",
       "    <tr>\n",
       "      <th>2021-02-18</th>\n",
       "      <td>1.150446</td>\n",
       "      <td>0</td>\n",
       "      <td>-3.012497</td>\n",
       "      <td>1</td>\n",
       "      <td>0</td>\n",
       "      <td>-4485.146209</td>\n",
       "      <td>148884.653809</td>\n",
       "      <td>153369.800018</td>\n",
       "      <td>-1.8</td>\n",
       "      <td>0</td>\n",
       "      <td>0</td>\n",
       "    </tr>\n",
       "    <tr>\n",
       "      <th>2021-02-19</th>\n",
       "      <td>0.890224</td>\n",
       "      <td>0</td>\n",
       "      <td>7.926699</td>\n",
       "      <td>1</td>\n",
       "      <td>0</td>\n",
       "      <td>13051.386076</td>\n",
       "      <td>164650.958252</td>\n",
       "      <td>151599.572176</td>\n",
       "      <td>-0.5</td>\n",
       "      <td>0</td>\n",
       "      <td>0</td>\n",
       "    </tr>\n",
       "    <tr>\n",
       "      <th>2021-02-20</th>\n",
       "      <td>0.961980</td>\n",
       "      <td>0</td>\n",
       "      <td>14.652060</td>\n",
       "      <td>0</td>\n",
       "      <td>0</td>\n",
       "      <td>22086.928884</td>\n",
       "      <td>150742.827148</td>\n",
       "      <td>128655.898265</td>\n",
       "      <td>6.6</td>\n",
       "      <td>0</td>\n",
       "      <td>0</td>\n",
       "    </tr>\n",
       "  </tbody>\n",
       "</table>\n",
       "</div>"
      ],
      "text/plain": [
       "                error  lstm_anomaly  mean_-1546  -1546k_means_is_outlier  \\\n",
       "2021-02-11   1.715346             0   20.823186                        0   \n",
       "2021-02-12   1.835803             0   22.012530                        0   \n",
       "2021-02-13   1.651135             0   23.209434                        1   \n",
       "2021-02-14   2.238422             0   25.750693                        1   \n",
       "2021-02-15   5.032932             0  -17.262327                        1   \n",
       "2021-02-16  13.659542             1  -55.931022                        0   \n",
       "2021-02-17   1.632386             0  -22.413495                        1   \n",
       "2021-02-18   1.150446             0   -3.012497                        1   \n",
       "2021-02-19   0.890224             0    7.926699                        1   \n",
       "2021-02-20   0.961980             0   14.652060                        0   \n",
       "\n",
       "            -1546lof_is_outlier    difference     Energy_kwh     prediction  \\\n",
       "2021-02-11                    0  34800.779194  167125.142700  132324.363506   \n",
       "2021-02-12                    0  40744.916924  185098.744141  144353.827216   \n",
       "2021-02-13                    0  45799.624371  197331.929932  151532.305561   \n",
       "2021-02-14                    1  54244.398966  210652.189819  156407.790853   \n",
       "2021-02-15                    0 -28582.845905  165579.331055  194162.176960   \n",
       "2021-02-16                    1 -69037.820365  123433.861694  192471.682059   \n",
       "2021-02-17                    0 -28516.617251  127229.675598  155746.292849   \n",
       "2021-02-18                    0  -4485.146209  148884.653809  153369.800018   \n",
       "2021-02-19                    0  13051.386076  164650.958252  151599.572176   \n",
       "2021-02-20                    0  22086.928884  150742.827148  128655.898265   \n",
       "\n",
       "            tavg  -1546true_anomaly  -1546majority_vote  \n",
       "2021-02-11   0.8                  0                   0  \n",
       "2021-02-12  -0.6                  0                   0  \n",
       "2021-02-13  -1.6                  0                   0  \n",
       "2021-02-14  -4.3                  0                   1  \n",
       "2021-02-15  -9.0                  0                   0  \n",
       "2021-02-16  -7.6                  1                   1  \n",
       "2021-02-17  -1.8                  1                   0  \n",
       "2021-02-18  -1.8                  0                   0  \n",
       "2021-02-19  -0.5                  0                   0  \n",
       "2021-02-20   6.6                  0                   0  "
      ]
     },
     "execution_count": 10,
     "metadata": {},
     "output_type": "execute_result"
    }
   ],
   "source": [
    "final_results"
   ]
  },
  {
   "cell_type": "code",
   "execution_count": 13,
   "metadata": {},
   "outputs": [
    {
     "name": "stdout",
     "output_type": "stream",
     "text": [
      "0.7462121212121211\n"
     ]
    }
   ],
   "source": [
    "ensemble_baseline=sum(rc_ensemble_scores)/len(rc_ensemble_scores)\n",
    "print(ensemble_baseline)"
   ]
  },
  {
   "cell_type": "code",
   "execution_count": 14,
   "metadata": {},
   "outputs": [
    {
     "name": "stdout",
     "output_type": "stream",
     "text": [
      "0.5795454545454546\n"
     ]
    }
   ],
   "source": [
    "kmeans_baseline=sum(rc_baseline_scores)/len(rc_baseline_scores)\n",
    "print(kmeans_baseline)"
   ]
  },
  {
   "cell_type": "code",
   "execution_count": 15,
   "metadata": {},
   "outputs": [
    {
     "data": {
      "text/plain": [
       "28.75816993464049"
      ]
     },
     "execution_count": 15,
     "metadata": {},
     "output_type": "execute_result"
    }
   ],
   "source": [
    "difference=ensemble_baseline-kmeans_baseline\n",
    "100*difference/(kmeans_baseline)\n"
   ]
  },
  {
   "cell_type": "code",
   "execution_count": 16,
   "metadata": {},
   "outputs": [
    {
     "data": {
      "text/plain": [
       "0.5518939393939394"
      ]
     },
     "execution_count": 16,
     "metadata": {},
     "output_type": "execute_result"
    }
   ],
   "source": [
    "avg_kmeans_lof=(kmeans_baseline+lof_baseline)/2\n",
    "avg_kmeans_lof"
   ]
  },
  {
   "cell_type": "code",
   "execution_count": 17,
   "metadata": {},
   "outputs": [
    {
     "data": {
      "text/plain": [
       "35.20933424845572"
      ]
     },
     "execution_count": 17,
     "metadata": {},
     "output_type": "execute_result"
    }
   ],
   "source": [
    "difference1=ensemble_baseline-avg_kmeans_lof\n",
    "100*difference1/(avg_kmeans_lof)\n"
   ]
  },
  {
   "cell_type": "code",
   "execution_count": 19,
   "metadata": {},
   "outputs": [
    {
     "data": {
      "text/plain": [
       "0.35330578512396676"
      ]
     },
     "execution_count": 19,
     "metadata": {},
     "output_type": "execute_result"
    }
   ],
   "source": []
  }
 ],
 "metadata": {
  "kernelspec": {
   "display_name": "Python 3",
   "language": "python",
   "name": "python3"
  },
  "language_info": {
   "codemirror_mode": {
    "name": "ipython",
    "version": 3
   },
   "file_extension": ".py",
   "mimetype": "text/x-python",
   "name": "python",
   "nbconvert_exporter": "python",
   "pygments_lexer": "ipython3",
   "version": "3.6.3"
  }
 },
 "nbformat": 4,
 "nbformat_minor": 2
}
