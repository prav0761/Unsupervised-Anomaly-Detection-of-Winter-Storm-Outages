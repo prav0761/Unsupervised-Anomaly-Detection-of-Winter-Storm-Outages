{
 "cells": [
  {
   "cell_type": "code",
   "execution_count": 1,
   "metadata": {},
   "outputs": [],
   "source": [
    "import os\n",
    "from sklearn.metrics import r2_score\n",
    "import pwlf\n",
    "import pandas as pd\n",
    "import numpy as np\n",
    "import matplotlib.pyplot as plt\n",
    "from tqdm import tqdm\n",
    "import seaborn as sns\n",
    "import sklearn\n",
    "from sklearn.linear_model import LinearRegression\n",
    "%matplotlib inline\n",
    "import missingno as msno\n",
    "np.random.seed(19)\n",
    "from matplotlib.pyplot import figure\n",
    "data_directory = '/work2/05067/nagyz/austin_energy/data/'\n",
    "filepaths = [os.path.join(data_directory,f) for f in os.listdir(data_directory) if f.endswith('.csv')]\n",
    "from datetime import datetime \n",
    "from Graphs import load_data,load_graph_kwh,yearly_graph_kwh,load_graph_count,monthly_graph_kwh,daily_graph_kwh\n",
    "from Graphs import load_graph_kwh_and_count,yearly_graph_kwh_and_count,monthly_graph_kwh_and_count,daily_graph_kwh_and_count\n",
    "from agg_and_heatmap_functions import length,prav3,prav2,prav1,dinostorm,plot_aggraph,heatmap,finalheatmap\n",
    "from sklearn.model_selection import train_test_split\n",
    "from sklearn.pipeline import make_pipeline\n",
    "from sklearn.preprocessing import StandardScaler\n",
    "from sklearn.linear_model import RidgeCV, SGDRegressor\n",
    "from sklearn.ensemble import AdaBoostRegressor, RandomForestRegressor,GradientBoostingRegressor\n",
    "from sklearn.metrics import mean_absolute_error, mean_absolute_percentage_error\n",
    "from sklearn.utils import resample\n",
    "from sklearn.linear_model import LinearRegression\n",
    "from sklearn.metrics import mean_squared_error\n",
    "from sklearn.ensemble import RandomForestClassifier\n",
    "from sklearn.linear_model import LassoCV\n",
    "from sklearn.linear_model import Ridge,Lasso\n",
    "from sklearn.model_selection import GridSearchCV,KFold\n",
    "from sklearn.neural_network import MLPRegressor\n",
    "import xgboost as xgb\n",
    "from sklearn.model_selection import RandomizedSearchCV\n",
    "import warnings\n",
    "warnings.filterwarnings('ignore')\n",
    "from sklearn.model_selection import cross_val_score\n",
    "from sklearn.metrics import accuracy_score\n",
    "from sklearn.metrics import mean_squared_error\n",
    "from sklearn.preprocessing import PolynomialFeatures"
   ]
  },
  {
   "cell_type": "code",
   "execution_count": 2,
   "metadata": {},
   "outputs": [
    {
     "data": {
      "text/plain": [
       "\"for i, row in tqdm(id_list.iterrows()):\\n    point = row['Service Point']\\n    example_ts = pd.read_csv('/work2/05067/nagyz/austin_energy/data/_4_exports_UT/UT_sID_'+str(point)+'_dates_2017.01.01_through_2021.10.01.csv')\\n    example_ts.index = pd.to_datetime(example_ts.index)\\n    example_ts = example_ts.resample('H').mean()\\n    example_ts = example_ts.drop([f'{point} count Value'], axis = 1)\\n    example_ts = example_ts['2021-02':'2021-02']\\n    \\n    \\n    # condition with energy that outage happen\\n    energy = example_ts.iloc[:, 0]\\n    Q3 = np.quantile(energy, 1)\\n    Q1 = np.quantile(energy, 0.1)\\n    energy_con = ~energy['2021-02-12':'2021-02-20'].between(Q1, Q3)\\n\\n    meter_used = example_ts.iloc[:, 1]\\n    Q3 = np.quantile(meter_used, 1)\\n    Q1 = np.quantile(meter_used, 0.1)\\n    meter_used_con = ~meter_used['2021-02-12':'2021-02-20'].between(Q1, Q3)\\n    \\n    happen = len(example_ts['2021-02-12':'2021-02-20'][(energy_con) | (meter_used_con)])\\n    total = len(example_ts['2021-02-12':'2021-02-20'])\\n    percent = round(happen / total * 100, 5)\\n    id_list.loc[i, 'is_effected'] = 1 if percent != 0.0 else 0\\n    id_list.loc[i, 'temporal_percentage'] = percent\""
      ]
     },
     "execution_count": 2,
     "metadata": {},
     "output_type": "execute_result"
    }
   ],
   "source": [
    "\"\"\"for i, row in tqdm(id_list.iterrows()):\n",
    "    point = row['Service Point']\n",
    "    example_ts = pd.read_csv('/work2/05067/nagyz/austin_energy/data/_4_exports_UT/UT_sID_'+str(point)+'_dates_2017.01.01_through_2021.10.01.csv')\n",
    "    example_ts.index = pd.to_datetime(example_ts.index)\n",
    "    example_ts = example_ts.resample('H').mean()\n",
    "    example_ts = example_ts.drop([f'{point} count Value'], axis = 1)\n",
    "    example_ts = example_ts['2021-02':'2021-02']\n",
    "    \n",
    "    \n",
    "    # condition with energy that outage happen\n",
    "    energy = example_ts.iloc[:, 0]\n",
    "    Q3 = np.quantile(energy, 1)\n",
    "    Q1 = np.quantile(energy, 0.1)\n",
    "    energy_con = ~energy['2021-02-12':'2021-02-20'].between(Q1, Q3)\n",
    "\n",
    "    meter_used = example_ts.iloc[:, 1]\n",
    "    Q3 = np.quantile(meter_used, 1)\n",
    "    Q1 = np.quantile(meter_used, 0.1)\n",
    "    meter_used_con = ~meter_used['2021-02-12':'2021-02-20'].between(Q1, Q3)\n",
    "    \n",
    "    happen = len(example_ts['2021-02-12':'2021-02-20'][(energy_con) | (meter_used_con)])\n",
    "    total = len(example_ts['2021-02-12':'2021-02-20'])\n",
    "    percent = round(happen / total * 100, 5)\n",
    "    id_list.loc[i, 'is_effected'] = 1 if percent != 0.0 else 0\n",
    "    id_list.loc[i, 'temporal_percentage'] = percent\"\"\""
   ]
  },
  {
   "cell_type": "code",
   "execution_count": 6,
   "metadata": {},
   "outputs": [
    {
     "data": {
      "text/html": [
       "<div>\n",
       "<style scoped>\n",
       "    .dataframe tbody tr th:only-of-type {\n",
       "        vertical-align: middle;\n",
       "    }\n",
       "\n",
       "    .dataframe tbody tr th {\n",
       "        vertical-align: top;\n",
       "    }\n",
       "\n",
       "    .dataframe thead th {\n",
       "        text-align: right;\n",
       "    }\n",
       "</style>\n",
       "<table border=\"1\" class=\"dataframe\">\n",
       "  <thead>\n",
       "    <tr style=\"text-align: right;\">\n",
       "      <th></th>\n",
       "      <th>Service Point</th>\n",
       "      <th>zipCode</th>\n",
       "      <th>rate</th>\n",
       "      <th>buildingType</th>\n",
       "      <th>meterCount</th>\n",
       "      <th>squareFt</th>\n",
       "      <th>is_effected</th>\n",
       "      <th>temporal_percentage</th>\n",
       "    </tr>\n",
       "  </thead>\n",
       "  <tbody>\n",
       "    <tr>\n",
       "      <th>2</th>\n",
       "      <td>-1609</td>\n",
       "      <td>78759</td>\n",
       "      <td>E-SEC1</td>\n",
       "      <td>SINGLE FAMILY</td>\n",
       "      <td>31</td>\n",
       "      <td>6.123583e+04</td>\n",
       "      <td>1.0</td>\n",
       "      <td>38.42593</td>\n",
       "    </tr>\n",
       "    <tr>\n",
       "      <th>3</th>\n",
       "      <td>-1608</td>\n",
       "      <td>78759</td>\n",
       "      <td>E-RES</td>\n",
       "      <td>SINGLE FAMILY</td>\n",
       "      <td>7996</td>\n",
       "      <td>1.772336e+07</td>\n",
       "      <td>1.0</td>\n",
       "      <td>31.48148</td>\n",
       "    </tr>\n",
       "    <tr>\n",
       "      <th>12</th>\n",
       "      <td>-1599</td>\n",
       "      <td>78759</td>\n",
       "      <td>E-SEC2</td>\n",
       "      <td>MULTIFAMILY</td>\n",
       "      <td>55</td>\n",
       "      <td>5.847722e+05</td>\n",
       "      <td>1.0</td>\n",
       "      <td>17.12963</td>\n",
       "    </tr>\n",
       "    <tr>\n",
       "      <th>13</th>\n",
       "      <td>-1598</td>\n",
       "      <td>78759</td>\n",
       "      <td>E-SEC1</td>\n",
       "      <td>MULTIFAMILY</td>\n",
       "      <td>723</td>\n",
       "      <td>7.835178e+06</td>\n",
       "      <td>1.0</td>\n",
       "      <td>28.24074</td>\n",
       "    </tr>\n",
       "    <tr>\n",
       "      <th>14</th>\n",
       "      <td>-1597</td>\n",
       "      <td>78759</td>\n",
       "      <td>E-RES</td>\n",
       "      <td>MULTIFAMILY</td>\n",
       "      <td>9754</td>\n",
       "      <td>1.018324e+07</td>\n",
       "      <td>1.0</td>\n",
       "      <td>30.09259</td>\n",
       "    </tr>\n",
       "    <tr>\n",
       "      <th>...</th>\n",
       "      <td>...</td>\n",
       "      <td>...</td>\n",
       "      <td>...</td>\n",
       "      <td>...</td>\n",
       "      <td>...</td>\n",
       "      <td>...</td>\n",
       "      <td>...</td>\n",
       "      <td>...</td>\n",
       "    </tr>\n",
       "    <tr>\n",
       "      <th>606</th>\n",
       "      <td>-1004</td>\n",
       "      <td>78617</td>\n",
       "      <td>E-RES</td>\n",
       "      <td>MOHO DOUBLE REAL</td>\n",
       "      <td>78</td>\n",
       "      <td>8.360207e+04</td>\n",
       "      <td>1.0</td>\n",
       "      <td>17.59259</td>\n",
       "    </tr>\n",
       "    <tr>\n",
       "      <th>607</th>\n",
       "      <td>-1003</td>\n",
       "      <td>78617</td>\n",
       "      <td>E-RES</td>\n",
       "      <td>MOHO DOUBLE PP</td>\n",
       "      <td>33</td>\n",
       "      <td>2.008650e+04</td>\n",
       "      <td>1.0</td>\n",
       "      <td>20.37037</td>\n",
       "    </tr>\n",
       "    <tr>\n",
       "      <th>608</th>\n",
       "      <td>-1002</td>\n",
       "      <td>78617</td>\n",
       "      <td>E-RES</td>\n",
       "      <td>DUPLEX</td>\n",
       "      <td>254</td>\n",
       "      <td>1.685170e+05</td>\n",
       "      <td>1.0</td>\n",
       "      <td>1.85185</td>\n",
       "    </tr>\n",
       "    <tr>\n",
       "      <th>609</th>\n",
       "      <td>-1001</td>\n",
       "      <td>78617</td>\n",
       "      <td>E-RES</td>\n",
       "      <td>1 FAM DWELLING, ACCESSORY DWELLING UNIT</td>\n",
       "      <td>21</td>\n",
       "      <td>1.874300e+04</td>\n",
       "      <td>1.0</td>\n",
       "      <td>9.25926</td>\n",
       "    </tr>\n",
       "    <tr>\n",
       "      <th>610</th>\n",
       "      <td>-1000</td>\n",
       "      <td>78610</td>\n",
       "      <td>E-RES</td>\n",
       "      <td>SINGLE FAMILY</td>\n",
       "      <td>32</td>\n",
       "      <td>3.231700e+04</td>\n",
       "      <td>1.0</td>\n",
       "      <td>30.55556</td>\n",
       "    </tr>\n",
       "  </tbody>\n",
       "</table>\n",
       "<p>374 rows × 8 columns</p>\n",
       "</div>"
      ],
      "text/plain": [
       "     Service Point  zipCode    rate                             buildingType  \\\n",
       "2            -1609    78759  E-SEC1                            SINGLE FAMILY   \n",
       "3            -1608    78759   E-RES                            SINGLE FAMILY   \n",
       "12           -1599    78759  E-SEC2                              MULTIFAMILY   \n",
       "13           -1598    78759  E-SEC1                              MULTIFAMILY   \n",
       "14           -1597    78759   E-RES                              MULTIFAMILY   \n",
       "..             ...      ...     ...                                      ...   \n",
       "606          -1004    78617   E-RES                         MOHO DOUBLE REAL   \n",
       "607          -1003    78617   E-RES                           MOHO DOUBLE PP   \n",
       "608          -1002    78617   E-RES                                   DUPLEX   \n",
       "609          -1001    78617   E-RES  1 FAM DWELLING, ACCESSORY DWELLING UNIT   \n",
       "610          -1000    78610   E-RES                            SINGLE FAMILY   \n",
       "\n",
       "     meterCount      squareFt  is_effected  temporal_percentage  \n",
       "2            31  6.123583e+04          1.0             38.42593  \n",
       "3          7996  1.772336e+07          1.0             31.48148  \n",
       "12           55  5.847722e+05          1.0             17.12963  \n",
       "13          723  7.835178e+06          1.0             28.24074  \n",
       "14         9754  1.018324e+07          1.0             30.09259  \n",
       "..          ...           ...          ...                  ...  \n",
       "606          78  8.360207e+04          1.0             17.59259  \n",
       "607          33  2.008650e+04          1.0             20.37037  \n",
       "608         254  1.685170e+05          1.0              1.85185  \n",
       "609          21  1.874300e+04          1.0              9.25926  \n",
       "610          32  3.231700e+04          1.0             30.55556  \n",
       "\n",
       "[374 rows x 8 columns]"
      ]
     },
     "execution_count": 6,
     "metadata": {},
     "output_type": "execute_result"
    }
   ],
   "source": [
    "id_list = pd.read_csv('temporal_percentage1.csv')\n",
    "id_list.drop('Unnamed: 0',axis=1,inplace=True)\n",
    "id_list['buildingType'].unique()\n",
    "res_type = ['SINGLE FAMILY', 'MULTIFAMILY',  'FOURPLEX', \n",
    "            'DUPLEX', 'CONDOS', 'CONDO (STACKED)', \n",
    "            '1 FAM DWELLING, ACCESSORY DWELLING UNIT',\n",
    "            'TOWNHOMES','MOHO SINGLE PP', \n",
    "            '1 FAM DWELLING, GARAGE APARTMENT', 'MOHO DOUBLE PP',\n",
    "            'MOHO SINGLE REAL', 'MOHO DOUBLE REAL', 'TRIPLEX', \n",
    "            '1 FAM DWELLING, MOHO DOUBLE REAL',\n",
    "           '1 FAM DWELLING, MOHO SINGLE REAL']\n",
    "commercial_type = ['SM OFFICE CONDO', 'RESTAURANT',\n",
    "       'OFFICE MED 10-35', 'OFFICE LG >35000', 'OFFICE (SMALL)',\n",
    "       'LG OFFICE CONDO', 'REGIONAL SHOP CT', 'FAST FOOD REST',\n",
    "       'SM STORE <10K SF','CONVENIENCE STOR',\n",
    "       'COMMERCIAL IMPROVED', 'COMMERCIAL SPACE CONDOS',\n",
    "       'OFF HI-RISE >= 6']\n",
    "res_type_id_list = id_list[id_list['buildingType'].isin(res_type)].copy()\n",
    "comm_type_id_list = id_list[id_list['buildingType'].isin(commercial_type)].copy()\n",
    "other_type = [x for x in id_list['buildingType'].unique() if x not in res_type and x not in  commercial_type]\n",
    "other_type_id_list = id_list[id_list['buildingType'].isin(other_type)].copy()\n",
    "res_type_id_list"
   ]
  },
  {
   "cell_type": "code",
   "execution_count": 5,
   "metadata": {},
   "outputs": [],
   "source": [
    "def prepare_data(service_point):\n",
    "    sample=load_data(service_point)\n",
    "    sample=sample.set_index(sample[sample.columns[0]])\n",
    "    sample=sample[sample.columns[1:2]]\n",
    "    sample=sample.resample('D').sum()\n",
    "    return sample"
   ]
  },
  {
   "cell_type": "code",
   "execution_count": 7,
   "metadata": {},
   "outputs": [
    {
     "data": {
      "text/html": [
       "<div>\n",
       "<style scoped>\n",
       "    .dataframe tbody tr th:only-of-type {\n",
       "        vertical-align: middle;\n",
       "    }\n",
       "\n",
       "    .dataframe tbody tr th {\n",
       "        vertical-align: top;\n",
       "    }\n",
       "\n",
       "    .dataframe thead th {\n",
       "        text-align: right;\n",
       "    }\n",
       "</style>\n",
       "<table border=\"1\" class=\"dataframe\">\n",
       "  <thead>\n",
       "    <tr style=\"text-align: right;\">\n",
       "      <th></th>\n",
       "      <th>Energy_kwh</th>\n",
       "    </tr>\n",
       "    <tr>\n",
       "      <th>-1002 kWh DateTime</th>\n",
       "      <th></th>\n",
       "    </tr>\n",
       "  </thead>\n",
       "  <tbody>\n",
       "    <tr>\n",
       "      <th>2017-01-01</th>\n",
       "      <td>1.066800</td>\n",
       "    </tr>\n",
       "    <tr>\n",
       "      <th>2017-01-02</th>\n",
       "      <td>3603.728604</td>\n",
       "    </tr>\n",
       "    <tr>\n",
       "      <th>2017-01-03</th>\n",
       "      <td>4820.952005</td>\n",
       "    </tr>\n",
       "    <tr>\n",
       "      <th>2017-01-04</th>\n",
       "      <td>5877.793034</td>\n",
       "    </tr>\n",
       "    <tr>\n",
       "      <th>2017-01-05</th>\n",
       "      <td>6862.671227</td>\n",
       "    </tr>\n",
       "    <tr>\n",
       "      <th>...</th>\n",
       "      <td>...</td>\n",
       "    </tr>\n",
       "    <tr>\n",
       "      <th>2021-09-27</th>\n",
       "      <td>8883.985233</td>\n",
       "    </tr>\n",
       "    <tr>\n",
       "      <th>2021-09-28</th>\n",
       "      <td>10725.229206</td>\n",
       "    </tr>\n",
       "    <tr>\n",
       "      <th>2021-09-29</th>\n",
       "      <td>9266.954388</td>\n",
       "    </tr>\n",
       "    <tr>\n",
       "      <th>2021-09-30</th>\n",
       "      <td>10008.174553</td>\n",
       "    </tr>\n",
       "    <tr>\n",
       "      <th>2021-10-01</th>\n",
       "      <td>2633.545204</td>\n",
       "    </tr>\n",
       "  </tbody>\n",
       "</table>\n",
       "<p>1735 rows × 1 columns</p>\n",
       "</div>"
      ],
      "text/plain": [
       "                      Energy_kwh\n",
       "-1002 kWh DateTime              \n",
       "2017-01-01              1.066800\n",
       "2017-01-02           3603.728604\n",
       "2017-01-03           4820.952005\n",
       "2017-01-04           5877.793034\n",
       "2017-01-05           6862.671227\n",
       "...                          ...\n",
       "2021-09-27           8883.985233\n",
       "2021-09-28          10725.229206\n",
       "2021-09-29           9266.954388\n",
       "2021-09-30          10008.174553\n",
       "2021-10-01           2633.545204\n",
       "\n",
       "[1735 rows x 1 columns]"
      ]
     },
     "execution_count": 7,
     "metadata": {},
     "output_type": "execute_result"
    },
    {
     "data": {
      "image/png": "[encoded data removed]",
      "text/plain": [
       "<Figure size 432x288 with 1 Axes>"
      ]
     },
     "metadata": {
      "needs_background": "light"
     },
     "output_type": "display_data"
    }
   ],
   "source": [
    "plt.plot(prepare_data(-1002))\n",
    "s=prepare_data(-1002)\n",
    "s = s.rename(columns={list(s.columns.values)[0]: 'Energy_kwh'})\n",
    "s"
   ]
  },
  {
   "cell_type": "code",
   "execution_count": 8,
   "metadata": {},
   "outputs": [
    {
     "data": {
      "text/plain": [
       "time\n",
       "2017-01-04 00:00:00+00:00     5.9\n",
       "2017-01-05 00:00:00+00:00     8.6\n",
       "2017-01-06 00:00:00+00:00    -1.1\n",
       "2017-01-07 00:00:00+00:00    -0.9\n",
       "2017-01-08 00:00:00+00:00     3.0\n",
       "                             ... \n",
       "2021-01-23 00:00:00+00:00    13.8\n",
       "2021-01-26 00:00:00+00:00    14.9\n",
       "2021-01-27 00:00:00+00:00    12.4\n",
       "2021-01-28 00:00:00+00:00     7.8\n",
       "2021-01-29 00:00:00+00:00    11.8\n",
       "Name: tavg, Length: 363, dtype: float64"
      ]
     },
     "execution_count": 8,
     "metadata": {},
     "output_type": "execute_result"
    }
   ],
   "source": [
    "weather_daily=pd.read_csv('Austin_weather_daily.csv')\n",
    "weather_daily['time']=pd.to_datetime(weather_daily['time'],utc=True)\n",
    "weather_daily1=weather_daily.set_index('time',drop=True)\n",
    "weather_austin_daily=weather_daily1['tavg']\n",
    "cool_points=weather_austin_daily[weather_austin_daily<15]['2017-01-01 00:00:00+00:00':'2021-01-31 00:00:00+00:00']\n",
    "cool_points"
   ]
  },
  {
   "cell_type": "code",
   "execution_count": 9,
   "metadata": {},
   "outputs": [
    {
     "data": {
      "text/plain": [
       "time\n",
       "2016-01-01 00:00:00    10.6\n",
       "2016-01-01 01:00:00    10.2\n",
       "2016-01-01 02:00:00    10.2\n",
       "2016-01-01 03:00:00    10.2\n",
       "2016-01-01 04:00:00    10.2\n",
       "                       ... \n",
       "2021-12-31 19:00:00    23.5\n",
       "2021-12-31 20:00:00    25.2\n",
       "2021-12-31 21:00:00    27.4\n",
       "2021-12-31 22:00:00    27.4\n",
       "2021-12-31 23:00:00    27.4\n",
       "Name: temp, Length: 52608, dtype: float64"
      ]
     },
     "execution_count": 9,
     "metadata": {},
     "output_type": "execute_result"
    }
   ],
   "source": [
    "# NOT UTC TIME\n",
    "weather_Pred=pd.read_csv('Austin_hourly.csv')\n",
    "weather_Pred['time']=pd.to_datetime(weather_Pred['time'])\n",
    "weather_pred1=weather_Pred.set_index('time',drop=True)\n",
    "weather_austin_hourl_pred=weather_pred1['temp']\n",
    "weather_austin_hourl_pred"
   ]
  },
  {
   "cell_type": "code",
   "execution_count": 10,
   "metadata": {},
   "outputs": [],
   "source": [
    "train_set=s[:'2021-02-10']\n",
    "test_set=s['2021-02-11':'2021-02-19']\n",
    "resi_train_service=train_set[train_set>0]\n",
    "resi_train_service1=resi_train_service.dropna()"
   ]
  },
  {
   "cell_type": "code",
   "execution_count": 11,
   "metadata": {},
   "outputs": [
    {
     "data": {
      "text/plain": [
       "Text(0.5, 1.0, 'residential_outlier_visualization')"
      ]
     },
     "execution_count": 11,
     "metadata": {},
     "output_type": "execute_result"
    },
    {
     "data": {
      "image/png": "[encoded data removed]",
      "text/plain": [
       "<Figure size 1080x1080 with 4 Axes>"
      ]
     },
     "metadata": {
      "needs_background": "light"
     },
     "output_type": "display_data"
    }
   ],
   "source": [
    "fig, axs = plt.subplots(2,2, figsize=(15,15))\n",
    "axs[0,0].boxplot(train_set[train_set.columns[0]])\n",
    "axs[0,0].set_title('residential_outlier_visualization')\n",
    "# ONLY RESIDENTIAL HAS OUTLIERS"
   ]
  },
  {
   "cell_type": "code",
   "execution_count": 12,
   "metadata": {},
   "outputs": [
    {
     "data": {
      "text/plain": [
       "Text(0.5, 1.0, 'new_residential_outlier_visualization')"
      ]
     },
     "execution_count": 12,
     "metadata": {},
     "output_type": "execute_result"
    },
    {
     "data": {
      "image/png": "[encoded data removed]",
      "text/plain": [
       "<Figure size 1080x360 with 1 Axes>"
      ]
     },
     "metadata": {
      "needs_background": "light"
     },
     "output_type": "display_data"
    }
   ],
   "source": [
    "#Q3= train_set['Energy_kwh'].quantile(0.95)\n",
    "#outliers are explainable and thus included\n",
    "fig, ax1 = plt.subplots(1, figsize=(15,5))\n",
    "ax1.boxplot(resi_train_service1[resi_train_service1.columns[0]])\n",
    "ax1.set_title('new_residential_outlier_visualization')"
   ]
  },
  {
   "cell_type": "code",
   "execution_count": 15,
   "metadata": {},
   "outputs": [],
   "source": [
    "def make_features(dataframe,time_level):\n",
    "    s=dataframe\n",
    "    start_time=s.index[0]\n",
    "    end_time=s.index[-1]\n",
    "    example_ts=s\n",
    "    example_ts['dayofyear_cos']=np.cos(example_ts.index.dayofyear*(2.*np.pi/365))\n",
    "    example_ts['dayofyear_sim']=np.sin(example_ts.index.dayofyear*(2.*np.pi/365))\n",
    "    example_ts['month_cos']=np.cos(example_ts.index.month*(2.*np.pi/12))\n",
    "    example_ts['month_sin']=np.sin(example_ts.index.month*(2.*np.pi/12))\n",
    "    example_ts['year'] = example_ts.index.year\n",
    "\n",
    "    for ts in example_ts.index:\n",
    "        if time_level=='hourly':\n",
    "             example_ts.loc[ts:ts, 'TMP'] = weather_austin_hourl_pred[weather_austin_hourl_pred.index == ts] \n",
    "        else:\n",
    "             example_ts.loc[ts:ts, 'TMP'] = weather_austin_hourl_pred[weather_austin_hourl_pred.index == ts]\n",
    "\n",
    "    return example_ts"
   ]
  },
  {
   "cell_type": "code",
   "execution_count": 16,
   "metadata": {},
   "outputs": [
    {
     "data": {
      "text/html": [
       "<div>\n",
       "<style scoped>\n",
       "    .dataframe tbody tr th:only-of-type {\n",
       "        vertical-align: middle;\n",
       "    }\n",
       "\n",
       "    .dataframe tbody tr th {\n",
       "        vertical-align: top;\n",
       "    }\n",
       "\n",
       "    .dataframe thead th {\n",
       "        text-align: right;\n",
       "    }\n",
       "</style>\n",
       "<table border=\"1\" class=\"dataframe\">\n",
       "  <thead>\n",
       "    <tr style=\"text-align: right;\">\n",
       "      <th></th>\n",
       "      <th>Energy_kwh</th>\n",
       "      <th>dayofyear_cos</th>\n",
       "      <th>dayofyear_sim</th>\n",
       "      <th>month_cos</th>\n",
       "      <th>month_sin</th>\n",
       "      <th>year</th>\n",
       "      <th>TMP</th>\n",
       "    </tr>\n",
       "    <tr>\n",
       "      <th>-1002 kWh DateTime</th>\n",
       "      <th></th>\n",
       "      <th></th>\n",
       "      <th></th>\n",
       "      <th></th>\n",
       "      <th></th>\n",
       "      <th></th>\n",
       "      <th></th>\n",
       "    </tr>\n",
       "  </thead>\n",
       "  <tbody>\n",
       "    <tr>\n",
       "      <th>2021-02-11</th>\n",
       "      <td>11792.794220</td>\n",
       "      <td>0.749826</td>\n",
       "      <td>0.661635</td>\n",
       "      <td>0.5</td>\n",
       "      <td>0.866025</td>\n",
       "      <td>2021</td>\n",
       "      <td>4.1</td>\n",
       "    </tr>\n",
       "    <tr>\n",
       "      <th>2021-02-12</th>\n",
       "      <td>12982.356636</td>\n",
       "      <td>0.738326</td>\n",
       "      <td>0.674444</td>\n",
       "      <td>0.5</td>\n",
       "      <td>0.866025</td>\n",
       "      <td>2021</td>\n",
       "      <td>0.8</td>\n",
       "    </tr>\n",
       "    <tr>\n",
       "      <th>2021-02-13</th>\n",
       "      <td>13557.209969</td>\n",
       "      <td>0.726608</td>\n",
       "      <td>0.687053</td>\n",
       "      <td>0.5</td>\n",
       "      <td>0.866025</td>\n",
       "      <td>2021</td>\n",
       "      <td>-0.4</td>\n",
       "    </tr>\n",
       "    <tr>\n",
       "      <th>2021-02-14</th>\n",
       "      <td>14430.583771</td>\n",
       "      <td>0.714673</td>\n",
       "      <td>0.699458</td>\n",
       "      <td>0.5</td>\n",
       "      <td>0.866025</td>\n",
       "      <td>2021</td>\n",
       "      <td>-0.4</td>\n",
       "    </tr>\n",
       "    <tr>\n",
       "      <th>2021-02-15</th>\n",
       "      <td>16676.288376</td>\n",
       "      <td>0.702527</td>\n",
       "      <td>0.711657</td>\n",
       "      <td>0.5</td>\n",
       "      <td>0.866025</td>\n",
       "      <td>2021</td>\n",
       "      <td>-5.9</td>\n",
       "    </tr>\n",
       "    <tr>\n",
       "      <th>2021-02-16</th>\n",
       "      <td>15815.375992</td>\n",
       "      <td>0.690173</td>\n",
       "      <td>0.723644</td>\n",
       "      <td>0.5</td>\n",
       "      <td>0.866025</td>\n",
       "      <td>2021</td>\n",
       "      <td>-6.5</td>\n",
       "    </tr>\n",
       "    <tr>\n",
       "      <th>2021-02-17</th>\n",
       "      <td>13817.198380</td>\n",
       "      <td>0.677615</td>\n",
       "      <td>0.735417</td>\n",
       "      <td>0.5</td>\n",
       "      <td>0.866025</td>\n",
       "      <td>2021</td>\n",
       "      <td>-4.2</td>\n",
       "    </tr>\n",
       "    <tr>\n",
       "      <th>2021-02-18</th>\n",
       "      <td>14245.777191</td>\n",
       "      <td>0.664855</td>\n",
       "      <td>0.746972</td>\n",
       "      <td>0.5</td>\n",
       "      <td>0.866025</td>\n",
       "      <td>2021</td>\n",
       "      <td>-1.5</td>\n",
       "    </tr>\n",
       "    <tr>\n",
       "      <th>2021-02-19</th>\n",
       "      <td>12908.476776</td>\n",
       "      <td>0.651899</td>\n",
       "      <td>0.758306</td>\n",
       "      <td>0.5</td>\n",
       "      <td>0.866025</td>\n",
       "      <td>2021</td>\n",
       "      <td>-0.4</td>\n",
       "    </tr>\n",
       "  </tbody>\n",
       "</table>\n",
       "</div>"
      ],
      "text/plain": [
       "                      Energy_kwh  dayofyear_cos  dayofyear_sim  month_cos  \\\n",
       "-1002 kWh DateTime                                                          \n",
       "2021-02-11          11792.794220       0.749826       0.661635        0.5   \n",
       "2021-02-12          12982.356636       0.738326       0.674444        0.5   \n",
       "2021-02-13          13557.209969       0.726608       0.687053        0.5   \n",
       "2021-02-14          14430.583771       0.714673       0.699458        0.5   \n",
       "2021-02-15          16676.288376       0.702527       0.711657        0.5   \n",
       "2021-02-16          15815.375992       0.690173       0.723644        0.5   \n",
       "2021-02-17          13817.198380       0.677615       0.735417        0.5   \n",
       "2021-02-18          14245.777191       0.664855       0.746972        0.5   \n",
       "2021-02-19          12908.476776       0.651899       0.758306        0.5   \n",
       "\n",
       "                    month_sin  year  TMP  \n",
       "-1002 kWh DateTime                        \n",
       "2021-02-11           0.866025  2021  4.1  \n",
       "2021-02-12           0.866025  2021  0.8  \n",
       "2021-02-13           0.866025  2021 -0.4  \n",
       "2021-02-14           0.866025  2021 -0.4  \n",
       "2021-02-15           0.866025  2021 -5.9  \n",
       "2021-02-16           0.866025  2021 -6.5  \n",
       "2021-02-17           0.866025  2021 -4.2  \n",
       "2021-02-18           0.866025  2021 -1.5  \n",
       "2021-02-19           0.866025  2021 -0.4  "
      ]
     },
     "execution_count": 16,
     "metadata": {},
     "output_type": "execute_result"
    }
   ],
   "source": [
    "k=5\n",
    "residential_train_Data_servicepoint=make_features(resi_train_service1,'daily')\n",
    "residential_test_data_service_point=make_features(test_set,'daily')\n",
    "resi_winter_temp=residential_test_data_service_point['TMP']\n",
    "residential_test_data_service_point[residential_test_data_service_point.columns[k:]]\n",
    "residential_test_data_service_point"
   ]
  },
  {
   "cell_type": "code",
   "execution_count": 28,
   "metadata": {},
   "outputs": [
    {
     "name": "stdout",
     "output_type": "stream",
     "text": [
      "-0.3163111587830961\n"
     ]
    },
    {
     "data": {
      "image/png": "[encoded data removed]",
      "text/plain": [
       "<Figure size 432x288 with 1 Axes>"
      ]
     },
     "metadata": {
      "needs_background": "light"
     },
     "output_type": "display_data"
    }
   ],
   "source": [
    "resi_below_5=residential_train_Data_servicepoint[residential_train_Data_servicepoint['TMP']<5]\n",
    "plt.scatter(resi_below_5[resi_below_5.columns[-1]],resi_below_5[resi_below_5.columns[0]])\n",
    "plt.xlabel('temperature(celsius)')\n",
    "plt.ylabel('kwh value')\n",
    "plt.title('correlation for residential between temp and kwh value')\n",
    "print(resi_below_5[resi_below_5.columns[-1]].corr(resi_below_5[resi_below_5.columns[0]]))\n",
    "\n"
   ]
  },
  {
   "cell_type": "code",
   "execution_count": 29,
   "metadata": {},
   "outputs": [
    {
     "name": "stdout",
     "output_type": "stream",
     "text": [
      "3166.397605895996 -0.8\n"
     ]
    }
   ],
   "source": [
    "for index,row in resi_below_5[resi_below_5['TMP']<5].iterrows():\n",
    "    if row['Energy_kwh']<8000 and row['TMP']<0:\n",
    "        print(row['Energy_kwh'],row['TMP'])\n",
    "        resi_below_5_1=resi_below_5.drop(index)      "
   ]
  },
  {
   "cell_type": "code",
   "execution_count": 30,
   "metadata": {},
   "outputs": [
    {
     "name": "stdout",
     "output_type": "stream",
     "text": [
      "-0.8718103097666079\n"
     ]
    },
    {
     "data": {
      "text/plain": [
       "LinearRegression()"
      ]
     },
     "execution_count": 30,
     "metadata": {},
     "output_type": "execute_result"
    },
    {
     "data": {
      "image/png": "[encoded data removed]",
      "text/plain": [
       "<Figure size 432x288 with 1 Axes>"
      ]
     },
     "metadata": {
      "needs_background": "light"
     },
     "output_type": "display_data"
    }
   ],
   "source": [
    "q=resi_below_5_1[resi_below_5_1['TMP']<5]\n",
    "plt.scatter(q['TMP'],q['Energy_kwh'])\n",
    "plt.xlabel('temperature(celsius)')\n",
    "plt.ylabel('kwh value')\n",
    "plt.title('correlation for residential between temp and kwh value')\n",
    "m, b = np.polyfit(q['TMP'], q['Energy_kwh'], 1)\n",
    "plt.plot(q['TMP'], m*q['TMP'] + b,color='red')\n",
    "print(q['TMP'].corr(q['Energy_kwh']))\n",
    "train_below_5=q[q.columns[k:]]\n",
    "test_below_5=q['Energy_kwh']\n",
    "lr_5=LinearRegression()\n",
    "lr_5.fit(train_below_5,test_below_5)\n"
   ]
  },
  {
   "cell_type": "code",
   "execution_count": 31,
   "metadata": {},
   "outputs": [
    {
     "name": "stdout",
     "output_type": "stream",
     "text": [
      "0.6874161899600646\n"
     ]
    },
    {
     "data": {
      "text/plain": [
       "LinearRegression()"
      ]
     },
     "execution_count": 31,
     "metadata": {},
     "output_type": "execute_result"
    },
    {
     "data": {
      "image/png": "[encoded data removed]",
      "text/plain": [
       "<Figure size 432x288 with 1 Axes>"
      ]
     },
     "metadata": {
      "needs_background": "light"
     },
     "output_type": "display_data"
    }
   ],
   "source": [
    "resi_test_more_than_5=residential_train_Data_servicepoint[residential_train_Data_servicepoint['TMP']>5]\n",
    "plt.scatter(resi_test_more_than_5['TMP'],resi_test_more_than_5['Energy_kwh'])\n",
    "plt.xlabel('temperature(celsius)')\n",
    "plt.ylabel('kwh value')\n",
    "plt.title('correlation for residential between temp and kwh value')\n",
    "print(resi_test_more_than_5['TMP'].corr(resi_test_more_than_5['Energy_kwh']))\n",
    "train_above_5=resi_test_more_than_5[resi_test_more_than_5.columns[k:]]\n",
    "test_above_5=resi_test_more_than_5['Energy_kwh']\n",
    "lr_above_5=LinearRegression()\n",
    "lr_above_5.fit(train_above_5,test_above_5)\n"
   ]
  },
  {
   "cell_type": "code",
   "execution_count": 33,
   "metadata": {},
   "outputs": [
    {
     "data": {
      "text/html": [
       "<div>\n",
       "<style scoped>\n",
       "    .dataframe tbody tr th:only-of-type {\n",
       "        vertical-align: middle;\n",
       "    }\n",
       "\n",
       "    .dataframe tbody tr th {\n",
       "        vertical-align: top;\n",
       "    }\n",
       "\n",
       "    .dataframe thead th {\n",
       "        text-align: right;\n",
       "    }\n",
       "</style>\n",
       "<table border=\"1\" class=\"dataframe\">\n",
       "  <thead>\n",
       "    <tr style=\"text-align: right;\">\n",
       "      <th></th>\n",
       "      <th>year</th>\n",
       "      <th>TMP</th>\n",
       "    </tr>\n",
       "    <tr>\n",
       "      <th>-1002 kWh DateTime</th>\n",
       "      <th></th>\n",
       "      <th></th>\n",
       "    </tr>\n",
       "  </thead>\n",
       "  <tbody>\n",
       "    <tr>\n",
       "      <th>2021-02-11</th>\n",
       "      <td>2021</td>\n",
       "      <td>4.1</td>\n",
       "    </tr>\n",
       "    <tr>\n",
       "      <th>2021-02-12</th>\n",
       "      <td>2021</td>\n",
       "      <td>0.8</td>\n",
       "    </tr>\n",
       "    <tr>\n",
       "      <th>2021-02-13</th>\n",
       "      <td>2021</td>\n",
       "      <td>-0.4</td>\n",
       "    </tr>\n",
       "    <tr>\n",
       "      <th>2021-02-14</th>\n",
       "      <td>2021</td>\n",
       "      <td>-0.4</td>\n",
       "    </tr>\n",
       "    <tr>\n",
       "      <th>2021-02-15</th>\n",
       "      <td>2021</td>\n",
       "      <td>-5.9</td>\n",
       "    </tr>\n",
       "    <tr>\n",
       "      <th>2021-02-16</th>\n",
       "      <td>2021</td>\n",
       "      <td>-6.5</td>\n",
       "    </tr>\n",
       "    <tr>\n",
       "      <th>2021-02-17</th>\n",
       "      <td>2021</td>\n",
       "      <td>-4.2</td>\n",
       "    </tr>\n",
       "    <tr>\n",
       "      <th>2021-02-18</th>\n",
       "      <td>2021</td>\n",
       "      <td>-1.5</td>\n",
       "    </tr>\n",
       "    <tr>\n",
       "      <th>2021-02-19</th>\n",
       "      <td>2021</td>\n",
       "      <td>-0.4</td>\n",
       "    </tr>\n",
       "  </tbody>\n",
       "</table>\n",
       "</div>"
      ],
      "text/plain": [
       "                    year  TMP\n",
       "-1002 kWh DateTime           \n",
       "2021-02-11          2021  4.1\n",
       "2021-02-12          2021  0.8\n",
       "2021-02-13          2021 -0.4\n",
       "2021-02-14          2021 -0.4\n",
       "2021-02-15          2021 -5.9\n",
       "2021-02-16          2021 -6.5\n",
       "2021-02-17          2021 -4.2\n",
       "2021-02-18          2021 -1.5\n",
       "2021-02-19          2021 -0.4"
      ]
     },
     "execution_count": 33,
     "metadata": {},
     "output_type": "execute_result"
    }
   ],
   "source": [
    "winter_test_data=residential_test_data_service_point[residential_test_data_service_point.columns[k:]]\n",
    "winter_data_below_5=winter_test_data[winter_test_data['TMP']<5]\n",
    "winter_data_above_5=winter_test_data[winter_test_data['TMP']>5]\n",
    "winter_data_below_5"
   ]
  },
  {
   "cell_type": "code",
   "execution_count": 35,
   "metadata": {},
   "outputs": [
    {
     "data": {
      "text/html": [
       "<div>\n",
       "<style scoped>\n",
       "    .dataframe tbody tr th:only-of-type {\n",
       "        vertical-align: middle;\n",
       "    }\n",
       "\n",
       "    .dataframe tbody tr th {\n",
       "        vertical-align: top;\n",
       "    }\n",
       "\n",
       "    .dataframe thead th {\n",
       "        text-align: right;\n",
       "    }\n",
       "</style>\n",
       "<table border=\"1\" class=\"dataframe\">\n",
       "  <thead>\n",
       "    <tr style=\"text-align: right;\">\n",
       "      <th></th>\n",
       "      <th>Energy_kwh</th>\n",
       "      <th>dayofyear_cos</th>\n",
       "      <th>dayofyear_sim</th>\n",
       "      <th>month_cos</th>\n",
       "      <th>month_sin</th>\n",
       "      <th>year</th>\n",
       "      <th>TMP</th>\n",
       "    </tr>\n",
       "    <tr>\n",
       "      <th>-1002 kWh DateTime</th>\n",
       "      <th></th>\n",
       "      <th></th>\n",
       "      <th></th>\n",
       "      <th></th>\n",
       "      <th></th>\n",
       "      <th></th>\n",
       "      <th></th>\n",
       "    </tr>\n",
       "  </thead>\n",
       "  <tbody>\n",
       "    <tr>\n",
       "      <th>2021-02-11</th>\n",
       "      <td>11792.794220</td>\n",
       "      <td>0.749826</td>\n",
       "      <td>0.661635</td>\n",
       "      <td>0.5</td>\n",
       "      <td>0.866025</td>\n",
       "      <td>2021</td>\n",
       "      <td>4.1</td>\n",
       "    </tr>\n",
       "    <tr>\n",
       "      <th>2021-02-12</th>\n",
       "      <td>12982.356636</td>\n",
       "      <td>0.738326</td>\n",
       "      <td>0.674444</td>\n",
       "      <td>0.5</td>\n",
       "      <td>0.866025</td>\n",
       "      <td>2021</td>\n",
       "      <td>0.8</td>\n",
       "    </tr>\n",
       "    <tr>\n",
       "      <th>2021-02-13</th>\n",
       "      <td>13557.209969</td>\n",
       "      <td>0.726608</td>\n",
       "      <td>0.687053</td>\n",
       "      <td>0.5</td>\n",
       "      <td>0.866025</td>\n",
       "      <td>2021</td>\n",
       "      <td>-0.4</td>\n",
       "    </tr>\n",
       "    <tr>\n",
       "      <th>2021-02-14</th>\n",
       "      <td>14430.583771</td>\n",
       "      <td>0.714673</td>\n",
       "      <td>0.699458</td>\n",
       "      <td>0.5</td>\n",
       "      <td>0.866025</td>\n",
       "      <td>2021</td>\n",
       "      <td>-0.4</td>\n",
       "    </tr>\n",
       "    <tr>\n",
       "      <th>2021-02-15</th>\n",
       "      <td>16676.288376</td>\n",
       "      <td>0.702527</td>\n",
       "      <td>0.711657</td>\n",
       "      <td>0.5</td>\n",
       "      <td>0.866025</td>\n",
       "      <td>2021</td>\n",
       "      <td>-5.9</td>\n",
       "    </tr>\n",
       "    <tr>\n",
       "      <th>2021-02-16</th>\n",
       "      <td>15815.375992</td>\n",
       "      <td>0.690173</td>\n",
       "      <td>0.723644</td>\n",
       "      <td>0.5</td>\n",
       "      <td>0.866025</td>\n",
       "      <td>2021</td>\n",
       "      <td>-6.5</td>\n",
       "    </tr>\n",
       "    <tr>\n",
       "      <th>2021-02-17</th>\n",
       "      <td>13817.198380</td>\n",
       "      <td>0.677615</td>\n",
       "      <td>0.735417</td>\n",
       "      <td>0.5</td>\n",
       "      <td>0.866025</td>\n",
       "      <td>2021</td>\n",
       "      <td>-4.2</td>\n",
       "    </tr>\n",
       "    <tr>\n",
       "      <th>2021-02-18</th>\n",
       "      <td>14245.777191</td>\n",
       "      <td>0.664855</td>\n",
       "      <td>0.746972</td>\n",
       "      <td>0.5</td>\n",
       "      <td>0.866025</td>\n",
       "      <td>2021</td>\n",
       "      <td>-1.5</td>\n",
       "    </tr>\n",
       "    <tr>\n",
       "      <th>2021-02-19</th>\n",
       "      <td>12908.476776</td>\n",
       "      <td>0.651899</td>\n",
       "      <td>0.758306</td>\n",
       "      <td>0.5</td>\n",
       "      <td>0.866025</td>\n",
       "      <td>2021</td>\n",
       "      <td>-0.4</td>\n",
       "    </tr>\n",
       "  </tbody>\n",
       "</table>\n",
       "</div>"
      ],
      "text/plain": [
       "                      Energy_kwh  dayofyear_cos  dayofyear_sim  month_cos  \\\n",
       "-1002 kWh DateTime                                                          \n",
       "2021-02-11          11792.794220       0.749826       0.661635        0.5   \n",
       "2021-02-12          12982.356636       0.738326       0.674444        0.5   \n",
       "2021-02-13          13557.209969       0.726608       0.687053        0.5   \n",
       "2021-02-14          14430.583771       0.714673       0.699458        0.5   \n",
       "2021-02-15          16676.288376       0.702527       0.711657        0.5   \n",
       "2021-02-16          15815.375992       0.690173       0.723644        0.5   \n",
       "2021-02-17          13817.198380       0.677615       0.735417        0.5   \n",
       "2021-02-18          14245.777191       0.664855       0.746972        0.5   \n",
       "2021-02-19          12908.476776       0.651899       0.758306        0.5   \n",
       "\n",
       "                    month_sin  year  TMP  \n",
       "-1002 kWh DateTime                        \n",
       "2021-02-11           0.866025  2021  4.1  \n",
       "2021-02-12           0.866025  2021  0.8  \n",
       "2021-02-13           0.866025  2021 -0.4  \n",
       "2021-02-14           0.866025  2021 -0.4  \n",
       "2021-02-15           0.866025  2021 -5.9  \n",
       "2021-02-16           0.866025  2021 -6.5  \n",
       "2021-02-17           0.866025  2021 -4.2  \n",
       "2021-02-18           0.866025  2021 -1.5  \n",
       "2021-02-19           0.866025  2021 -0.4  "
      ]
     },
     "execution_count": 35,
     "metadata": {},
     "output_type": "execute_result"
    }
   ],
   "source": [
    "residential_test_data_service_point"
   ]
  },
  {
   "cell_type": "code",
   "execution_count": 23,
   "metadata": {},
   "outputs": [],
   "source": [
    "pred_below_5=lr_5.predict(winter_data_below_5)\n",
    "#pred_above_5=lr_above_5.predict(winter_data_above_5)"
   ]
  },
  {
   "cell_type": "code",
   "execution_count": 24,
   "metadata": {},
   "outputs": [
    {
     "data": {
      "text/plain": [
       "array([ 8973.74732812, 10692.57220491, 11317.59943283, 11317.59943283,\n",
       "       14182.30756081, 14494.82117477, 13296.85232125, 11890.54105843,\n",
       "       11317.59943283])"
      ]
     },
     "execution_count": 24,
     "metadata": {},
     "output_type": "execute_result"
    }
   ],
   "source": [
    "pred_below_5"
   ]
  },
  {
   "cell_type": "code",
   "execution_count": 25,
   "metadata": {},
   "outputs": [
    {
     "data": {
      "text/plain": [
       "array([ 8973.74732812, 10692.57220491, 11317.59943283, 11317.59943283,\n",
       "       14182.30756081, 14494.82117477, 13296.85232125, 11890.54105843,\n",
       "       11317.59943283])"
      ]
     },
     "execution_count": 25,
     "metadata": {},
     "output_type": "execute_result"
    }
   ],
   "source": [
    "\"\"\"a=pred_above_5[:10]\n",
    "b=pred_below_5\n",
    "c=pred_above_5[10:]\"\"\"\n",
    "a=pred_below_5\n",
    "frames=[a]\n",
    "predictions = np.concatenate(frames)\n",
    "predictions"
   ]
  },
  {
   "cell_type": "code",
   "execution_count": 26,
   "metadata": {},
   "outputs": [
    {
     "data": {
      "image/png": "[encoded data removed]",
      "text/plain": [
       "<Figure size 1200x400 with 1 Axes>"
      ]
     },
     "metadata": {
      "needs_background": "light"
     },
     "output_type": "display_data"
    }
   ],
   "source": [
    "figure(figsize=(15,5), dpi=80)\n",
    "plt.plot(residential_test_data_service_point.index,predictions,label='predicted')\n",
    "plt.plot(residential_test_data_service_point.index,residential_test_data_service_point['Energy_kwh'],label='real')\n",
    "plt.legend()\n",
    "plt.show()"
   ]
  },
  {
   "cell_type": "code",
   "execution_count": 27,
   "metadata": {},
   "outputs": [
    {
     "data": {
      "text/plain": [
       "Text(0.5, 1.0, '-1597_servicepoint')"
      ]
     },
     "execution_count": 27,
     "metadata": {},
     "output_type": "execute_result"
    },
    {
     "data": {
      "text/plain": [
       "<Figure size 1200x800 with 0 Axes>"
      ]
     },
     "metadata": {},
     "output_type": "display_data"
    },
    {
     "data": {
      "image/png": "[encoded data removed]",
      "text/plain": [
       "<Figure size 1080x360 with 2 Axes>"
      ]
     },
     "metadata": {
      "needs_background": "light"
     },
     "output_type": "display_data"
    }
   ],
   "source": [
    "difference=residential_test_data_service_point['Energy_kwh']['2021-02-11':'2021-02-19']-pred_below_5\n",
    "di=pd.DataFrame(difference)\n",
    "di['timestamp']=di.index\n",
    "figure(figsize=(15,10), dpi=80)\n",
    "fig, ax1 = plt.subplots(figsize=(15,5))\n",
    "\n",
    "ax1.bar(di['timestamp'],di['Energy_kwh'],color='blue')\n",
    "ax1.legend(['kwh difference between measured load and predicted load'])\n",
    "\n",
    "ax2=ax1.twinx()\n",
    "ax2.plot(residential_test_data_service_point['TMP']['2021-02-11':'2021-02-19'],color='red')\n",
    "ax2.legend(['temp celcius'])\n",
    "plt.title('-1597_servicepoint')"
   ]
  }
 ],
 "metadata": {
  "kernelspec": {
   "display_name": "Python 3",
   "language": "python",
   "name": "python3"
  },
  "language_info": {
   "codemirror_mode": {
    "name": "ipython",
    "version": 3
   },
   "file_extension": ".py",
   "mimetype": "text/x-python",
   "name": "python",
   "nbconvert_exporter": "python",
   "pygments_lexer": "ipython3",
   "version": "3.7.0"
  }
 },
 "nbformat": 4,
 "nbformat_minor": 2
}
