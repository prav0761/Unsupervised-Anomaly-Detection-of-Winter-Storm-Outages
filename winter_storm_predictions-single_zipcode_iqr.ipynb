{
 "cells": [
  {
   "cell_type": "code",
   "execution_count": 5,
   "metadata": {},
   "outputs": [],
   "source": [
    "import os\n",
    "from fig_gen  import FigureGenerator as fg\n",
    "from sklearn.metrics import r2_score\n",
    "import pwlf\n",
    "import pandas as pd\n",
    "import numpy as np\n",
    "import matplotlib.pyplot as plt\n",
    "from tqdm import tqdm\n",
    "from pathlib import Path\n",
    "import seaborn as sns\n",
    "import sklearn\n",
    "from sklearn.linear_model import LinearRegression\n",
    "%matplotlib inline\n",
    "import missingno as msno\n",
    "np.random.seed(19)\n",
    "from matplotlib.pyplot import figure\n",
    "data_directory = '/work2/05067/nagyz/austin_energy/data/'\n",
    "filepaths = [os.path.join(data_directory,f) for f in os.listdir(data_directory) if f.endswith('.csv')]\n",
    "from datetime import datetime \n",
    "from Graphs import load_data,load_graph_kwh,yearly_graph_kwh,load_graph_count,monthly_graph_kwh,daily_graph_kwh\n",
    "from Graphs import load_graph_kwh_and_count,yearly_graph_kwh_and_count,monthly_graph_kwh_and_count,daily_graph_kwh_and_count\n",
    "from agg_and_heatmap_functions import length,prav3,prav2,prav1,dinostorm,plot_aggraph,heatmap,finalheatmap\n",
    "from sklearn.model_selection import train_test_split\n",
    "from sklearn.pipeline import make_pipeline\n",
    "from sklearn.preprocessing import StandardScaler\n",
    "from sklearn.linear_model import RidgeCV, SGDRegressor\n",
    "from sklearn.ensemble import AdaBoostRegressor, RandomForestRegressor,GradientBoostingRegressor\n",
    "from sklearn.metrics import mean_absolute_error, mean_absolute_percentage_error\n",
    "from sklearn.utils import resample\n",
    "from sklearn.linear_model import LinearRegression\n",
    "from sklearn.metrics import mean_squared_error\n",
    "from sklearn.ensemble import RandomForestClassifier\n",
    "from sklearn.linear_model import LassoCV\n",
    "from sklearn.linear_model import Ridge,Lasso\n",
    "from sklearn.model_selection import GridSearchCV,KFold\n",
    "from sklearn.neural_network import MLPRegressor\n",
    "import xgboost as xgb\n",
    "from sklearn.model_selection import RandomizedSearchCV\n",
    "import warnings\n",
    "warnings.filterwarnings('ignore')\n",
    "from sklearn.model_selection import cross_val_score\n",
    "from sklearn.metrics import accuracy_score\n",
    "from sklearn.metrics import mean_squared_error\n",
    "from sklearn.preprocessing import PolynomialFeatures\n",
    "weather_daily=pd.read_csv('Austin_weather_daily.csv')\n",
    "weather_daily['time']=pd.to_datetime(weather_daily['time'],utc=True)\n",
    "weather_daily1=weather_daily.set_index('time',drop=True)\n",
    "weather_austin_daily=weather_daily1['tavg']\n",
    "cool_points=weather_austin_daily[weather_austin_daily<15]['2017-01-01 00:00:00+00:00':'2021-01-31 00:00:00+00:00']\n",
    "# NOT UTC TIME\n",
    "weather_Pred=pd.read_csv('Austin_hourly.csv')\n",
    "weather_Pred['time']=pd.to_datetime(weather_Pred['time'])\n",
    "weather_pred1=weather_Pred.set_index('time',drop=True)\n",
    "weather_austin_hourl_pred=weather_pred1['temp']\n",
    "import geopandas as gpd\n",
    "from sklearn.preprocessing import MinMaxScaler"
   ]
  },
  {
   "cell_type": "code",
   "execution_count": 6,
   "metadata": {},
   "outputs": [
    {
     "data": {
      "text/html": [
       "<div>\n",
       "<style scoped>\n",
       "    .dataframe tbody tr th:only-of-type {\n",
       "        vertical-align: middle;\n",
       "    }\n",
       "\n",
       "    .dataframe tbody tr th {\n",
       "        vertical-align: top;\n",
       "    }\n",
       "\n",
       "    .dataframe thead th {\n",
       "        text-align: right;\n",
       "    }\n",
       "</style>\n",
       "<table border=\"1\" class=\"dataframe\">\n",
       "  <thead>\n",
       "    <tr style=\"text-align: right;\">\n",
       "      <th></th>\n",
       "      <th>Service Point</th>\n",
       "      <th>zipCode</th>\n",
       "    </tr>\n",
       "  </thead>\n",
       "  <tbody>\n",
       "    <tr>\n",
       "      <th>0</th>\n",
       "      <td>-1612</td>\n",
       "      <td>78759</td>\n",
       "    </tr>\n",
       "    <tr>\n",
       "      <th>3</th>\n",
       "      <td>-1609</td>\n",
       "      <td>78759</td>\n",
       "    </tr>\n",
       "    <tr>\n",
       "      <th>4</th>\n",
       "      <td>-1608</td>\n",
       "      <td>78759</td>\n",
       "    </tr>\n",
       "    <tr>\n",
       "      <th>13</th>\n",
       "      <td>-1599</td>\n",
       "      <td>78759</td>\n",
       "    </tr>\n",
       "    <tr>\n",
       "      <th>14</th>\n",
       "      <td>-1598</td>\n",
       "      <td>78759</td>\n",
       "    </tr>\n",
       "  </tbody>\n",
       "</table>\n",
       "</div>"
      ],
      "text/plain": [
       "    Service Point  zipCode\n",
       "0           -1612    78759\n",
       "3           -1609    78759\n",
       "4           -1608    78759\n",
       "13          -1599    78759\n",
       "14          -1598    78759"
      ]
     },
     "execution_count": 6,
     "metadata": {},
     "output_type": "execute_result"
    }
   ],
   "source": [
    "id_list = pd.read_csv('buildingInfo.csv')\n",
    "\n",
    "#id_list.drop('Unnamed: 0',axis=1,inplace=True)\n",
    "id_list['buildingType'].unique()\n",
    "res_type = ['SINGLE FAMILY', 'MULTIFAMILY',  'FOURPLEX', \n",
    "            'DUPLEX', 'CONDOS', 'CONDO (STACKED)', \n",
    "            '1 FAM DWELLING, ACCESSORY DWELLING UNIT',\n",
    "            'TOWNHOMES','MOHO SINGLE PP', \n",
    "            '1 FAM DWELLING, GARAGE APARTMENT', 'MOHO DOUBLE PP',\n",
    "            'MOHO SINGLE REAL', 'MOHO DOUBLE REAL', 'TRIPLEX', \n",
    "            '1 FAM DWELLING, MOHO DOUBLE REAL',\n",
    "           '1 FAM DWELLING, MOHO SINGLE REAL']\n",
    "res_type_id_list = id_list[id_list['buildingType'].isin(res_type)].copy()\n",
    "res_type_id_list[['Service Point','zipCode']].head()"
   ]
  },
  {
   "cell_type": "code",
   "execution_count": 7,
   "metadata": {},
   "outputs": [
    {
     "data": {
      "text/html": [
       "<div>\n",
       "<style scoped>\n",
       "    .dataframe tbody tr th:only-of-type {\n",
       "        vertical-align: middle;\n",
       "    }\n",
       "\n",
       "    .dataframe tbody tr th {\n",
       "        vertical-align: top;\n",
       "    }\n",
       "\n",
       "    .dataframe thead th {\n",
       "        text-align: right;\n",
       "    }\n",
       "</style>\n",
       "<table border=\"1\" class=\"dataframe\">\n",
       "  <thead>\n",
       "    <tr style=\"text-align: right;\">\n",
       "      <th></th>\n",
       "      <th>Service Point</th>\n",
       "      <th>zipCode</th>\n",
       "      <th>rate</th>\n",
       "      <th>buildingType</th>\n",
       "      <th>meterCount</th>\n",
       "      <th>squareFt</th>\n",
       "    </tr>\n",
       "  </thead>\n",
       "  <tbody>\n",
       "    <tr>\n",
       "      <th>29</th>\n",
       "      <td>-1583</td>\n",
       "      <td>78758</td>\n",
       "      <td>E-SEC2</td>\n",
       "      <td>SINGLE FAMILY</td>\n",
       "      <td>14</td>\n",
       "      <td>7042.125</td>\n",
       "    </tr>\n",
       "    <tr>\n",
       "      <th>30</th>\n",
       "      <td>-1582</td>\n",
       "      <td>78758</td>\n",
       "      <td>E-SEC1</td>\n",
       "      <td>SINGLE FAMILY</td>\n",
       "      <td>25</td>\n",
       "      <td>19913.375</td>\n",
       "    </tr>\n",
       "    <tr>\n",
       "      <th>31</th>\n",
       "      <td>-1581</td>\n",
       "      <td>78758</td>\n",
       "      <td>E-RES</td>\n",
       "      <td>SINGLE FAMILY</td>\n",
       "      <td>5363</td>\n",
       "      <td>8224307.500</td>\n",
       "    </tr>\n",
       "  </tbody>\n",
       "</table>\n",
       "</div>"
      ],
      "text/plain": [
       "    Service Point  zipCode    rate   buildingType  meterCount     squareFt\n",
       "29          -1583    78758  E-SEC2  SINGLE FAMILY          14     7042.125\n",
       "30          -1582    78758  E-SEC1  SINGLE FAMILY          25    19913.375\n",
       "31          -1581    78758   E-RES  SINGLE FAMILY        5363  8224307.500"
      ]
     },
     "execution_count": 7,
     "metadata": {},
     "output_type": "execute_result"
    }
   ],
   "source": [
    "single_Famiy=res_type_id_list[res_type_id_list['buildingType']=='SINGLE FAMILY']\n",
    "single_Famiy[single_Famiy['zipCode']==78758]"
   ]
  },
  {
   "cell_type": "code",
   "execution_count": 8,
   "metadata": {},
   "outputs": [],
   "source": [
    "def prepare_data(service_point):\n",
    "    sample=load_data(service_point)\n",
    "    sample=sample.set_index(sample[sample.columns[0]])\n",
    "    sample=sample[sample.columns[1:2]]\n",
    "    sample=sample.resample('D').sum()\n",
    "    return sample\n",
    "def make_features(dataframe,time_level):\n",
    "    s=dataframe\n",
    "    start_time=s.index[0]\n",
    "    end_time=s.index[-1]\n",
    "    example_ts=s\n",
    "    example_ts['dayofyear_cos']=np.cos(example_ts.index.dayofyear*(2.*np.pi/365))\n",
    "    example_ts['dayofyear_sim']=np.sin(example_ts.index.dayofyear*(2.*np.pi/365))\n",
    "    example_ts['month_cos']=np.cos(example_ts.index.month*(2.*np.pi/12))\n",
    "    example_ts['month_sin']=np.sin(example_ts.index.month*(2.*np.pi/12))\n",
    "    example_ts['year'] = example_ts.index.year\n",
    "\n",
    "    for ts in example_ts.index:\n",
    "        if time_level=='hourly':\n",
    "             example_ts.loc[ts:ts, 'TMP'] = weather_austin_hourl_pred[weather_austin_hourl_pred.index == ts] \n",
    "        else:\n",
    "             example_ts.loc[ts:ts, 'TMP'] = weather_austin_hourl_pred[weather_austin_hourl_pred.index == ts]\n",
    "\n",
    "    return example_ts"
   ]
  },
  {
   "cell_type": "code",
   "execution_count": 9,
   "metadata": {},
   "outputs": [],
   "source": [
    "def function_1581(servicepoint,metric):  \n",
    "    s=prepare_data(servicepoint)\n",
    "    s = s.rename(columns={list(s.columns.values)[0]: 'Energy_kwh'})\n",
    "    train_set=s[:'2021-02-10']\n",
    "    test_set=s['2021-02-11':'2021-02-19']\n",
    "    k=5\n",
    "    residential_train_Data_servicepoint=make_features(train_set,'daily')\n",
    "    residential_test_data_service_point=make_features(test_set,'daily')\n",
    "    resi_winter_temp=residential_test_data_service_point['TMP']\n",
    "    resi_below_5=residential_train_Data_servicepoint[residential_train_Data_servicepoint['TMP']<5]\n",
    "    Q1=resi_below_5[resi_below_5.columns[0]].quantile(0.25)\n",
    "    Q3=resi_below_5[resi_below_5.columns[0]].quantile(0.75)\n",
    "    if servicepoint==-1581:\n",
    "        bad_value=resi_below_5[resi_below_5.columns[0]].quantile(0.80)\n",
    "    else:\n",
    "        bad_value=resi_below_5[resi_below_5.columns[0]].quantile(0.98)\n",
    "    IQR=Q3-Q1\n",
    "    th=Q1-1.5*IQR\n",
    "    indexAge = resi_below_5[ ((resi_below_5['Energy_kwh'] <th ) & (resi_below_5['TMP'] < 0)) |(resi_below_5['Energy_kwh']>bad_value)  ].index\n",
    "    resi_below_5_1=resi_below_5.drop(indexAge)\n",
    "    q=resi_below_5_1[resi_below_5_1['TMP']<5]\n",
    "    \n",
    "    \n",
    "    \n",
    "    m, b = np.polyfit(q['TMP'], q['Energy_kwh'], 1)\n",
    "    train_below_5=q[q.columns[k:]]\n",
    "    test_below_5=q['Energy_kwh']\n",
    "    lr_5=LinearRegression()\n",
    "    lr_5.fit(train_below_5,test_below_5)\n",
    "    resi_test_more_than_5=residential_train_Data_servicepoint[residential_train_Data_servicepoint['TMP']>5]\n",
    "    train_above_5=resi_test_more_than_5[resi_test_more_than_5.columns[k:]]\n",
    "    test_above_5=resi_test_more_than_5['Energy_kwh']\n",
    "    lr_above_5=LinearRegression()\n",
    "    lr_above_5.fit(train_above_5,test_above_5)\n",
    "    winter_test_data=residential_test_data_service_point[residential_test_data_service_point.columns[k:]]\n",
    "    winter_data_below_5=winter_test_data[winter_test_data['TMP']<5]\n",
    "    winter_data_above_5=winter_test_data[winter_test_data['TMP']>5]\n",
    "    \n",
    "    \n",
    "    pred_below_5=lr_5.predict(winter_data_below_5)\n",
    "    a=pred_below_5\n",
    "    frames=[a]\n",
    "    predictions = np.concatenate(frames)\n",
    "    if metric=='perc_diff':\n",
    "        result=100*(pred_below_5-residential_test_data_service_point['Energy_kwh']['2021-02-11':'2021-02-19'])/residential_test_data_service_point['Energy_kwh']['2021-02-11':'2021-02-19']\n",
    "    elif metric=='difference(z_score)':\n",
    "        metric_result=pred_below_5-residential_test_data_service_point['Energy_kwh']['2021-02-11':'2021-02-19']\n",
    "        result=(metric_result-metric_result.mean())/metric_result.std()\n",
    "    elif metric=='perc_diff(reverse)':\n",
    "        result=100*(residential_test_data_service_point['Energy_kwh']['2021-02-11':'2021-02-19']-pred_below_5)/pred_below_5\n",
    "    di=pd.DataFrame(result)\n",
    "    di['timestamp']=di.index\n",
    "    di1=di.rename(columns={'Energy_kwh':servicepoint})\n",
    "    return di1.reset_index().iloc[:,1:].set_index('timestamp',drop=True)"
   ]
  },
  {
   "cell_type": "code",
   "execution_count": 10,
   "metadata": {},
   "outputs": [],
   "source": [
    "def function(servicepoint,metric):  \n",
    "    s=prepare_data(servicepoint)\n",
    "    s = s.rename(columns={list(s.columns.values)[0]: 'Energy_kwh'})\n",
    "    train_set=s[:'2021-02-10']\n",
    "    test_set=s['2021-02-11':'2021-02-19']\n",
    "    k=5\n",
    "    residential_train_Data_servicepoint=make_features(train_set,'daily')\n",
    "    residential_test_data_service_point=make_features(test_set,'daily')\n",
    "    resi_winter_temp=residential_test_data_service_point['TMP']\n",
    "    resi_below_5=residential_train_Data_servicepoint[residential_train_Data_servicepoint['TMP']<5]\n",
    "    Q1=resi_below_5[resi_below_5.columns[0]].quantile(0.25)\n",
    "    Q3=resi_below_5[resi_below_5.columns[0]].quantile(0.75)\n",
    "    IQR=Q3-Q1\n",
    "    th=Q1-1.5*IQR\n",
    "    Index=resi_below_5[(resi_below_5['Energy_kwh'] <th ) & (resi_below_5['TMP'] < 5) ].index\n",
    "    resi_below_5_1=resi_below_5.drop(Index)\n",
    "    q=resi_below_5_1[resi_below_5_1['TMP']<5]\n",
    "    m, b = np.polyfit(q['TMP'], q['Energy_kwh'], 1)\n",
    "    train_below_5=q[q.columns[k:]]\n",
    "    test_below_5=q['Energy_kwh']\n",
    "    lr_5=LinearRegression()\n",
    "    lr_5.fit(train_below_5,test_below_5)\n",
    "    resi_test_more_than_5=residential_train_Data_servicepoint[residential_train_Data_servicepoint['TMP']>5]\n",
    "    train_above_5=resi_test_more_than_5[resi_test_more_than_5.columns[k:]]\n",
    "    test_above_5=resi_test_more_than_5['Energy_kwh']\n",
    "    lr_above_5=LinearRegression()\n",
    "    lr_above_5.fit(train_above_5,test_above_5)\n",
    "    winter_test_data=residential_test_data_service_point[residential_test_data_service_point.columns[k:]]\n",
    "    winter_data_below_5=winter_test_data[winter_test_data['TMP']<5]\n",
    "    winter_data_above_5=winter_test_data[winter_test_data['TMP']>5]\n",
    "    pred_below_5=lr_5.predict(winter_data_below_5)\n",
    "    a=pred_below_5\n",
    "    frames=[a]\n",
    "    predictions = np.concatenate(frames)\n",
    "    if metric=='perc_diff':\n",
    "        result=100*(pred_below_5-residential_test_data_service_point['Energy_kwh']['2021-02-11':'2021-02-19'])/residential_test_data_service_point['Energy_kwh']['2021-02-11':'2021-02-19']\n",
    "    elif metric=='difference(z_score)':\n",
    "        metric_result=pred_below_5-residential_test_data_service_point['Energy_kwh']['2021-02-11':'2021-02-19']\n",
    "        result=(metric_result-metric_result.mean())/metric_result.std()\n",
    "    elif metric=='perc_diff(reverse)':\n",
    "        result=100*(residential_test_data_service_point['Energy_kwh']['2021-02-11':'2021-02-19']-pred_below_5)/pred_below_5\n",
    "    di=pd.DataFrame(result)\n",
    "    di['timestamp']=di.index\n",
    "    di1=di.rename(columns={'Energy_kwh':servicepoint})\n",
    "    return di1.reset_index().iloc[:,1:].set_index('timestamp',drop=True)"
   ]
  },
  {
   "cell_type": "code",
   "execution_count": 11,
   "metadata": {},
   "outputs": [],
   "source": [
    "def preprocess_data(servicepoint):\n",
    "    s=prepare_data(servicepoint)\n",
    "    s = s.rename(columns={list(s.columns.values)[0]: 'Energy_kwh'})\n",
    "    train_set=s['2018-01-01':'2021-02-10']\n",
    "    test_set=s['2021-02-11':'2021-02-19']\n",
    "    residential_train=make_features(train_set,'daily')\n",
    "    residential_test=make_features(test_set,'daily')\n",
    "    Q1=residential_train[residential_train.columns[0]].quantile(0.25)\n",
    "    Q3=residential_train[residential_train.columns[0]].quantile(0.75)\n",
    "    IQR=Q3-Q1\n",
    "    lower_bound=Q1-1.5*IQR\n",
    "    upper_bound=Q3+1.5*IQR\n",
    "    if servicepoint==-1581:\n",
    "        Index=residential_train[((residential_train['Energy_kwh'] <lower_bound ) & (residential_train['TMP'] <=5))\n",
    "                               | (residential_train['Energy_kwh'] >upper_bound )].index\n",
    "    else:\n",
    "        Index=residential_train[(residential_train['Energy_kwh'] <lower_bound ) & (residential_train['TMP'] <=5) ].index\n",
    "    cleaned_train=residential_train.drop(Index)\n",
    "    cleaned_train1=pd.concat([cleaned_train,residential_test])\n",
    "    return cleaned_train1"
   ]
  },
  {
   "cell_type": "code",
   "execution_count": 20,
   "metadata": {},
   "outputs": [],
   "source": [
    "def prediction_model(service_point,visualize=True):\n",
    "    q=preprocess_data(service_point)\n",
    "    train_below_5=q[q['TMP']<=5][['Energy_kwh','TMP','year']][:'2021-02-10']\n",
    "    train_above_5=q[q['TMP']>5][['Energy_kwh','TMP','year']][:'2021-02-10']\n",
    "\n",
    "\n",
    "    m_below,b_below = np.polyfit(train_below_5['TMP'], train_below_5['Energy_kwh'], 1)\n",
    "    if visualize:\n",
    "        plt.scatter(train_below_5['TMP'], train_below_5['Energy_kwh'])\n",
    "        plt.plot(train_below_5['TMP'], m_below*train_below_5['TMP'] +b_below,color='red')\n",
    "        plt.show()\n",
    "        print(train_below_5['TMP'].corr(train_below_5['Energy_kwh']))\n",
    "\n",
    "    m_above,m1_above,b_above = np.polyfit(train_above_5['TMP'], train_above_5['Energy_kwh'], 2)\n",
    "    if visualize:\n",
    "        plt.scatter(train_above_5['TMP'], train_above_5['Energy_kwh'])\n",
    "        plt.plot(train_above_5['TMP'], m_above*train_above_5['TMP']**2 + m1_above*train_above_5['TMP'] + b_above,color='red')\n",
    "        plt.show()\n",
    "        print(train_above_5['TMP'].corr(train_above_5['Energy_kwh']))\n",
    "\n",
    "    test_below_5=q[q['TMP']<=5][['Energy_kwh','TMP','year']]\n",
    "    test_above_5=q[q['TMP']>5][['Energy_kwh','TMP','year']]\n",
    "\n",
    "\n",
    "    Lr_below_5=LinearRegression().fit(train_below_5[train_below_5.columns[1:]], train_below_5[['Energy_kwh']])\n",
    "\n",
    "\n",
    "    polynomial_features= PolynomialFeatures(degree=2)\n",
    "    x_poly = polynomial_features.fit_transform(train_above_5[['TMP']])\n",
    "    Lr_above_5=LinearRegression().fit(x_poly, train_above_5[['Energy_kwh']])\n",
    "\n",
    "    below_5_predictions=pd.DataFrame(Lr_below_5.predict(test_below_5[test_below_5.columns[1:]]),\n",
    "                                     index=test_below_5.index)\n",
    "    below_5_predictions1=test_below_5.merge(below_5_predictions,how='inner',left_index=True,right_index=True)\n",
    "\n",
    "\n",
    "    test_x_poly = polynomial_features.fit_transform(test_above_5[['TMP']])\n",
    "    above_5_predictions=pd.DataFrame(Lr_above_5.predict(test_x_poly),\n",
    "                                     index=test_above_5.index)\n",
    "    above_5_predictions1=test_above_5.merge(above_5_predictions,how='inner',left_index=True,right_index=True)\n",
    "    total_predictions=pd.concat([above_5_predictions1,below_5_predictions1])[['Energy_kwh','TMP',0]]\n",
    "    total_predictions1=total_predictions[total_predictions[0]>0].sort_index().rename(\n",
    "                                                            columns={0: 'prediction'})\n",
    "    total_predictions1['difference']=abs(total_predictions1['prediction']-total_predictions1['Energy_kwh'])\n",
    "    return total_predictions1"
   ]
  },
  {
   "cell_type": "code",
   "execution_count": 25,
   "metadata": {},
   "outputs": [
    {
     "data": {
      "text/plain": [
       "[<matplotlib.lines.Line2D at 0x2abb43684208>]"
      ]
     },
     "execution_count": 25,
     "metadata": {},
     "output_type": "execute_result"
    },
    {
     "data": {
      "image/png": "[encoded data removed]",
      "text/plain": [
       "<Figure size 432x288 with 1 Axes>"
      ]
     },
     "metadata": {
      "needs_background": "light"
     },
     "output_type": "display_data"
    }
   ],
   "source": []
  },
  {
   "cell_type": "code",
   "execution_count": 10,
   "metadata": {},
   "outputs": [
    {
     "data": {
      "text/html": [
       "<div>\n",
       "<style scoped>\n",
       "    .dataframe tbody tr th:only-of-type {\n",
       "        vertical-align: middle;\n",
       "    }\n",
       "\n",
       "    .dataframe tbody tr th {\n",
       "        vertical-align: top;\n",
       "    }\n",
       "\n",
       "    .dataframe thead th {\n",
       "        text-align: right;\n",
       "    }\n",
       "</style>\n",
       "<table border=\"1\" class=\"dataframe\">\n",
       "  <thead>\n",
       "    <tr style=\"text-align: right;\">\n",
       "      <th></th>\n",
       "      <th>11th</th>\n",
       "      <th>12th</th>\n",
       "      <th>13th</th>\n",
       "      <th>14th</th>\n",
       "      <th>15th</th>\n",
       "      <th>16th</th>\n",
       "      <th>17th</th>\n",
       "      <th>18th</th>\n",
       "      <th>19th</th>\n",
       "    </tr>\n",
       "  </thead>\n",
       "  <tbody>\n",
       "    <tr>\n",
       "      <th>-1582</th>\n",
       "      <td>-21.589770</td>\n",
       "      <td>-34.753263</td>\n",
       "      <td>-37.885640</td>\n",
       "      <td>-38.387264</td>\n",
       "      <td>5.353555</td>\n",
       "      <td>170.021296</td>\n",
       "      <td>28.405144</td>\n",
       "      <td>-30.520109</td>\n",
       "      <td>-37.676774</td>\n",
       "    </tr>\n",
       "    <tr>\n",
       "      <th>-1583</th>\n",
       "      <td>-34.537815</td>\n",
       "      <td>-34.465613</td>\n",
       "      <td>-32.901251</td>\n",
       "      <td>-36.694012</td>\n",
       "      <td>-23.122697</td>\n",
       "      <td>-0.569165</td>\n",
       "      <td>-9.383230</td>\n",
       "      <td>-26.615415</td>\n",
       "      <td>-24.601349</td>\n",
       "    </tr>\n",
       "    <tr>\n",
       "      <th>-1581</th>\n",
       "      <td>-16.767091</td>\n",
       "      <td>-16.349632</td>\n",
       "      <td>-16.880691</td>\n",
       "      <td>-21.604099</td>\n",
       "      <td>39.423655</td>\n",
       "      <td>139.775125</td>\n",
       "      <td>107.566966</td>\n",
       "      <td>12.487172</td>\n",
       "      <td>-0.446996</td>\n",
       "    </tr>\n",
       "  </tbody>\n",
       "</table>\n",
       "</div>"
      ],
      "text/plain": [
       "            11th       12th       13th       14th       15th        16th  \\\n",
       "-1582 -21.589770 -34.753263 -37.885640 -38.387264   5.353555  170.021296   \n",
       "-1583 -34.537815 -34.465613 -32.901251 -36.694012 -23.122697   -0.569165   \n",
       "-1581 -16.767091 -16.349632 -16.880691 -21.604099  39.423655  139.775125   \n",
       "\n",
       "             17th       18th       19th  \n",
       "-1582   28.405144 -30.520109 -37.676774  \n",
       "-1583   -9.383230 -26.615415 -24.601349  \n",
       "-1581  107.566966  12.487172  -0.446996  "
      ]
     },
     "execution_count": 10,
     "metadata": {},
     "output_type": "execute_result"
    }
   ],
   "source": [
    "s=function(-1583,'perc_diff')\n",
    "s1=function(-1582,'perc_diff')\n",
    "s2=function_1581(-1581,'perc_diff')\n",
    "#combined_df=s1.merge(s,left_index=True,right_index=True).merge(s2,left_index=True,right_index=True).T\n",
    "#combined_df.columns=['11th','12th','13th','14th','15th','16th','17th','18th','19th']\n",
    "#combined_df"
   ]
  },
  {
   "cell_type": "code",
   "execution_count": 16,
   "metadata": {},
   "outputs": [
    {
     "data": {
      "text/html": [
       "<div>\n",
       "<style scoped>\n",
       "    .dataframe tbody tr th:only-of-type {\n",
       "        vertical-align: middle;\n",
       "    }\n",
       "\n",
       "    .dataframe tbody tr th {\n",
       "        vertical-align: top;\n",
       "    }\n",
       "\n",
       "    .dataframe thead th {\n",
       "        text-align: right;\n",
       "    }\n",
       "</style>\n",
       "<table border=\"1\" class=\"dataframe\">\n",
       "  <thead>\n",
       "    <tr style=\"text-align: right;\">\n",
       "      <th></th>\n",
       "      <th>-1581</th>\n",
       "    </tr>\n",
       "    <tr>\n",
       "      <th>timestamp</th>\n",
       "      <th></th>\n",
       "    </tr>\n",
       "  </thead>\n",
       "  <tbody>\n",
       "    <tr>\n",
       "      <th>2021-02-11</th>\n",
       "      <td>20.144786</td>\n",
       "    </tr>\n",
       "    <tr>\n",
       "      <th>2021-02-12</th>\n",
       "      <td>19.545201</td>\n",
       "    </tr>\n",
       "    <tr>\n",
       "      <th>2021-02-13</th>\n",
       "      <td>20.308989</td>\n",
       "    </tr>\n",
       "    <tr>\n",
       "      <th>2021-02-14</th>\n",
       "      <td>27.557690</td>\n",
       "    </tr>\n",
       "    <tr>\n",
       "      <th>2021-02-15</th>\n",
       "      <td>-28.276159</td>\n",
       "    </tr>\n",
       "    <tr>\n",
       "      <th>2021-02-16</th>\n",
       "      <td>-58.294256</td>\n",
       "    </tr>\n",
       "    <tr>\n",
       "      <th>2021-02-17</th>\n",
       "      <td>-51.822777</td>\n",
       "    </tr>\n",
       "    <tr>\n",
       "      <th>2021-02-18</th>\n",
       "      <td>-11.100974</td>\n",
       "    </tr>\n",
       "    <tr>\n",
       "      <th>2021-02-19</th>\n",
       "      <td>0.449003</td>\n",
       "    </tr>\n",
       "  </tbody>\n",
       "</table>\n",
       "</div>"
      ],
      "text/plain": [
       "                -1581\n",
       "timestamp            \n",
       "2021-02-11  20.144786\n",
       "2021-02-12  19.545201\n",
       "2021-02-13  20.308989\n",
       "2021-02-14  27.557690\n",
       "2021-02-15 -28.276159\n",
       "2021-02-16 -58.294256\n",
       "2021-02-17 -51.822777\n",
       "2021-02-18 -11.100974\n",
       "2021-02-19   0.449003"
      ]
     },
     "execution_count": 16,
     "metadata": {},
     "output_type": "execute_result"
    }
   ],
   "source": [
    "s2"
   ]
  },
  {
   "cell_type": "code",
   "execution_count": 18,
   "metadata": {},
   "outputs": [
    {
     "ename": "KeyError",
     "evalue": "'year'",
     "output_type": "error",
     "traceback": [
      "\u001b[0;31m---------------------------------------------------------------------------\u001b[0m",
      "\u001b[0;31mKeyError\u001b[0m                                  Traceback (most recent call last)",
      "\u001b[0;32m~/.local/lib/python3.7/site-packages/pandas/core/indexes/base.py\u001b[0m in \u001b[0;36mget_loc\u001b[0;34m(self, key, method, tolerance)\u001b[0m\n\u001b[1;32m   2897\u001b[0m             \u001b[0;32mtry\u001b[0m\u001b[0;34m:\u001b[0m\u001b[0;34m\u001b[0m\u001b[0m\n\u001b[0;32m-> 2898\u001b[0;31m                 \u001b[0;32mreturn\u001b[0m \u001b[0mself\u001b[0m\u001b[0;34m.\u001b[0m\u001b[0m_engine\u001b[0m\u001b[0;34m.\u001b[0m\u001b[0mget_loc\u001b[0m\u001b[0;34m(\u001b[0m\u001b[0mcasted_key\u001b[0m\u001b[0;34m)\u001b[0m\u001b[0;34m\u001b[0m\u001b[0m\n\u001b[0m\u001b[1;32m   2899\u001b[0m             \u001b[0;32mexcept\u001b[0m \u001b[0mKeyError\u001b[0m \u001b[0;32mas\u001b[0m \u001b[0merr\u001b[0m\u001b[0;34m:\u001b[0m\u001b[0;34m\u001b[0m\u001b[0m\n",
      "\u001b[0;32mpandas/_libs/index.pyx\u001b[0m in \u001b[0;36mpandas._libs.index.IndexEngine.get_loc\u001b[0;34m()\u001b[0m\n",
      "\u001b[0;32mpandas/_libs/index.pyx\u001b[0m in \u001b[0;36mpandas._libs.index.IndexEngine.get_loc\u001b[0;34m()\u001b[0m\n",
      "\u001b[0;32mpandas/_libs/hashtable_class_helper.pxi\u001b[0m in \u001b[0;36mpandas._libs.hashtable.PyObjectHashTable.get_item\u001b[0;34m()\u001b[0m\n",
      "\u001b[0;32mpandas/_libs/hashtable_class_helper.pxi\u001b[0m in \u001b[0;36mpandas._libs.hashtable.PyObjectHashTable.get_item\u001b[0;34m()\u001b[0m\n",
      "\u001b[0;31mKeyError\u001b[0m: 'year'",
      "\nThe above exception was the direct cause of the following exception:\n",
      "\u001b[0;31mKeyError\u001b[0m                                  Traceback (most recent call last)",
      "\u001b[0;32m<ipython-input-18-d797cafc2931>\u001b[0m in \u001b[0;36m<module>\u001b[0;34m\u001b[0m\n\u001b[0;32m----> 1\u001b[0;31m \u001b[0ma\u001b[0m\u001b[0;34m=\u001b[0m\u001b[0mdetect_outage\u001b[0m\u001b[0;34m(\u001b[0m\u001b[0;34m-\u001b[0m\u001b[0;36m1583\u001b[0m\u001b[0;34m)\u001b[0m\u001b[0;34m\u001b[0m\u001b[0m\n\u001b[0m\u001b[1;32m      2\u001b[0m \u001b[0ma1\u001b[0m\u001b[0;34m=\u001b[0m\u001b[0mdetect_outage\u001b[0m\u001b[0;34m(\u001b[0m\u001b[0;34m-\u001b[0m\u001b[0;36m1582\u001b[0m\u001b[0;34m)\u001b[0m\u001b[0;34m\u001b[0m\u001b[0m\n\u001b[1;32m      3\u001b[0m \u001b[0ma2\u001b[0m\u001b[0;34m=\u001b[0m\u001b[0mdetect_outage\u001b[0m\u001b[0;34m(\u001b[0m\u001b[0;34m-\u001b[0m\u001b[0;36m1581\u001b[0m\u001b[0;34m)\u001b[0m\u001b[0;34m\u001b[0m\u001b[0m\n\u001b[1;32m      4\u001b[0m \u001b[0mcombined_a\u001b[0m\u001b[0;34m=\u001b[0m\u001b[0ma1\u001b[0m\u001b[0;34m.\u001b[0m\u001b[0mmerge\u001b[0m\u001b[0;34m(\u001b[0m\u001b[0ma\u001b[0m\u001b[0;34m,\u001b[0m\u001b[0mleft_index\u001b[0m\u001b[0;34m=\u001b[0m\u001b[0;32mTrue\u001b[0m\u001b[0;34m,\u001b[0m\u001b[0mright_index\u001b[0m\u001b[0;34m=\u001b[0m\u001b[0;32mTrue\u001b[0m\u001b[0;34m)\u001b[0m\u001b[0;34m.\u001b[0m\u001b[0mmerge\u001b[0m\u001b[0;34m(\u001b[0m\u001b[0ma2\u001b[0m\u001b[0;34m,\u001b[0m\u001b[0mleft_index\u001b[0m\u001b[0;34m=\u001b[0m\u001b[0;32mTrue\u001b[0m\u001b[0;34m,\u001b[0m\u001b[0mright_index\u001b[0m\u001b[0;34m=\u001b[0m\u001b[0;32mTrue\u001b[0m\u001b[0;34m)\u001b[0m\u001b[0;34m.\u001b[0m\u001b[0mT\u001b[0m\u001b[0;34m\u001b[0m\u001b[0m\n\u001b[1;32m      5\u001b[0m \u001b[0mcombined_a\u001b[0m\u001b[0;34m.\u001b[0m\u001b[0mcolumns\u001b[0m\u001b[0;34m=\u001b[0m\u001b[0;34m[\u001b[0m\u001b[0;34m'11th'\u001b[0m\u001b[0;34m,\u001b[0m\u001b[0;34m'12th'\u001b[0m\u001b[0;34m,\u001b[0m\u001b[0;34m'13th'\u001b[0m\u001b[0;34m,\u001b[0m\u001b[0;34m'14th'\u001b[0m\u001b[0;34m,\u001b[0m\u001b[0;34m'15th'\u001b[0m\u001b[0;34m,\u001b[0m\u001b[0;34m'16th'\u001b[0m\u001b[0;34m,\u001b[0m\u001b[0;34m'17th'\u001b[0m\u001b[0;34m,\u001b[0m\u001b[0;34m'18th'\u001b[0m\u001b[0;34m,\u001b[0m\u001b[0;34m'19th'\u001b[0m\u001b[0;34m]\u001b[0m\u001b[0;34m\u001b[0m\u001b[0m\n",
      "\u001b[0;32m<ipython-input-17-a161aea62571>\u001b[0m in \u001b[0;36mdetect_outage\u001b[0;34m(servicepoint)\u001b[0m\n\u001b[1;32m      2\u001b[0m     \u001b[0ms\u001b[0m\u001b[0;34m=\u001b[0m\u001b[0mprepare_data\u001b[0m\u001b[0;34m(\u001b[0m\u001b[0mservicepoint\u001b[0m\u001b[0;34m)\u001b[0m\u001b[0;34m\u001b[0m\u001b[0m\n\u001b[1;32m      3\u001b[0m     \u001b[0ms\u001b[0m \u001b[0;34m=\u001b[0m \u001b[0ms\u001b[0m\u001b[0;34m.\u001b[0m\u001b[0mrename\u001b[0m\u001b[0;34m(\u001b[0m\u001b[0mcolumns\u001b[0m\u001b[0;34m=\u001b[0m\u001b[0;34m{\u001b[0m\u001b[0mlist\u001b[0m\u001b[0;34m(\u001b[0m\u001b[0ms\u001b[0m\u001b[0;34m.\u001b[0m\u001b[0mcolumns\u001b[0m\u001b[0;34m.\u001b[0m\u001b[0mvalues\u001b[0m\u001b[0;34m)\u001b[0m\u001b[0;34m[\u001b[0m\u001b[0;36m0\u001b[0m\u001b[0;34m]\u001b[0m\u001b[0;34m:\u001b[0m \u001b[0;34m'Energy_kwh'\u001b[0m\u001b[0;34m}\u001b[0m\u001b[0;34m)\u001b[0m\u001b[0;34m\u001b[0m\u001b[0m\n\u001b[0;32m----> 4\u001b[0;31m     \u001b[0ma1\u001b[0m\u001b[0;34m=\u001b[0m\u001b[0ms\u001b[0m\u001b[0;34m[\u001b[0m\u001b[0ms\u001b[0m\u001b[0;34m[\u001b[0m\u001b[0;34m'year'\u001b[0m\u001b[0;34m]\u001b[0m\u001b[0;34m!=\u001b[0m\u001b[0;36m2017\u001b[0m\u001b[0;34m]\u001b[0m\u001b[0;34m[\u001b[0m\u001b[0;34m'Energy_kwh'\u001b[0m\u001b[0;34m]\u001b[0m\u001b[0;34m\u001b[0m\u001b[0m\n\u001b[0m\u001b[1;32m      5\u001b[0m     \u001b[0mdf\u001b[0m\u001b[0;34m[\u001b[0m\u001b[0;34m'is_outage'\u001b[0m\u001b[0;34m]\u001b[0m\u001b[0;34m=\u001b[0m\u001b[0;36m0\u001b[0m\u001b[0;34m\u001b[0m\u001b[0m\n\u001b[1;32m      6\u001b[0m     \u001b[0mQ1\u001b[0m\u001b[0;34m=\u001b[0m\u001b[0ma1\u001b[0m\u001b[0;34m.\u001b[0m\u001b[0mquantile\u001b[0m\u001b[0;34m(\u001b[0m\u001b[0;36m0.25\u001b[0m\u001b[0;34m)\u001b[0m\u001b[0;34m\u001b[0m\u001b[0m\n",
      "\u001b[0;32m~/.local/lib/python3.7/site-packages/pandas/core/frame.py\u001b[0m in \u001b[0;36m__getitem__\u001b[0;34m(self, key)\u001b[0m\n\u001b[1;32m   2904\u001b[0m             \u001b[0;32mif\u001b[0m \u001b[0mself\u001b[0m\u001b[0;34m.\u001b[0m\u001b[0mcolumns\u001b[0m\u001b[0;34m.\u001b[0m\u001b[0mnlevels\u001b[0m \u001b[0;34m>\u001b[0m \u001b[0;36m1\u001b[0m\u001b[0;34m:\u001b[0m\u001b[0;34m\u001b[0m\u001b[0m\n\u001b[1;32m   2905\u001b[0m                 \u001b[0;32mreturn\u001b[0m \u001b[0mself\u001b[0m\u001b[0;34m.\u001b[0m\u001b[0m_getitem_multilevel\u001b[0m\u001b[0;34m(\u001b[0m\u001b[0mkey\u001b[0m\u001b[0;34m)\u001b[0m\u001b[0;34m\u001b[0m\u001b[0m\n\u001b[0;32m-> 2906\u001b[0;31m             \u001b[0mindexer\u001b[0m \u001b[0;34m=\u001b[0m \u001b[0mself\u001b[0m\u001b[0;34m.\u001b[0m\u001b[0mcolumns\u001b[0m\u001b[0;34m.\u001b[0m\u001b[0mget_loc\u001b[0m\u001b[0;34m(\u001b[0m\u001b[0mkey\u001b[0m\u001b[0;34m)\u001b[0m\u001b[0;34m\u001b[0m\u001b[0m\n\u001b[0m\u001b[1;32m   2907\u001b[0m             \u001b[0;32mif\u001b[0m \u001b[0mis_integer\u001b[0m\u001b[0;34m(\u001b[0m\u001b[0mindexer\u001b[0m\u001b[0;34m)\u001b[0m\u001b[0;34m:\u001b[0m\u001b[0;34m\u001b[0m\u001b[0m\n\u001b[1;32m   2908\u001b[0m                 \u001b[0mindexer\u001b[0m \u001b[0;34m=\u001b[0m \u001b[0;34m[\u001b[0m\u001b[0mindexer\u001b[0m\u001b[0;34m]\u001b[0m\u001b[0;34m\u001b[0m\u001b[0m\n",
      "\u001b[0;32m~/.local/lib/python3.7/site-packages/pandas/core/indexes/base.py\u001b[0m in \u001b[0;36mget_loc\u001b[0;34m(self, key, method, tolerance)\u001b[0m\n\u001b[1;32m   2898\u001b[0m                 \u001b[0;32mreturn\u001b[0m \u001b[0mself\u001b[0m\u001b[0;34m.\u001b[0m\u001b[0m_engine\u001b[0m\u001b[0;34m.\u001b[0m\u001b[0mget_loc\u001b[0m\u001b[0;34m(\u001b[0m\u001b[0mcasted_key\u001b[0m\u001b[0;34m)\u001b[0m\u001b[0;34m\u001b[0m\u001b[0m\n\u001b[1;32m   2899\u001b[0m             \u001b[0;32mexcept\u001b[0m \u001b[0mKeyError\u001b[0m \u001b[0;32mas\u001b[0m \u001b[0merr\u001b[0m\u001b[0;34m:\u001b[0m\u001b[0;34m\u001b[0m\u001b[0m\n\u001b[0;32m-> 2900\u001b[0;31m                 \u001b[0;32mraise\u001b[0m \u001b[0mKeyError\u001b[0m\u001b[0;34m(\u001b[0m\u001b[0mkey\u001b[0m\u001b[0;34m)\u001b[0m \u001b[0;32mfrom\u001b[0m \u001b[0merr\u001b[0m\u001b[0;34m\u001b[0m\u001b[0m\n\u001b[0m\u001b[1;32m   2901\u001b[0m \u001b[0;34m\u001b[0m\u001b[0m\n\u001b[1;32m   2902\u001b[0m         \u001b[0;32mif\u001b[0m \u001b[0mtolerance\u001b[0m \u001b[0;32mis\u001b[0m \u001b[0;32mnot\u001b[0m \u001b[0;32mNone\u001b[0m\u001b[0;34m:\u001b[0m\u001b[0;34m\u001b[0m\u001b[0m\n",
      "\u001b[0;31mKeyError\u001b[0m: 'year'"
     ]
    }
   ],
   "source": [
    "a=detect_outage(-1583)\n",
    "a1=detect_outage(-1582)\n",
    "a2=detect_outage(-1581)\n",
    "combined_a=a1.merge(a,left_index=True,right_index=True).merge(a2,left_index=True,right_index=True).T\n",
    "combined_a.columns=['11th','12th','13th','14th','15th','16th','17th','18th','19th']\n",
    "combined_a"
   ]
  },
  {
   "cell_type": "code",
   "execution_count": 12,
   "metadata": {},
   "outputs": [
    {
     "data": {
      "text/html": [
       "<div>\n",
       "<style scoped>\n",
       "    .dataframe tbody tr th:only-of-type {\n",
       "        vertical-align: middle;\n",
       "    }\n",
       "\n",
       "    .dataframe tbody tr th {\n",
       "        vertical-align: top;\n",
       "    }\n",
       "\n",
       "    .dataframe thead th {\n",
       "        text-align: right;\n",
       "    }\n",
       "</style>\n",
       "<table border=\"1\" class=\"dataframe\">\n",
       "  <thead>\n",
       "    <tr style=\"text-align: right;\">\n",
       "      <th></th>\n",
       "      <th>11th</th>\n",
       "      <th>12th</th>\n",
       "      <th>13th</th>\n",
       "      <th>14th</th>\n",
       "      <th>15th</th>\n",
       "      <th>16th</th>\n",
       "      <th>17th</th>\n",
       "      <th>18th</th>\n",
       "      <th>19th</th>\n",
       "    </tr>\n",
       "  </thead>\n",
       "  <tbody>\n",
       "    <tr>\n",
       "      <th>-1582</th>\n",
       "      <td>-21.589770</td>\n",
       "      <td>-34.753263</td>\n",
       "      <td>-37.885640</td>\n",
       "      <td>-38.387264</td>\n",
       "      <td>5.353555</td>\n",
       "      <td>170.021296</td>\n",
       "      <td>28.405144</td>\n",
       "      <td>-30.520109</td>\n",
       "      <td>-37.676774</td>\n",
       "    </tr>\n",
       "    <tr>\n",
       "      <th>-1583</th>\n",
       "      <td>-34.537815</td>\n",
       "      <td>-34.465613</td>\n",
       "      <td>-32.901251</td>\n",
       "      <td>-36.694012</td>\n",
       "      <td>-23.122697</td>\n",
       "      <td>-0.569165</td>\n",
       "      <td>-9.383230</td>\n",
       "      <td>-26.615415</td>\n",
       "      <td>-24.601349</td>\n",
       "    </tr>\n",
       "    <tr>\n",
       "      <th>-1581</th>\n",
       "      <td>-16.767091</td>\n",
       "      <td>-16.349632</td>\n",
       "      <td>-16.880691</td>\n",
       "      <td>-21.604099</td>\n",
       "      <td>39.423655</td>\n",
       "      <td>139.775125</td>\n",
       "      <td>107.566966</td>\n",
       "      <td>12.487172</td>\n",
       "      <td>-0.446996</td>\n",
       "    </tr>\n",
       "  </tbody>\n",
       "</table>\n",
       "</div>"
      ],
      "text/plain": [
       "            11th       12th       13th       14th       15th        16th  \\\n",
       "-1582 -21.589770 -34.753263 -37.885640 -38.387264   5.353555  170.021296   \n",
       "-1583 -34.537815 -34.465613 -32.901251 -36.694012 -23.122697   -0.569165   \n",
       "-1581 -16.767091 -16.349632 -16.880691 -21.604099  39.423655  139.775125   \n",
       "\n",
       "             17th       18th       19th  \n",
       "-1582   28.405144 -30.520109 -37.676774  \n",
       "-1583   -9.383230 -26.615415 -24.601349  \n",
       "-1581  107.566966  12.487172  -0.446996  "
      ]
     },
     "execution_count": 12,
     "metadata": {},
     "output_type": "execute_result"
    }
   ],
   "source": [
    "\n",
    "combined_df.columns=['11th','12th','13th','14th','15th','16th','17th','18th','19th']\n",
    "combined_df"
   ]
  },
  {
   "cell_type": "code",
   "execution_count": 14,
   "metadata": {},
   "outputs": [
    {
     "data": {
      "text/plain": [
       "Text(114.0, 0.5, 'servicepoint')"
      ]
     },
     "execution_count": 14,
     "metadata": {},
     "output_type": "execute_result"
    },
    {
     "data": {
      "image/png": "[encoded data removed]",
      "text/plain": [
       "<Figure size 1080x360 with 2 Axes>"
      ]
     },
     "metadata": {
      "needs_background": "light"
     },
     "output_type": "display_data"
    }
   ],
   "source": [
    "fig, ax1 = plt.subplots(figsize=(15,5))\n",
    "sns.heatmap(combined_df,vmin=-100,vmax=100,cmap='RdBu_r',ax=ax1,linewidths = 1,annot=np.array(combined_a),linecolor='black')\n",
    "degrees = 0\n",
    "plt.yticks(rotation=degrees)\n",
    "plt.xticks(rotation=degrees)\n",
    "plt.xlabel('date')\n",
    "plt.ylabel('servicepoint')\n"
   ]
  },
  {
   "cell_type": "code",
   "execution_count": 15,
   "metadata": {
    "scrolled": true
   },
   "outputs": [
    {
     "data": {
      "text/plain": [
       "Text(114.0, 0.5, 'servicepoint')"
      ]
     },
     "execution_count": 15,
     "metadata": {},
     "output_type": "execute_result"
    },
    {
     "data": {
      "image/png": "[encoded data removed]",
      "text/plain": [
       "<Figure size 1080x360 with 2 Axes>"
      ]
     },
     "metadata": {
      "needs_background": "light"
     },
     "output_type": "display_data"
    }
   ],
   "source": [
    "s=function(-1583,'perc_diff(reverse)')\n",
    "s1=function(-1582,'perc_diff(reverse)')\n",
    "s2=function_1581(-1581,'perc_diff(reverse)')\n",
    "combined_df=s1.merge(s,left_index=True,right_index=True).merge(s2,left_index=True,right_index=True).T\n",
    "combined_df.columns=['11th','12th','13th','14th','15th','16th','17th','18th','19th']\n",
    "fig, ax1 = plt.subplots(figsize=(15,5))\n",
    "sns.heatmap(combined_df,vmax=100,vmin=-100,cmap='RdBu_r',ax=ax1,linewidths = 1,annot=np.array(combined_a),linecolor='black')\n",
    "degrees = 0\n",
    "plt.yticks(rotation=degrees)\n",
    "plt.xticks(rotation=degrees)\n",
    "plt.xlabel('date')\n",
    "plt.ylabel('servicepoint')\n"
   ]
  },
  {
   "cell_type": "code",
   "execution_count": 18,
   "metadata": {},
   "outputs": [
    {
     "data": {
      "text/plain": [
       "Text(114.0, 0.5, 'servicepoint')"
      ]
     },
     "execution_count": 18,
     "metadata": {},
     "output_type": "execute_result"
    },
    {
     "data": {
      "image/png": "[encoded data removed]",
      "text/plain": [
       "<Figure size 1080x360 with 2 Axes>"
      ]
     },
     "metadata": {
      "needs_background": "light"
     },
     "output_type": "display_data"
    }
   ],
   "source": [
    "s=function(-1583,'difference(z_score)')\n",
    "s1=function(-1582,'difference(z_score)')\n",
    "s2=function_1581(-1581,'difference(z_score)')\n",
    "combined_df=s1.merge(s,left_index=True,right_index=True).merge(s2,left_index=True,right_index=True).T\n",
    "combined_df.columns=['11th','12th','13th','14th','15th','16th','17th','18th','19th']\n",
    "fig, ax1 = plt.subplots(figsize=(15,5))\n",
    "sns.heatmap(combined_df,vmin=-3,vmax=3,cmap='RdBu_r',ax=ax1,linewidths = 1,annot=np.array(combined_a),linecolor='black')\n",
    "degrees = 0\n",
    "plt.yticks(rotation=degrees)\n",
    "plt.xticks(rotation=degrees)\n",
    "plt.xlabel('date')\n",
    "plt.ylabel('servicepoint')"
   ]
  }
 ],
 "metadata": {
  "kernelspec": {
   "display_name": "Python 3",
   "language": "python",
   "name": "python3"
  },
  "language_info": {
   "codemirror_mode": {
    "name": "ipython",
    "version": 3
   },
   "file_extension": ".py",
   "mimetype": "text/x-python",
   "name": "python",
   "nbconvert_exporter": "python",
   "pygments_lexer": "ipython3",
   "version": "3.7.0"
  }
 },
 "nbformat": 4,
 "nbformat_minor": 2
}
